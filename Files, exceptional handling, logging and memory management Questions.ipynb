{
 "cells": [
  {
   "cell_type": "code",
   "execution_count": 1,
   "id": "f06b0ab3-63a8-4077-ade5-8a647cbdfac5",
   "metadata": {},
   "outputs": [],
   "source": [
    "## Assignment 5: Files, exceptional handling, logging and memory management Questions  ##"
   ]
  },
  {
   "cell_type": "code",
   "execution_count": 2,
   "id": "83779790-1597-4345-b2fe-3c66da632550",
   "metadata": {},
   "outputs": [],
   "source": [
    "#1. What is the difference between interpreted and compiled languages?\n",
    "\n",
    "    # - The difference between interpreted and compiled languages lies in how their code is translated into machine-readable instructions.\n",
    "\n",
    "# Compiled Languages:- The entire source code is translated into machine code by a compiler before it runs.\n",
    "# Examples: C, C++, Go, Rust, Swift\n",
    "\n",
    "# Interpreted Languages:- Source code is executed line-by-line by an interpreter at runtime.\n",
    "# Examples: Python, JavaScript, Ruby, PHP"
   ]
  },
  {
   "cell_type": "code",
   "execution_count": null,
   "id": "fe0a3d17-cc63-469c-b6bc-53e6814ae744",
   "metadata": {},
   "outputs": [],
   "source": [
    "#2. What is exception handling in Python?\n",
    "\n",
    "    # - An exception is an error that occurs during the execution of a program.\n",
    "# Examples: (a) Division by zero (ZeroDivisionError)\n",
    "#           (b)Accessing a missing file (FileNotFoundError)\n",
    "\n",
    "# Exception handling:- Exception handling in Python is a way to manage and respond to runtime errors (called exceptions) so your program can fail gracefully, \n",
    "#                       instead of crashing."
   ]
  },
  {
   "cell_type": "code",
   "execution_count": null,
   "id": "10b3a719-f46a-4711-898d-8ea2379b8b5e",
   "metadata": {},
   "outputs": [],
   "source": [
    "#3. What is the purpose of the finally block in exception handling?\n",
    "\n",
    "    # - The finally block in Python is used to define cleanup actions that must be executed, no matter what — whether an exception occurred or not. "
   ]
  },
  {
   "cell_type": "code",
   "execution_count": null,
   "id": "1c366245-3d0c-42d6-a949-788f0361d4cd",
   "metadata": {},
   "outputs": [],
   "source": [
    "#4. What is logging in Python?\n",
    "\n",
    "    # - Logging in Python is a way to record messages about the execution of your program, such as:-\n",
    "    #       Errors, Warnings, Information for debugging or auditing.\n",
    "\n",
    "# It’s better than using print() because it provides:-\n",
    "    #    Message severity levels, Timestamps, Optional file output, Configurable formatting and destinations."
   ]
  },
  {
   "cell_type": "code",
   "execution_count": null,
   "id": "c609a4b4-2dce-409b-b44e-9b94a8e276e9",
   "metadata": {},
   "outputs": [],
   "source": [
    "#5. What is the significance of the __del__ method in Python?\n",
    "\n",
    "    # - The __del__ method in Python is known as a destructor — it is called when an object is about to be destroyed.\n",
    "\n",
    "# Use of __del__ method :- \n",
    "#                       Used for cleanup actions when an object is garbage collected.\n",
    "\n",
    "# Typically used to:\n",
    "#                 Close files or network connections.\n",
    "#                 Release resources like memory or locks.\n",
    "#                 Log destruction events for debugging."
   ]
  },
  {
   "cell_type": "code",
   "execution_count": null,
   "id": "175f5ba3-1a65-4a1e-a8b6-86a99a9ead66",
   "metadata": {},
   "outputs": [],
   "source": [
    "#6. What is the difference between import and from ... import in Python?\n",
    "\n",
    "    # - import module:- Imports the entire module. You must use the module name to access its functions or classes.\n",
    "#       from module import something:- Imports specific functions or classes directly."
   ]
  },
  {
   "cell_type": "code",
   "execution_count": null,
   "id": "ea00ee93-0ea9-4a78-8651-86c18eb0b340",
   "metadata": {},
   "outputs": [],
   "source": [
    "#7. How can you handle multiple exceptions in Python?\n",
    "\n",
    "#     # - In Python, multiple exceptions can be handled using either multiple except blocks or a single except block with a tuple of exception types. \n",
    "#                 This allows a program to respond appropriately depending on the type of error that occurs. \n",
    "#                  Using multiple except blocks provides a way to handle each exception type differently, giving precise control over the error-handling logic. \n",
    "#                     For example, one block can catch a ValueError while another handles a ZeroDivisionError. Alternatively, if multiple exceptions require the same handling, they can be grouped into a tuple in a single except clause. \n",
    "#                    This helps keep the code concise and readable. Additionally, the optional else block can be used to define code that runs only if no exceptions occur, \n",
    "#                      and the finally block ensures that cleanup code runs regardless of whether an exception was raised."
   ]
  },
  {
   "cell_type": "code",
   "execution_count": null,
   "id": "e8064965-84d5-425f-ace7-d03b17fb2c1e",
   "metadata": {},
   "outputs": [],
   "source": [
    "#8. What is the purpose of the with statement when handling files in Python?\n",
    "\n",
    "    # - The with statement simplifies file handling by automatically managing resources. It ensures that files are properly closed even if an exception occurs."
   ]
  },
  {
   "cell_type": "code",
   "execution_count": null,
   "id": "3ce2b06a-935b-4a0d-85e5-4e8190084a89",
   "metadata": {},
   "outputs": [],
   "source": [
    "#9. What is the difference between multithreading and multiprocessing?\n",
    "\n",
    "    # - Multithreading and multiprocessing are two techniques used to achieve concurrency in Python, but they work in fundamentally different ways. \n",
    "\n",
    "# Multithreading:- Multithreading involves running multiple threads within a single process, where all threads share the same memory space. \n",
    "                # -> This makes communication between threads easier, but also introduces risks like data corruption if not managed properly. \n",
    "                # -> However, due to Python’s Global Interpreter Lock (GIL), multithreading in CPython does not allow true parallel execution of threads, \n",
    "#                 which limits its effectiveness for CPU-bound tasks. \n",
    "                # -> It is most useful for I/O-bound operations such as file access, network communication, or user input, where tasks spend a lot of time waiting.\n",
    "                # -> Multithreading is ideal for handling multiple I/O tasks simultaneously.\n",
    "           \n",
    "# Multiprocessing:- Multiprocessing involves running multiple processes, each with its own independent memory space. \n",
    "                    # -> This allows for true parallelism, making it suitable for CPU-bound tasks that require significant computation.\n",
    "                    # -> Since processes do not share memory, communication between them requires inter-process communication (IPC) mechanisms, \n",
    "#                    such as queues or pipes, which can be more complex than thread-based communication. \n",
    "                    # -> Multiprocessing is better suited for tasks that demand intensive computation across multiple CPU cores."
   ]
  },
  {
   "cell_type": "code",
   "execution_count": null,
   "id": "17509b65-d897-4156-9ca9-286e17457500",
   "metadata": {},
   "outputs": [],
   "source": [
    "#10. What are the advantages of using logging in a program?\n",
    "\n",
    "    # - Advantages of using logging in a program:- \n",
    "\n",
    "# -> Tracks application flow and errors\n",
    "# -> Helps debug issues without print() statements\n",
    "# -> Supports log levels: DEBUG, INFO, WARNING, ERROR, CRITICAL\n",
    "# -> Logs can be written to files for persistent tracking\n",
    "# -> Highly configurable (format, handlers, filters)"
   ]
  },
  {
   "cell_type": "code",
   "execution_count": null,
   "id": "1214f50a-827f-4811-8f4d-849af4678ec3",
   "metadata": {},
   "outputs": [],
   "source": [
    "#11. What is memory management in Python?\n",
    "\n",
    "    # Memory management in Python involves:-\n",
    "# -> Automatic memory allocation for variables and objects\n",
    "# -> Reference counting to track how many references point to an object\n",
    "# -> Garbage collection to free unused memory\n",
    "\n",
    "#  Python manages memory using the Python Memory Manager, and the gc module provides access to garbage collection."
   ]
  },
  {
   "cell_type": "code",
   "execution_count": null,
   "id": "1ba506c5-2aa2-4e52-b565-a520bc786f04",
   "metadata": {},
   "outputs": [],
   "source": [
    "#12. What are the basic steps involved in exception handling in Python?\n",
    "\n",
    "    # - try -> Wrap the code that might raise an exception.\n",
    "#      except -> Handle specific exceptions.\n",
    "#      else (optional) -> Run code if no exception occurs.\n",
    "#      finally (optional) -> Run cleanup code regardless of what happens."
   ]
  },
  {
   "cell_type": "code",
   "execution_count": null,
   "id": "6e40a6e3-fc6d-48c1-96da-3584ebe379e0",
   "metadata": {},
   "outputs": [],
   "source": [
    "#13. Why is memory management important in Python?\n",
    "\n",
    "    # - It Prevents memory leaks (unused memory that is never freed).\n",
    "# It Ensures efficient performance.\n",
    "# It automatically frees up unused objects, saving resources.\n",
    "# It is crucial for long-running applications like servers or data pipelin."
   ]
  },
  {
   "cell_type": "code",
   "execution_count": null,
   "id": "716be2c0-202c-4089-ad6e-6c2d5061cb46",
   "metadata": {},
   "outputs": [],
   "source": [
    "#14. What is the role of try and except in exception handling?\n",
    "\n",
    "    # - The try and except blocks in Python are used for exception handling, allowing you to catch and respond to errors gracefully. \n",
    "#       The try block contains code that might raise an exception, while the except block defines how to handle specific exceptions if they occur. \n",
    "#       This prevents the program from crashing and allows it to continue running or display a helpful error message."
   ]
  },
  {
   "cell_type": "code",
   "execution_count": null,
   "id": "f47c71b3-2699-49f1-9d04-b0ed8732a65c",
   "metadata": {},
   "outputs": [],
   "source": [
    "#15. How does Python's garbage collection system work?\n",
    "\n",
    "    # - Python’s garbage collection system automatically manages memory by identifying and freeing up memory used by objects that are no longer needed. It works primarily through two mechanisms:\n",
    "\n",
    "# -> Reference Counting (RC):- Every object in Python keeps track of how many references point to it. \n",
    "#                        When an object’s reference count drops to zero (i.e., no variable is using it), Python immediately deletes it to free memory.\n",
    "\n",
    "# -> Garbage Collector (GC): In addition to reference counting, Python has a built-in garbage collector to handle cyclic references—situations where, \n",
    "#                              objects refer to each other but are not accessible from anywhere else in the program. \n",
    "#                      These can’t be cleaned up by reference counting alone. The gc module runs periodically to detect and clean up such cycles."
   ]
  },
  {
   "cell_type": "code",
   "execution_count": null,
   "id": "60999d46-af29-467b-9519-245ee8a8efd1",
   "metadata": {},
   "outputs": [],
   "source": [
    "#16. What is the purpose of the else block in exception handling?\n",
    "\n",
    "    # - The else block in Python's exception handling is used to define code that should run only if no exception occurs in the try block. \n",
    "#       It helps separate the \"normal\" code path from error handling, improving code clarity.  "
   ]
  },
  {
   "cell_type": "code",
   "execution_count": null,
   "id": "2cddb2b8-c088-4ad8-aeea-c2d9836a03c8",
   "metadata": {},
   "outputs": [],
   "source": [
    "#17. What are the common logging levels in Python?\n",
    "\n",
    "    # - Python’s logging module provides several standard logging levels to indicate the severity or importance of events. \n",
    "#          Here are the common logging levels:-\n",
    "\n",
    "# DEBUG:- Detailed information, typically for diagnosing problems. It is used during development and debugging.\n",
    "\n",
    "# INFO:- Confirms that things are working as expected. It is useful for general runtime events.\n",
    "\n",
    "# WARNING:- Indicates something unexpected or a potential issue, but not an error. It is the program continues to run.\n",
    "\n",
    "# ERROR:- A more serious problem; the program failed to do something.\n",
    "\n",
    "# CRITICAL:- A very serious error; the program itself may be unable to continue."
   ]
  },
  {
   "cell_type": "code",
   "execution_count": null,
   "id": "8f1a61e9-7f30-4e60-b617-ab3f7cfbf3e5",
   "metadata": {},
   "outputs": [],
   "source": [
    "#18. What is the difference between os.fork() and multiprocessing in Python?\\\n",
    "\n",
    "    # - The main difference between os.fork() and the multiprocessing module in Python lies in level of abstraction, portability, and ease of use.\n",
    "\n",
    "# os.fork() :-\n",
    "#->Low-level system call available on Unix/Linux only.\n",
    "#->Creates a child process that is an exact copy of the parent process.\n",
    "#->You must manually manage communication and process control (e.g., using pipes or sockets).\n",
    "#->Less portable and more error-prone for complex applications.\n",
    "\n",
    "# multiprocessing Module:-\n",
    "#->High-level, cross-platform API (works on both Windows and Unix).\n",
    "#->Abstracts away low-level process management.\n",
    "#->Supports communication between processes using queues, pipes, shared memory, and managers.\n",
    "#->Easier to use for parallelism, especially in CPU-bound tasks."
   ]
  },
  {
   "cell_type": "code",
   "execution_count": null,
   "id": "bfbeb9de-96bf-4821-ac18-78e0b5ca28fb",
   "metadata": {},
   "outputs": [],
   "source": [
    "#19. What is the importance of closing a file in Python?\n",
    "\n",
    "    # - Closing a file in Python is important for data integrity, resource management, and reliable program behavior.\n",
    "\n",
    "#  It is also important because:- \n",
    "# a.-> Frees System Resources:- Each open file consumes system resources (like file descriptors). Closing it releases those resources for other tasks.\n",
    "\n",
    "# b.-> Ensures Data is Written:- For files opened in write or append mode, data may be buffered (temporarily stored in memory). \n",
    "#                                     Closing the file ensures all buffered data is properly written to disk.\n",
    "\n",
    "# c.-> Prevents File Corruption:- Not closing a file properly—especially in write mode—can lead to data loss or file corruption.\n",
    "\n",
    "# d.-> Avoids Errors:- Keeping too many files open can exceed the system's limit on open file handles, causing runtime errors."
   ]
  },
  {
   "cell_type": "code",
   "execution_count": null,
   "id": "c605cd36-2e5b-4f14-8633-a203103fb315",
   "metadata": {},
   "outputs": [],
   "source": [
    "#20. What is the difference between file.read() and file.readline() in Python?\n",
    "\n",
    "     # -  file.read() :- It reads the entire file (or a specified number of characters) into a single string.\n",
    "#                           It is useful when you want to process the whole file at once.\n",
    "\n",
    "#         file.readline():- It reads one line from the file at a time, ending at the next newline (\\n).\n",
    "#                            It is useful for processing files line by line."
   ]
  },
  {
   "cell_type": "code",
   "execution_count": null,
   "id": "88b924eb-7315-44ed-806a-3308720eabec",
   "metadata": {},
   "outputs": [],
   "source": [
    "#21. What is the logging module in Python used for?\n",
    "\n",
    "    # - The logging module in Python is used to record messages about a program's execution, making it easier to debug, monitor, and maintain applications.\n",
    "\n",
    "# Main Uses of the logging Module:-\n",
    "                                # (a) Track events while the program runs (e.g., errors, warnings, status updates).\n",
    "                                # (b) Debug issues without using print() statements.\n",
    "                                # (c) Store logs in files for later analysis.\n",
    "                                # (d) Control the level of detail shown (e.g., DEBUG, INFO, ERROR).\n",
    "                                # (e) Customize log formatting and destination (console, file, remote server, etc.)."
   ]
  },
  {
   "cell_type": "code",
   "execution_count": null,
   "id": "5837a8df-c09c-4ca1-af49-be822ae79c41",
   "metadata": {},
   "outputs": [],
   "source": [
    "#22. What is the os module in Python used for in file handling?\n",
    "\n",
    "    # - The os module in Python is used in file handling to interact with the operating system for tasks such as managing files, directories, and paths.\n",
    "      #  It provides functions that let you perform low-level file operations that go beyond basic reading and writing."
   ]
  },
  {
   "cell_type": "code",
   "execution_count": null,
   "id": "9fda6d7f-e6fd-4f91-98be-6d43f6fc3730",
   "metadata": {},
   "outputs": [],
   "source": [
    "#23. What are the challenges associated with memory management in Python?\n",
    "\n",
    "    # - Memory management in Python is mostly automatic, but it still comes with several challenges, especially in large or performance-critical applications.\n",
    "# Even though Python handles memory automatically, developers still need to be mindful of issues like reference cycles, resource leaks, and\n",
    "#   managing object scope to write efficient and clean code. Using tools like the gc module and memory profilers \n",
    "#   (e.g., tracemalloc) can help manage and debug memory issues."
   ]
  },
  {
   "cell_type": "code",
   "execution_count": null,
   "id": "452cf7c8-e878-40ef-96a7-2350ab217f1d",
   "metadata": {},
   "outputs": [],
   "source": [
    "#24. How do you raise an exception manually in Python?\n",
    "\n",
    "    # - In Python, you can raise an exception manually using the raise keyword followed by an exception class (usually built-in or custom).\n",
    "#       Use raise to intentionally trigger errors in your code.\n",
    "#        It is often used in input validation, enforcing rules, or debugging.\n",
    "#         Exceptions must be derived from the built-in BaseException class."
   ]
  },
  {
   "cell_type": "code",
   "execution_count": null,
   "id": "4a10b1a8-6d6f-46f2-8aad-da6ae90b64dc",
   "metadata": {},
   "outputs": [],
   "source": [
    "#25. Why is it important to use multithreading in certain applications?\n",
    "\n",
    "    # - Using multithreading is important in certain applications because it allows a program to perform multiple tasks concurrently, \n",
    "#          improving responsiveness and efficiency—especially in I/O-bound scenarios.\n",
    "\n",
    "# Key Reasons to Use Multithreading:-\n",
    "#                                   (a) Improved Responsiveness\n",
    "#                                   (b) Efficient I/O Operations\n",
    "#                                   (c) Better Resource Utilization\n",
    "#                                   (d) Simplified Code for Concurrent Tasks"
   ]
  },
  {
   "cell_type": "code",
   "execution_count": null,
   "id": "0a368887-bcf1-43fe-b0e2-95236eab24f3",
   "metadata": {},
   "outputs": [],
   "source": [
    "## PRACTICAL QUESTIONS ##"
   ]
  },
  {
   "cell_type": "code",
   "execution_count": 3,
   "id": "5bb38f16-87df-4d72-9b71-3256dd82b5da",
   "metadata": {},
   "outputs": [],
   "source": [
    "#1. How can you open a file for writing in Python and write a string to it?\n",
    "\n",
    "with open(\"output.csv\", \"w\") as file:\n",
    "    file.write(\"This is a sample string.\")"
   ]
  },
  {
   "cell_type": "code",
   "execution_count": 4,
   "id": "2dd9cc24-dceb-4f33-9364-c85f48bf49fc",
   "metadata": {},
   "outputs": [
    {
     "name": "stdout",
     "output_type": "stream",
     "text": [
      "The file does not exist.\n"
     ]
    }
   ],
   "source": [
    "#2. Write a Python program to read the contents of a file and print each line?\n",
    "\n",
    "try:\n",
    "    with open(\"example.txt\", \"r\") as file:\n",
    "        for line in file:\n",
    "            print(line.strip())\n",
    "except FileNotFoundError:\n",
    "    print(\"The file does not exist.\")"
   ]
  },
  {
   "cell_type": "code",
   "execution_count": 6,
   "id": "5fd61fa6-5540-4709-8c1a-b9631883a7d7",
   "metadata": {},
   "outputs": [
    {
     "name": "stdout",
     "output_type": "stream",
     "text": [
      "Error: The file 'rajat.txt' does not exist.\n"
     ]
    }
   ],
   "source": [
    "#3. How would you handle a case where the file doesn't exist while trying to open it for reading?\n",
    "\n",
    "filename = \"rajat.txt\"\n",
    "\n",
    "try:\n",
    "    with open(filename, \"r\") as file:\n",
    "        content = file.read()\n",
    "        print(content)\n",
    "except FileNotFoundError:\n",
    "    print(f\"Error: The file '{filename}' does not exist.\")"
   ]
  },
  {
   "cell_type": "code",
   "execution_count": 10,
   "id": "6a4132fe-6dc1-4f5a-baa3-935bd2794255",
   "metadata": {},
   "outputs": [
    {
     "name": "stdout",
     "output_type": "stream",
     "text": [
      "Error: The file 'rajat.txt' does not exist.\n"
     ]
    }
   ],
   "source": [
    "#4. Write a Python script that reads from one file and writes its content to another file?\n",
    "\n",
    "source_file = \"rajat.txt\"\n",
    "destination_file = \"jawan.txt\"\n",
    "\n",
    "try:\n",
    "    with open(source_file, \"r\") as src, open(destination_file, \"w\") as dst:\n",
    "        for line in src:\n",
    "            dst.write(line)\n",
    "    print(f\"Contents copied from '{source_file}' to '{destination_file}'.\")\n",
    "except FileNotFoundError:\n",
    "    print(f\"Error: The file '{source_file}' does not exist.\")"
   ]
  },
  {
   "cell_type": "code",
   "execution_count": 11,
   "id": "29c09ba0-8b9c-4eae-9c43-60f0167ea56b",
   "metadata": {},
   "outputs": [
    {
     "name": "stdout",
     "output_type": "stream",
     "text": [
      "Error: You cannot divide by zero.\n"
     ]
    }
   ],
   "source": [
    "#5. How would you catch and handle division by zero error in Python?\n",
    "\n",
    "try:\n",
    "    numerator = 13\n",
    "    denominator = 0\n",
    "    result = numerator / denominator\n",
    "except ZeroDivisionError:\n",
    "    print(\"Error: You cannot divide by zero.\")"
   ]
  },
  {
   "cell_type": "code",
   "execution_count": 12,
   "id": "58d8534d-56c4-4444-bb52-d0c114c64375",
   "metadata": {},
   "outputs": [
    {
     "name": "stdout",
     "output_type": "stream",
     "text": [
      "An error was logged: Division by zero.\n"
     ]
    }
   ],
   "source": [
    "#6. Write a Python program that logs an error message to a log file when a division by zero exception occurs.\n",
    "\n",
    "import logging\n",
    "\n",
    "logging.basicConfig(filename='error.log', level=logging.ERROR,\n",
    "                    format='%(asctime)s - %(levelname)s - %(message)s')\n",
    "\n",
    "try:\n",
    "    result = 10 / 0\n",
    "except ZeroDivisionError as e:\n",
    "    logging.error(\"Division by zero error occurred: %s\", e)\n",
    "    print(\"An error was logged: Division by zero.\")"
   ]
  },
  {
   "cell_type": "code",
   "execution_count": 16,
   "id": "4047e5b3-28d4-4c8a-be91-f8eb650796aa",
   "metadata": {},
   "outputs": [],
   "source": [
    "#7. How do you log information at different levels (INFO, ERROR, WARNING) in Python using the logging module?\n",
    "\n",
    "logging.basicConfig(filename='app.log',\n",
    "                    level=logging.DEBUG,\n",
    "                    format='%(levelname)s: %(message)s')\n",
    "\n",
    "logging.info(\"This is an informational message.\")\n",
    "logging.warning(\"This is a warning message.\")\n",
    "logging.error(\"This is an error message.\")"
   ]
  },
  {
   "cell_type": "code",
   "execution_count": 17,
   "id": "c15a2cf0-c379-4e1d-8d40-5a1d53be6293",
   "metadata": {},
   "outputs": [
    {
     "name": "stdout",
     "output_type": "stream",
     "text": [
      "Error: The file 'data.txt' was not found.\n"
     ]
    }
   ],
   "source": [
    "#8. Write a program to handle a file opening error using exception handling.\n",
    "\n",
    "filename = \"data.txt\"\n",
    "\n",
    "try:\n",
    "    with open(filename, \"r\") as file:\n",
    "        content = file.read()\n",
    "        print(content)\n",
    "except FileNotFoundError:\n",
    "    print(f\"Error: The file '{filename}' was not found.\")\n",
    "except IOError:\n",
    "    print(f\"Error: An I/O error occurred while opening '{filename}'.\")"
   ]
  },
  {
   "cell_type": "code",
   "execution_count": 20,
   "id": "4654dea8-bee0-485a-bbed-679855ce956e",
   "metadata": {},
   "outputs": [
    {
     "name": "stdout",
     "output_type": "stream",
     "text": [
      "['My name is Rajat.\\n', 'I lived in Delhi.\\n', 'I study Data analytics from PWSkills.']\n"
     ]
    }
   ],
   "source": [
    "#9. How can you read a file line by line and store its content in a list in Python?\n",
    "\n",
    "with open(\"rajde.txt\", \"r\") as file:\n",
    "    lines = file.readlines()\n",
    "print(lines)"
   ]
  },
  {
   "cell_type": "code",
   "execution_count": 22,
   "id": "fcd02afd-0f5a-4cd7-a844-2de1d7d4beba",
   "metadata": {},
   "outputs": [],
   "source": [
    "#10. How can you append data to an existing file in Python?\n",
    "\n",
    "with open(\"rajde.txt\", \"a\") as file:\n",
    "    file.write(\"\\nThis is the new appended line.\")"
   ]
  },
  {
   "cell_type": "code",
   "execution_count": 23,
   "id": "ce21033e-55ed-42d8-8423-4d34de0d734e",
   "metadata": {},
   "outputs": [
    {
     "name": "stdout",
     "output_type": "stream",
     "text": [
      "Error: The key 'address' does not exist in the dictionary.\n"
     ]
    }
   ],
   "source": [
    "#11. Write a Python program that uses a try-except block to handle an error when attempting to access a dictionary key that doesn't exist?\n",
    "\n",
    "my_dict = {\"name\": \"Rajat\", \"age\": 26}\n",
    "\n",
    "try:\n",
    "    value = my_dict[\"address\"]\n",
    "    print(\"Address:\", value)\n",
    "except KeyError:\n",
    "    print(\"Error: The key 'address' does not exist in the dictionary.\")"
   ]
  },
  {
   "cell_type": "code",
   "execution_count": 24,
   "id": "e3921a2b-a705-4b2b-aecc-9231b940c656",
   "metadata": {},
   "outputs": [
    {
     "name": "stdin",
     "output_type": "stream",
     "text": [
      "Enter first number:  45\n",
      "Enter second number:  5\n"
     ]
    },
    {
     "name": "stdout",
     "output_type": "stream",
     "text": [
      "Result: 9.0\n"
     ]
    }
   ],
   "source": [
    "#12. Write a program that demonstrates using multiple except blocks to handle different types of exceptions.\n",
    "\n",
    "try:\n",
    "    num1 = int(input(\"Enter first number: \"))\n",
    "    num2 = int(input(\"Enter second number: \"))\n",
    "    result = num1 / num2\n",
    "    print(\"Result:\", result)\n",
    "except ValueError:\n",
    "    print(\"Error: Please enter valid integers.\")\n",
    "except ZeroDivisionError:\n",
    "    print(\"Error: Cannot divide by zero.\")\n",
    "except Exception as e:\n",
    "    print(f\"An unexpected error occurred: {e}\")"
   ]
  },
  {
   "cell_type": "code",
   "execution_count": 26,
   "id": "a27beb0c-97e6-49c6-aaf5-69c2e53ac4be",
   "metadata": {},
   "outputs": [
    {
     "name": "stdout",
     "output_type": "stream",
     "text": [
      "My name is Rajat.\n",
      "I lived in Delhi.\n",
      "I study Data analytics from PWSkills.\n",
      "This is the new appended line.\n"
     ]
    }
   ],
   "source": [
    "#13. How would you check if a file exists before attempting to read it in Python?\n",
    "\n",
    "import os\n",
    "\n",
    "filename = \"rajde.txt\"\n",
    "\n",
    "if os.path.exists(filename):\n",
    "    with open(filename, \"r\") as file:\n",
    "        content = file.read()\n",
    "        print(content)\n",
    "else:\n",
    "    print(f\"The file '{filename}' does not exist.\")"
   ]
  },
  {
   "cell_type": "code",
   "execution_count": 28,
   "id": "0e233e63-f465-4b62-afd6-2fc2bea89d25",
   "metadata": {},
   "outputs": [],
   "source": [
    "#14. Write a program that uses the logging module to log both informational and error messages?\n",
    "\n",
    "import logging\n",
    "\n",
    "logging.basicConfig(filename='app.log',\n",
    "                    level=logging.DEBUG,\n",
    "                    format='%(asctime)s - %(levelname)s - %(message)s')\n",
    "\n",
    "logging.info(\"This is an informational message.\")\n",
    "logging.error(\"This is an error message.\")"
   ]
  },
  {
   "cell_type": "code",
   "execution_count": 29,
   "id": "cea6addc-370d-450f-b2d1-a3ad2e210995",
   "metadata": {},
   "outputs": [
    {
     "name": "stdout",
     "output_type": "stream",
     "text": [
      "File content:\n",
      "\n",
      "This is the new appended line.\n"
     ]
    }
   ],
   "source": [
    "#15. Write a Python program that prints the content of a file and handles the case when the file is empty.\n",
    "\n",
    "filename = \"example.txt\"\n",
    "\n",
    "try:\n",
    "    with open(filename, \"r\") as file:\n",
    "        content = file.read()\n",
    "        if content:\n",
    "            print(\"File content:\")\n",
    "            print(content)\n",
    "        else:\n",
    "            print(f\"The file '{filename}' is empty.\")\n",
    "except FileNotFoundError:\n",
    "    print(f\"Error: The file '{filename}' does not exist.\")"
   ]
  },
  {
   "cell_type": "code",
   "execution_count": 39,
   "id": "452bbf21-9882-4c63-91fd-d9564ece1798",
   "metadata": {},
   "outputs": [
    {
     "name": "stdout",
     "output_type": "stream",
     "text": [
      "ERROR: Could not find file C:\\Users\\rajat.singh-contract\\AppData\\Local\\Temp\\ipykernel_24216\\1388330451.py\n"
     ]
    }
   ],
   "source": [
    "#16. Demonstrate how to use memory profiling to check the memory usage of a small program.\n",
    "\n",
    "from memory_profiler import profile\n",
    "\n",
    "@profile\n",
    "def my_function():\n",
    "    a = [i for i in range(100000)]\n",
    "    b = [i * 2 for i in range(100000)]\n",
    "    del a\n",
    "    return b\n",
    "\n",
    "if __name__ == \"__main__\":\n",
    "    my_function()"
   ]
  },
  {
   "cell_type": "code",
   "execution_count": 40,
   "id": "ef62d8b3-7e44-4a5a-b1f3-3f716065e31a",
   "metadata": {},
   "outputs": [
    {
     "name": "stdout",
     "output_type": "stream",
     "text": [
      "Numbers written to 'numbers.txt' successfully.\n"
     ]
    }
   ],
   "source": [
    "#17. Write a Python program to create and write a list of numbers to a file, one number per line?\n",
    "\n",
    "numbers = [10, 20, 30, 40, 50]\n",
    "\n",
    "filename = \"numbers.txt\"\n",
    "\n",
    "try:\n",
    "    with open(filename, \"w\") as file:\n",
    "        for number in numbers:\n",
    "            file.write(f\"{number}\\n\")\n",
    "    print(f\"Numbers written to '{filename}' successfully.\")\n",
    "except IOError:\n",
    "    print(f\"Error: Unable to write to the file '{filename}'.\")"
   ]
  },
  {
   "cell_type": "code",
   "execution_count": 68,
   "id": "5865e9f9-a090-4678-abed-8fe05633ef7a",
   "metadata": {},
   "outputs": [],
   "source": [
    "#18. How would you implement a basic logging setup that logs to a file with rotation after 1MB?\n",
    "\n",
    "import logging\n",
    "from logging.handlers import RotatingFileHandler\n",
    "\n",
    "logger = logging.getLogger('my_logger')\n",
    "logger.setLevel(logging.INFO)\n",
    "\n",
    "handler = RotatingFileHandler('my_log.log', maxBytes=1*1024*1024, backupCount=3)\n",
    "formatter = logging.Formatter('%(asctime)s - %(levelname)s - %(message)s')\n",
    "handler.setFormatter(formatter)\n",
    "\n",
    "logger.addHandler(handler)\n",
    "\n",
    "for i in range(10000):\n",
    "    logger.info(f'Log message {i}')"
   ]
  },
  {
   "cell_type": "code",
   "execution_count": 47,
   "id": "56e702f4-4aef-4454-a335-12aa235f4ccb",
   "metadata": {},
   "outputs": [
    {
     "name": "stdout",
     "output_type": "stream",
     "text": [
      "Error: List index is out of range.\n"
     ]
    }
   ],
   "source": [
    "#19. Write a program that handles both IndexError and KeyError using a try-except block?\n",
    "\n",
    "my_list = [10, 20, 30]\n",
    "my_dict = {\"name\": \"Alice\", \"age\": 25}\n",
    "\n",
    "try:\n",
    "    print(\"List item:\", my_list[5])\n",
    "    \n",
    "    print(\"Address:\", my_dict[\"address\"])\n",
    "\n",
    "except IndexError:\n",
    "    print(\"Error: List index is out of range.\")\n",
    "\n",
    "except KeyError:\n",
    "    print(\"Error: Dictionary key not found.\")"
   ]
  },
  {
   "cell_type": "code",
   "execution_count": 49,
   "id": "4f62d5fd-8551-43ca-8249-c0561d4807c3",
   "metadata": {},
   "outputs": [
    {
     "name": "stdout",
     "output_type": "stream",
     "text": [
      "My name is Rajat.\n",
      "I lived in Delhi.\n",
      "I study Data analytics from PWSkills.\n",
      "This is the new appended line.\n"
     ]
    }
   ],
   "source": [
    "#20. How would you open a file and read its contents using a context manager in Python?\n",
    "\n",
    "filename = \"rajde.txt\"\n",
    "\n",
    "try:\n",
    "    with open(filename, \"r\") as file:\n",
    "        contents = file.read()\n",
    "        print(contents)\n",
    "except FileNotFoundError:\n",
    "    print(f\"Error: The file '{filename}' does not exist.\")"
   ]
  },
  {
   "cell_type": "code",
   "execution_count": 51,
   "id": "b73cd0ab-1c1b-4bbe-a094-7c9fd79e8089",
   "metadata": {},
   "outputs": [
    {
     "name": "stdout",
     "output_type": "stream",
     "text": [
      "The word 'python' appears 0 times in 'rajde.txt'.\n"
     ]
    }
   ],
   "source": [
    "#21. Write a Python program that reads a file and prints the number of occurrences of a specific word?\n",
    "\n",
    "def count_word_occurrences(filename, target_word):\n",
    "    try:\n",
    "        with open(filename, 'r') as file:\n",
    "            content = file.read()\n",
    "            words = content.lower().split()\n",
    "            count = words.count(target_word.lower())\n",
    "            print(f\"The word '{target_word}' appears {count} times in '{filename}'.\")\n",
    "    except FileNotFoundError:\n",
    "        print(f\"Error: The file '{filename}' does not exist.\")\n",
    "\n",
    "filename = \"rajde.txt\"\n",
    "word_to_find = \"python\"\n",
    "count_word_occurrences(filename, word_to_find)"
   ]
  },
  {
   "cell_type": "code",
   "execution_count": 53,
   "id": "e979e0b6-db6a-40ef-b2dc-337cd51e810f",
   "metadata": {},
   "outputs": [
    {
     "name": "stdout",
     "output_type": "stream",
     "text": [
      "File content:\n",
      "My name is Rajat.\n",
      "I lived in Delhi.\n",
      "I study Data analytics from PWSkills.\n",
      "This is the new appended line.\n"
     ]
    }
   ],
   "source": [
    "#22. How can you check if a file is empty before attempting to read its contents?\n",
    "\n",
    "import os\n",
    "\n",
    "filename = \"rajde.txt\"\n",
    "\n",
    "if os.path.exists(filename):\n",
    "    if os.path.getsize(filename) == 0:\n",
    "        print(f\"The file '{filename}' is empty.\")\n",
    "    else:\n",
    "        with open(filename, \"r\") as file:\n",
    "            content = file.read()\n",
    "            print(\"File content:\")\n",
    "            print(content)\n",
    "else:\n",
    "    print(f\"The file '{filename}' does not exist.\")"
   ]
  },
  {
   "cell_type": "code",
   "execution_count": 54,
   "id": "ea0328a6-8411-44b0-ba57-11b994b97d62",
   "metadata": {},
   "outputs": [
    {
     "name": "stdout",
     "output_type": "stream",
     "text": [
      "Error: The file 'non_existent_file.txt' was not found.\n"
     ]
    }
   ],
   "source": [
    "# 23. Write a Python program that writes to a log file when an error occurs during file handling?\n",
    "\n",
    "import logging\n",
    "\n",
    "logging.basicConfig(\n",
    "    filename='file_errors.log',\n",
    "    level=logging.ERROR,\n",
    "    format='%(asctime)s - %(levelname)s - %(message)s'\n",
    ")\n",
    "\n",
    "filename = \"non_existent_file.txt\"\n",
    "\n",
    "try:\n",
    "    with open(filename, 'r') as file:\n",
    "        content = file.read()\n",
    "        print(\"File content:\")\n",
    "        print(content)\n",
    "\n",
    "except FileNotFoundError as e:\n",
    "    logging.error(f\"FileNotFoundError: {e}\")\n",
    "    print(f\"Error: The file '{filename}' was not found.\")\n",
    "\n",
    "except IOError as e:\n",
    "    logging.error(f\"IOError: {e}\")\n",
    "    print(f\"Error: An I/O error occurred while handling '{filename}'.\")"
   ]
  },
  {
   "cell_type": "code",
   "execution_count": null,
   "id": "4c93409b-ed88-4013-a178-cb9b8a733039",
   "metadata": {},
   "outputs": [],
   "source": [
    "## THANK YOU ##"
   ]
  }
 ],
 "metadata": {
  "kernelspec": {
   "display_name": "Python 3 (ipykernel)",
   "language": "python",
   "name": "python3"
  },
  "language_info": {
   "codemirror_mode": {
    "name": "ipython",
    "version": 3
   },
   "file_extension": ".py",
   "mimetype": "text/x-python",
   "name": "python",
   "nbconvert_exporter": "python",
   "pygments_lexer": "ipython3",
   "version": "3.13.3"
  }
 },
 "nbformat": 4,
 "nbformat_minor": 5
}
