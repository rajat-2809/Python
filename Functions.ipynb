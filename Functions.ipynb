{
 "cells": [
  {
   "cell_type": "code",
   "execution_count": 1,
   "id": "5cc4fcfc-3ddd-4bfc-84e4-ec042b526661",
   "metadata": {},
   "outputs": [],
   "source": [
    "## Assignment 3: Functions"
   ]
  },
  {
   "cell_type": "code",
   "execution_count": 2,
   "id": "d841cde9-8d66-4421-81ac-102257ea4885",
   "metadata": {},
   "outputs": [
    {
     "name": "stdout",
     "output_type": "stream",
     "text": [
      "12\n"
     ]
    }
   ],
   "source": [
    "#1. Write a Python function that takes a list of numbers as input and returns the sum of all even numbers in the list.\n",
    "\n",
    "def sum_of_even_numbers(numbers):\n",
    "    return sum(num for num in numbers if num % 2 == 0)\n",
    "    \n",
    "numbers_list = [1, 2, 3, 4, 5, 6]\n",
    "print(sum_of_even_numbers(numbers_list)) "
   ]
  },
  {
   "cell_type": "code",
   "execution_count": 3,
   "id": "85395051-ce40-454e-bacf-3629a820a443",
   "metadata": {},
   "outputs": [
    {
     "name": "stdout",
     "output_type": "stream",
     "text": [
      "?uoy era woh ,mar olleh\n"
     ]
    }
   ],
   "source": [
    "#2. Create a Python function that accepts a string and returns the reverse of that string.\n",
    "\n",
    "def reverse_string(s):\n",
    "    return s[::-1]\n",
    "\n",
    "input_string = \"hello ram, how are you?\"\n",
    "print(reverse_string(input_string))\n"
   ]
  },
  {
   "cell_type": "code",
   "execution_count": 4,
   "id": "48976c8f-57ab-44ab-8bfb-be36707c1bf7",
   "metadata": {},
   "outputs": [
    {
     "name": "stdout",
     "output_type": "stream",
     "text": [
      "[1, 4, 9, 16, 25, 36, 49, 64]\n"
     ]
    }
   ],
   "source": [
    "#3. Implement a Python function that takes a list of integers and returns a new list containing the squares of each number.\n",
    "\n",
    "def square_numbers(numbers):\n",
    "    return [num ** 2 for num in numbers]\n",
    "\n",
    "input_list = [1, 2, 3, 4, 5, 6, 7, 8]\n",
    "print(square_numbers(input_list))"
   ]
  },
  {
   "cell_type": "code",
   "execution_count": 6,
   "id": "20d6139d-86fa-4942-a292-4a982dd675a6",
   "metadata": {},
   "outputs": [
    {
     "name": "stdin",
     "output_type": "stream",
     "text": [
      "Enter a number between 1 and 200:  67\n"
     ]
    },
    {
     "name": "stdout",
     "output_type": "stream",
     "text": [
      "67 is a prime number.\n"
     ]
    }
   ],
   "source": [
    "#4. Write a Python function that checks if a given number is prime or not from 1 to 200.\n",
    "\n",
    "def is_prime(n):\n",
    "    if n < 2 or n > 200:\n",
    "        return \"Please enter a number between 1 and 200.\"\n",
    "    for i in range(2, int(n ** 0.5) + 1):\n",
    "        if n % i == 0:\n",
    "            return f\"{n} is not a prime number.\"\n",
    "    return f\"{n} is a prime number.\"\n",
    "\n",
    "number = int(input(\"Enter a number between 1 and 200: \"))\n",
    "print(is_prime(number))"
   ]
  },
  {
   "cell_type": "code",
   "execution_count": 9,
   "id": "f1476ce9-2a2a-4749-bf7b-35be826e7923",
   "metadata": {},
   "outputs": [
    {
     "name": "stdout",
     "output_type": "stream",
     "text": [
      "0\n",
      "1\n",
      "1\n",
      "2\n",
      "3\n",
      "5\n",
      "8\n",
      "13\n",
      "21\n"
     ]
    }
   ],
   "source": [
    "#5. Create an iterator class in Python that generates the Fibonacci sequence up to a specified number of terms.\n",
    "\n",
    "class FibonacciIterator:\n",
    "    def __init__(self, max_terms):\n",
    "        self.max_terms = max_terms\n",
    "        self.count = 0\n",
    "        self.a = 0\n",
    "        self.b = 1\n",
    "\n",
    "    def __iter__(self):\n",
    "        return self\n",
    "\n",
    "    def __next__(self):\n",
    "        if self.count >= self.max_terms:\n",
    "            raise StopIteration\n",
    "        if self.count == 0:\n",
    "            self.count += 1\n",
    "            return self.a\n",
    "        elif self.count == 1:\n",
    "            self.count += 1\n",
    "            return self.b\n",
    "        else:\n",
    "            self.count += 1\n",
    "            self.a, self.b = self.b, self.a + self.b\n",
    "            return self.b\n",
    "\n",
    "fib = FibonacciIterator(9)\n",
    "for num in fib:\n",
    "    print(num)"
   ]
  },
  {
   "cell_type": "code",
   "execution_count": 10,
   "id": "8f1701b1-f059-4b1a-9748-3ed1e270a93f",
   "metadata": {},
   "outputs": [
    {
     "name": "stdout",
     "output_type": "stream",
     "text": [
      "1\n",
      "2\n",
      "4\n",
      "8\n",
      "16\n",
      "32\n"
     ]
    }
   ],
   "source": [
    "#6. Write a generator function in Python that yields the powers of 2 up to a given exponent.\n",
    "\n",
    "def powers_of_two(max_exponent):\n",
    "    for exp in range(max_exponent + 1):\n",
    "        yield 2 ** exp\n",
    "\n",
    "for power in powers_of_two(5):\n",
    "    print(power)"
   ]
  },
  {
   "cell_type": "code",
   "execution_count": 19,
   "id": "cb882c04-6000-41c0-bc19-d4daf97f47a6",
   "metadata": {
    "scrolled": true
   },
   "outputs": [
    {
     "name": "stdout",
     "output_type": "stream",
     "text": [
      "My name is Rajat.\n",
      "I am 26 yrs old.\n",
      "I study in PWSkills.\n",
      "I study the course named Data Analytics.\n",
      "\n"
     ]
    }
   ],
   "source": [
    "#7. Implement a generator function that reads a file line by line and yields each line as a string.\n",
    "\n",
    "def read_file_line_by_line(file_path):\n",
    "    with open(file_path, 'r') as file:\n",
    "        for line in file:\n",
    "            yield line.rstrip('\\n')  \n",
    "\n",
    "for line in read_file_line_by_line(\"Desktop/New folder/Rajat.txt\"):\n",
    "    print(line)"
   ]
  },
  {
   "cell_type": "code",
   "execution_count": 21,
   "id": "dc81c35f-dbdd-4811-a070-8661e3ac38e6",
   "metadata": {},
   "outputs": [
    {
     "name": "stdout",
     "output_type": "stream",
     "text": [
      "[(28, 14), (42, 17), (38, 21), (11, 34), (21, 59)]\n"
     ]
    }
   ],
   "source": [
    "#8. Use a lambda function in Python to sort a list of tuples based on the second element of each tuple.\n",
    "\n",
    "data = [(11, 34), (42, 17), (21, 59), (38, 21), (28, 14) ]\n",
    "sorted_data = sorted(data, key=lambda x: x[1])\n",
    "\n",
    "print(sorted_data)"
   ]
  },
  {
   "cell_type": "code",
   "execution_count": 23,
   "id": "f0390d8c-dece-4306-babd-b2702d5ad43e",
   "metadata": {},
   "outputs": [
    {
     "name": "stdout",
     "output_type": "stream",
     "text": [
      "Celsius:    [0, 14, 26, 43, 55, 78, 100]\n",
      "Fahrenheit: [32.0, 57.2, 78.8, 109.4, 131.0, 172.4, 212.0]\n"
     ]
    }
   ],
   "source": [
    "#9. Write a Python program that uses `map()` to convert a list of temperatures from Celsius to Fahrenheit.\n",
    "\n",
    "celsius = [0, 14, 26, 43, 55, 78, 100]\n",
    "fahrenheit = list(map(lambda c: (c * 9/5) + 32, celsius))\n",
    "\n",
    "print(\"Celsius:   \", celsius)\n",
    "print(\"Fahrenheit:\", fahrenheit)"
   ]
  },
  {
   "cell_type": "code",
   "execution_count": 25,
   "id": "410949d8-2160-4e4a-980d-c485b6fd97fb",
   "metadata": {},
   "outputs": [
    {
     "name": "stdout",
     "output_type": "stream",
     "text": [
      "Original: India is fourth largest military in the world.\n",
      "Without vowels: nd s frth lrgst mltry n th wrld.\n"
     ]
    }
   ],
   "source": [
    "#10. Create a Python program that uses `filter()` to remove all the vowels from a given string.\n",
    "\n",
    "def remove_vowels(s):\n",
    "    vowels = 'aeiouAEIOU'\n",
    "    return ''.join(filter(lambda char: char not in vowels, s))\n",
    "\n",
    "input_string = \"India is fourth largest military in the world.\"\n",
    "result = remove_vowels(input_string)\n",
    "\n",
    "print(\"Original:\", input_string)\n",
    "print(\"Without vowels:\", result)"
   ]
  },
  {
   "cell_type": "code",
   "execution_count": 37,
   "id": "4ab7b128-0b8d-4c0c-a5de-5b924e5167a7",
   "metadata": {},
   "outputs": [],
   "source": [
    "#11) Imagine an accounting routine used in a book shop. It works on a list with sublists, which look like this:\n",
    "#Write a Python program, which returns a list with 2-tuples. Each tuple consists of the order number and the product of the price per item and the quantity. \n",
    "#The product should be increased by 10,- € if the value of the order is smaller than 100,00 €.\n",
    "\n",
    "#Write a Python program using lambda and map."
   ]
  },
  {
   "cell_type": "code",
   "execution_count": 35,
   "id": "9bcf0420-3bdc-47cd-b3f7-20d1708d2dfa",
   "metadata": {},
   "outputs": [
    {
     "name": "stdout",
     "output_type": "stream",
     "text": [
      "Order #34587 | Quantity: 4 | Total: €163.8\n",
      "Order #98762 | Quantity: 5 | Total: €284.0\n",
      "Order #77226 | Quantity: 3 | Total: €108.85\n",
      "Order #88112 | Quantity: 3 | Total: €84.97\n"
     ]
    }
   ],
   "source": [
    "#Ans:---\n",
    "\n",
    "orders = [\n",
    "    [34587, \"Learning Python, Mark Lutz\", 4, 40.95],\n",
    "    [98762, \"Programming Python, Mark Lutz\", 5, 56.80],\n",
    "    [77226, \"Head First Python, Paul Barry\", 3, 32.95],\n",
    "    [88112, \"Einfuhrung in Python3, Bernd Klein\", 3, 24.99]\n",
    "]\n",
    "\n",
    "# Lambda + map to compute required details\n",
    "invoice = list(map(\n",
    "    lambda order: (\n",
    "        order[0],                \n",
    "        order[2],                \n",
    "        round(order[2] * order[3] + (10 if order[2] * order[3] < 100 else 0), 2)  \n",
    "    ),\n",
    "    orders\n",
    "))\n",
    "\n",
    "# Print the results\n",
    "for order in invoice:\n",
    "    print(f\"Order #{order[0]} | Quantity: {order[1]} | Total: €{order[2]}\")"
   ]
  },
  {
   "cell_type": "code",
   "execution_count": null,
   "id": "eb5057df-a839-4d6b-abe7-9c090009bdbf",
   "metadata": {},
   "outputs": [],
   "source": [
    "#Thanking You."
   ]
  }
 ],
 "metadata": {
  "kernelspec": {
   "display_name": "Python 3 (ipykernel)",
   "language": "python",
   "name": "python3"
  },
  "language_info": {
   "codemirror_mode": {
    "name": "ipython",
    "version": 3
   },
   "file_extension": ".py",
   "mimetype": "text/x-python",
   "name": "python",
   "nbconvert_exporter": "python",
   "pygments_lexer": "ipython3",
   "version": "3.13.3"
  }
 },
 "nbformat": 4,
 "nbformat_minor": 5
}
