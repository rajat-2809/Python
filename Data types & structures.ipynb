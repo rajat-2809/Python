{
 "cells": [
  {
   "cell_type": "code",
   "execution_count": 1,
   "id": "8149d723-0743-48e1-b711-e3df30d2e799",
   "metadata": {},
   "outputs": [],
   "source": [
    "#Assignment :- 02 - Data types & structures."
   ]
  },
  {
   "cell_type": "code",
   "execution_count": null,
   "id": "9fbf9ef1-5d6c-415e-8548-1092667c307a",
   "metadata": {},
   "outputs": [],
   "source": [
    "#1. What are data structures, and why are they important?\n",
    "\n",
    "    #-Data structures are ways of organizing and storing data in a computer so that it can be accessed and modified efficiently. They define the relationship between the data and the operations that can be performed on that data.\n",
    "    #-Importance of Data Structures :-\n",
    "\n",
    "        #Efficiency:- The right data structure helps in optimizing time and space complexity.\n",
    "        #Data Organization:- They help in logically structuring data to solve real-world problems.\n",
    "        #Code Reusability:- Well-defined data structures make code easier to manage and reuse.\n",
    "        #Performance:- Improves the performance of algorithms, particularly in large-scale systems.\n",
    "        #Problem Solving:- Many computer science problems require an understanding of how to use and manipulate data structures."
   ]
  },
  {
   "cell_type": "code",
   "execution_count": 2,
   "id": "ada5d9dc-f969-4968-9154-4ba5d42c92b8",
   "metadata": {},
   "outputs": [],
   "source": [
    "#2. Explain the difference between mutable and immutable data types with examples.\n",
    "\n",
    "    #-In programming, especially in Python and many other languages, mutability refers to an object’s value can be changed after it is created, whereas immutability refers to an object’s value can not be changed after it is created.\n",
    "    \n",
    "        #Mutable Data Types :- These can be changed after creation. Examples>> 'List', 'Dictionary', 'Set'.\n",
    "        #Immutable Data Types:- These cannot be changed after creation. Examles.. 'Integer', 'Float', 'String', 'Tuple', etc."
   ]
  },
  {
   "cell_type": "code",
   "execution_count": 3,
   "id": "28f15e00-aa16-4dbc-adc9-392f1e9f0ff5",
   "metadata": {},
   "outputs": [],
   "source": [
    "#3. What are the main differences between lists and tuples in Python?\n",
    "\n",
    "    #-Main Differences Between Lists and Tuples in Python :---\n",
    "        #Mutability :- Lists are Mutable (can be changed), whereas Tuple Immutable (cannot be changed).\n",
    "        #Syntax :- In Lists, square brackets[ ] are used. In Tuples, Parentheses( ) are used.\n",
    "        #Performance :- Lists are Slower(due to mutability), whereas Tuples are Faster(less overhead).\n",
    "        #Use Case :- We uses Lists, when data needs to change, whereas we use tuples when data should stay constant.\n",
    "        #Methods :-\tThere are many built-in methods in Lists(e.g. append), whereas there are fewer methods in tuples(no append, etc.)\n",
    "        #Memory usage :- Lists uses more memory, whereas tuple uses less memory."
   ]
  },
  {
   "cell_type": "code",
   "execution_count": 4,
   "id": "5b6f8f25-68df-4367-a2e5-50093fbfadbd",
   "metadata": {},
   "outputs": [],
   "source": [
    "#4. Describe how dictionaries store data.\n",
    "\n",
    "    #- Dictionary is data structure that stores data as key-value pair{\"key\":\"pair\"}. Keys are unique and immutable. Dictionaries are defined by curly brackets{}.\n",
    "    #- Dictionaries are unordered, but from python 3.7 version, dictionaries retain the order of insertion.(This means if you iterate over a dictionary, the item will be returned in the order they were added.)"
   ]
  },
  {
   "cell_type": "code",
   "execution_count": 5,
   "id": "a0cccef3-5989-4167-b5c9-1012e1a78b9e",
   "metadata": {},
   "outputs": [],
   "source": [
    "#5. Why might you use a set instead of a list in Python?\n",
    "\n",
    "    #<I> No Duplicates Allowed :- Sets automatically remove duplicates, which makes them ideal for storing unique items.\n",
    "    #<II> Faster Membership Testing :- Sets are much faster than lists for checking if an item exists because sets use a hash table under the hood.\n",
    "    #<III>  Set Operations :- Sets support mathematical set operations like union(|), intersection(&), difference(-), etc., which are very useful."
   ]
  },
  {
   "cell_type": "code",
   "execution_count": 6,
   "id": "f6e2510a-479b-43ab-aece-09c5ef7036fd",
   "metadata": {},
   "outputs": [],
   "source": [
    "#6. What is a string in Python, and how is it different from a list?\n",
    "\n",
    "    #- A string in Python is a sequence of characters, used to represent text. It is an immutable data type, meaning once created, it cannot be changed.\n",
    "\n",
    "    # It is different in their use. >> String is a sequence of characters used to represent text, whereas a list is a sequence that can hold items of any data type, including numbers, strings, or even other lists.\n",
    "                                   #>> Strings are specifically designed for text manipulation, offering methods like .upper(), .lower(), and .replace(). Lists supports operations like .append(), .remove(), and slicing for managing collections of data.\n",
    "                                   #>> Strings are enclosed in quotes (\"hello\"), while lists are enclosed in square brackets ([1, 2, 3]). "
   ]
  },
  {
   "cell_type": "code",
   "execution_count": 7,
   "id": "65b883d6-8b61-4c66-9e91-8cf70914197e",
   "metadata": {},
   "outputs": [],
   "source": [
    "#7. How do tuples ensure data integrity in Python?\n",
    "\n",
    "    #- Tuples ensure data integrity by being immutable—once created, their elements cannot be changed, added, or removed. \n",
    "        #- This immutability makes tuples reliable for storing fixed data that shouldn't be altered accidentally during program execution."
   ]
  },
  {
   "cell_type": "code",
   "execution_count": 8,
   "id": "c47a5f43-6cf1-44e5-8b50-acfe40fe8e40",
   "metadata": {},
   "outputs": [],
   "source": [
    "#8. What is a hash table, and how does it relate to dictionaries in Python?\n",
    "\n",
    "    #-A hash table is a data structure that maps keys to values using a hash function. It allows for fast data retrieval—typically in constant time O(1) for lookups, insertions, and deletions. \n",
    "    #- A hash function converts a key into a numerical hash (index). This index determines where the value is stored in memory. If two keys produce the same hash (called a collision), Python handles it internally (e.g., by probing or chaining).\n",
    "\n",
    "    # In Python, the dict (dictionary) is implemented using a hash table.\n",
    "        #>> The key is hashed using Python’s built-in hash() function.\n",
    "        #>> The value is stored at the location determined by the hash.\n",
    "        #>> This makes dictionaries very fast for operations."
   ]
  },
  {
   "cell_type": "code",
   "execution_count": 9,
   "id": "16603f31-2330-4d37-86d2-692b4879c7e2",
   "metadata": {},
   "outputs": [],
   "source": [
    "#9. Can lists contain different data types in Python?\n",
    "\n",
    "    #- Yes, lists can contain different data types in Python. Python lists are heterogeneous, meaning they can store a mix of data types in the same list."
   ]
  },
  {
   "cell_type": "code",
   "execution_count": 10,
   "id": "f41b221c-a58f-442d-b215-b532f21a4a7d",
   "metadata": {},
   "outputs": [],
   "source": [
    "#10. Explain why strings are immutable in Python.\n",
    "\n",
    "    #- Strings in Python are immutable, meaning once a string is created, it cannot be changed. This design choice is intentional and brings several important benefits:\n",
    "        # <i> Memory Efficiency :- Since strings are used frequently, immutability allows Python to reuse string objects in memory (also called string interning), saving space and improving performance.\n",
    "        # <ii> Safety and Predictability :- Immutable strings prevent accidental changes. When a function receives a string, you can be sure the original string won’t be modified inside the function.\n",
    "        # <iii> Hashing and Dictionary Keys :- Strings can be used as keys in dictionaries because they are immutable. Only unchangeable objects can be hashed reliably.\n",
    "        # <iv> Thread Safety :- Immutability makes strings safe to use across multiple threads without needing locks or other protections."
   ]
  },
  {
   "cell_type": "code",
   "execution_count": null,
   "id": "811d8ac4-3777-4030-9c02-9979f98b6b19",
   "metadata": {},
   "outputs": [],
   "source": [
    "#11. What advantages do dictionaries offer over lists for certain tasks?\n",
    "\n",
    "    #- Advantages of Dictionaries Over Lists in Python :-\n",
    "                                                        #Dictionaries offer several key advantages over lists for specific types of tasks, especially when dealing with key-based data.\n",
    "\n",
    "        #<i> Faster Lookups >>> Dictionaries:- Use hashing, allowing for O(1) average time complexity for lookups.\n",
    "                           # >>>Lists:- Require a linear search (O(n)) when looking for an item by value.\n",
    "        #<ii> Key-Value Pair Organization:- Dictionaries store data as key-value pairs, making them ideal for structured data (e.g., name-age, product-price).\n",
    "        #<iii> More Readable Code:- When data has meaning (like \"name\", \"age\", \"id\"), using a dictionary is clearer than using index positions in a list.\n",
    "        #<iv> Avoiding Duplicates with Unique Keys:- Dictionaries automatically ensure unique keys, unlike lists which allow duplicate values.\n",
    "        #<v> Dynamic Access:- You can directly access, add, or update values using keys without knowing their position."
   ]
  },
  {
   "cell_type": "code",
   "execution_count": null,
   "id": "73d7c6e8-227c-4169-bcb9-2fbea481db60",
   "metadata": {},
   "outputs": [],
   "source": [
    "#12. Describe a scenario where using a tuple would be preferable over a list.\n",
    "\n",
    "    #- Storing GPS Coordinates:- A tuple is ideal here because:- the coordinates should not be changed. \n",
    "                                                               #:- the order matters (latitude first, longitude second).\n",
    "                                                               #:- Immutability helps ensure data integrity."
   ]
  },
  {
   "cell_type": "code",
   "execution_count": 11,
   "id": "5690bfaa-0dbb-4d5c-94ba-b250962a0f76",
   "metadata": {},
   "outputs": [],
   "source": [
    "#13. How do sets handle duplicate values in Python?\n",
    "\n",
    "    #- Sets automatically remove duplicates. When you add items to a set, Python keeps only unique elements.\n",
    "    # Working of Sets:- Sets use hashing to keep track of elements.\n",
    "                      #  If a new element has the same hash as an existing one, it is not added again."
   ]
  },
  {
   "cell_type": "code",
   "execution_count": null,
   "id": "0a23ef97-9b83-49b3-beb5-a7b6fe4fa96c",
   "metadata": {},
   "outputs": [],
   "source": [
    "#14. How does the “in” keyword work differently for lists and dictionaries?\n",
    "\n",
    "    #- In Python, the \"in\" keyword is used to check whether an element exists in a collection, but it works differently for lists and dictionaries. \n",
    "     #When used with a list, \"in\" checks if a 'value' exists within the list by scanning each element one by one. This process is slower for large lists because it requires a 'linear search'. \n",
    "        #On the other hand, when used with a dictionary, \"in\" checks for the presence of a 'key', not a value. This check is much faster because dictionaries use 'hashing', which allows for quick lookups."
   ]
  },
  {
   "cell_type": "code",
   "execution_count": null,
   "id": "ff900162-57ed-4d81-9a43-9499fa7f58e8",
   "metadata": {},
   "outputs": [],
   "source": [
    "#15. Can you modify the elements of a tuple? Explain why or why not?\n",
    "\n",
    "    #- No, you cannot modify the elements of a tuple because tuples are immutable in Python. This means once a tuple is created, its contents cannot be changed—you cannot add, remove, or alter any of its elements.\n",
    "        # Tuples are designed to be fixed and unchangeable, which:- Ensures data integrity.\n",
    "                                                                #:- Allows tuples to be used as dictionary keys or stored in sets, which require immutable (hashable) types.\n",
    "                                                                #:- Makes them more memory-efficient and safe for passing around in programs."
   ]
  },
  {
   "cell_type": "code",
   "execution_count": null,
   "id": "eb72e244-5b38-4969-b2ed-d37c6d699712",
   "metadata": {},
   "outputs": [],
   "source": [
    "#16. What is a nested dictionary, and give an example of its use case?\n",
    "\n",
    "    #-A nested dictionary is a dictionary inside another dictionary. It allows you to organize complex data hierarchically, using keys to access deeper levels of information.\n",
    "        #Use Case>>>  Student Management System :– A nested dictionary is perfect for storing data about multiple students, where each student has their own details (like 'name', 'age', and 'grades') stored in an inner dictionary. "
   ]
  },
  {
   "cell_type": "code",
   "execution_count": 12,
   "id": "e02d51d6-02d0-4095-a981-66e25a2986c3",
   "metadata": {},
   "outputs": [],
   "source": [
    "#17. Describe the time complexity of accessing elements in a dictionary.\n",
    "\n",
    "    #- In Python, dictionaries are implemented using hash tables, which provide efficient access to elements. The average time complexity of accessing elements in a dictionary is O(1), meaning it takes constant time regardless of the size of the dictionary.\n",
    "            #Working of a Dictionary:- When you access a value in a dictionary by its key, the key is passed through a hash function that computes an index.\n",
    "                                       #:- The value is stored at that index, making the retrieval process very fast (constant time).\n",
    "                                        #:- This efficiency is the reason why dictionaries are one of the most powerful built-in data structures for fast lookups."
   ]
  },
  {
   "cell_type": "code",
   "execution_count": null,
   "id": "5bc37115-19dd-4fdd-b314-3cf8c1d3ed08",
   "metadata": {},
   "outputs": [],
   "source": [
    "#18. In what situations are lists preferred over dictionaries?\n",
    "\n",
    "    #- While dictionaries are ideal for key-value pairing and fast lookups, lists are preferred in certain scenarios where order and indexed access are more important.\n",
    "        \n",
    "        #Here are a few situations where lists are better suited:- \n",
    "                                                                #<i>  When we Need Ordered Data.\n",
    "                                                                #<ii> When we Need to Access Items by Index.\n",
    "                                                                #<iii> When we Need to Store a Collection of Similar Items.\n",
    "                                                                #<iv> When we Need to Modify the Collection Frequently.\n",
    "                                                                #<v> When we Need to Iterate Over All Elements."
   ]
  },
  {
   "cell_type": "code",
   "execution_count": null,
   "id": "a8185c39-b171-471f-9305-3d4904687080",
   "metadata": {},
   "outputs": [],
   "source": [
    "#19. Why are dictionaries considered unordered, and how does that affect data retrieval?\n",
    "\n",
    "    #- Dictionaries in Python were traditionally considered unordered because, in earlier versions of Python (before 3.7), the order of key-value pairs was not guaranteed. \n",
    "    # This was due to the way dictionaries were implemented using hash tables, where the insertion order of items didn't affect their placement in memory.\n",
    "\n",
    "        # In a hash table, data is stored using a hash function that maps each key to a particular index. \n",
    "        # This index is calculated based on the hash value of the key, not based on the order in which items were added to the dictionary. \n",
    "        # As a result, until Python 3.7, dictionaries did not maintain any predictable order for the key-value pairs.\n",
    "\n",
    "    # Prior to Python 3.7:-  Since dictionaries were unordered, you could not expect the items to be retrieved in the same order in which they were inserted. This meant that order of retrieval was unpredictable.\n",
    "    # From Python 3.7 Onwards:-  Starting with Python 3.7, dictionaries maintain insertion order, meaning the order in which you add items to the dictionary will be the order in which they are retrieved."
   ]
  },
  {
   "cell_type": "code",
   "execution_count": null,
   "id": "8a45741e-eaa7-4565-a931-5c82feca73e5",
   "metadata": {},
   "outputs": [],
   "source": [
    "#20. Explain the difference between a list and a dictionary in terms of data retrieval.\n",
    "\n",
    "    #- In a list, data is retrieved using an 'index' (position in the list), meaning you access elements by their position, and the retrieval involves a 'linear search', which has a time complexity of O(n). \n",
    "    # On the other hand, in a dictionary, data is accessed via a 'key', and the retrieval is typically much faster, with an average time complexity of O(1), due to the use of 'hashing'. \n",
    "            \n",
    "        #Lists are ideal when you need ordered sequences and position-based access, while dictionaries are preferred when you need to associate keys with values and require fast lookups."
   ]
  },
  {
   "cell_type": "code",
   "execution_count": 13,
   "id": "66d5bc02-35ba-45f5-841b-264f34e7b8eb",
   "metadata": {},
   "outputs": [],
   "source": [
    "### Practical Questions"
   ]
  },
  {
   "cell_type": "code",
   "execution_count": 17,
   "id": "55c21c6c-354c-426f-b587-1d1c4255659f",
   "metadata": {},
   "outputs": [
    {
     "name": "stdout",
     "output_type": "stream",
     "text": [
      "My name is: Rajat\n"
     ]
    }
   ],
   "source": [
    "#1. Write a code to create a string with your name and print it.\n",
    "\n",
    "my_name = \"Rajat\"\n",
    "print(\"My name is:\", my_name)"
   ]
  },
  {
   "cell_type": "code",
   "execution_count": 18,
   "id": "0a1c446e-b243-49ab-ae67-eabcb0c17ae9",
   "metadata": {},
   "outputs": [
    {
     "name": "stdout",
     "output_type": "stream",
     "text": [
      "Length of the string: 11\n"
     ]
    }
   ],
   "source": [
    "#2. Write a code to find the length of the string \"Hello World\".\n",
    "\n",
    "text = \"Hello World\"\n",
    "length = len(text)\n",
    "print(\"Length of the string:\", length)"
   ]
  },
  {
   "cell_type": "code",
   "execution_count": 21,
   "id": "dd5cb3ba-6633-4fcb-8103-8c1e064adc29",
   "metadata": {},
   "outputs": [
    {
     "name": "stdout",
     "output_type": "stream",
     "text": [
      "First 3 characters: Pyt\n"
     ]
    }
   ],
   "source": [
    "#3. Write a code to slice the first 3 characters from the string \"Python Programming\".\n",
    "\n",
    "text = \"Python Programming\"\n",
    "sliced = text[:3]\n",
    "print(\"First 3 characters:\", sliced)"
   ]
  },
  {
   "cell_type": "code",
   "execution_count": 22,
   "id": "2a794970-471c-40c8-8907-097b02a930d0",
   "metadata": {},
   "outputs": [
    {
     "name": "stdout",
     "output_type": "stream",
     "text": [
      "Uppercase: HELLO\n"
     ]
    }
   ],
   "source": [
    "#4. Write a code to convert the string \"hello\" to uppercase.\n",
    "\n",
    "text = \"hello\"\n",
    "uppercase_text = text.upper()\n",
    "\n",
    "print(\"Uppercase:\", uppercase_text)"
   ]
  },
  {
   "cell_type": "code",
   "execution_count": 23,
   "id": "5c610a03-3dc0-42d0-9227-8714f4cea5f2",
   "metadata": {},
   "outputs": [
    {
     "name": "stdout",
     "output_type": "stream",
     "text": [
      "Updated string: I like orange\n"
     ]
    }
   ],
   "source": [
    "#5. Write a code to replace the word \"apple\" with \"orange\" in the string \"I like apple\".\n",
    "\n",
    "text = \"I like apple\"\n",
    "new_text = text.replace(\"apple\", \"orange\")\n",
    "\n",
    "print(\"Updated string:\", new_text)"
   ]
  },
  {
   "cell_type": "code",
   "execution_count": 24,
   "id": "c2b49864-d86c-4088-8ad1-04efd381e3d0",
   "metadata": {},
   "outputs": [
    {
     "name": "stdout",
     "output_type": "stream",
     "text": [
      "List of numbers: [1, 2, 3, 4, 5]\n"
     ]
    }
   ],
   "source": [
    "#6. Write a code to create a list with numbers 1 to 5 and print it.\n",
    "\n",
    "numbers = list(range(1, 6))\n",
    "print(\"List of numbers:\", numbers)"
   ]
  },
  {
   "cell_type": "code",
   "execution_count": 28,
   "id": "e7a415fb-46e5-42b5-b467-ffaa484fa8c9",
   "metadata": {},
   "outputs": [
    {
     "name": "stdout",
     "output_type": "stream",
     "text": [
      "The updated list of numbers: [1, 2, 3, 4, 10]\n"
     ]
    }
   ],
   "source": [
    "#7. Write a code to append the number 10 to the list [1, 2, 3, 4].\n",
    "\n",
    "list=[1,2,3,4]\n",
    "list.append(10)\n",
    "\n",
    "print(\"The updated list of numbers:\", list )"
   ]
  },
  {
   "cell_type": "code",
   "execution_count": 29,
   "id": "9171e5ee-4097-422b-ac14-53dd2a5faa27",
   "metadata": {},
   "outputs": [
    {
     "name": "stdout",
     "output_type": "stream",
     "text": [
      "The updated list of numbers: [1, 2, 4, 5]\n"
     ]
    }
   ],
   "source": [
    "#8. Write a code to remove the number 3 from the list [1, 2, 3, 4, 5].\n",
    "\n",
    "list=[1, 2, 3, 4, 5]\n",
    "list.remove(3)\n",
    "\n",
    "print(\"The updated list of numbers:\", list)"
   ]
  },
  {
   "cell_type": "code",
   "execution_count": 31,
   "id": "a0fd2537-8bb1-4449-8e6d-e1f2f045f622",
   "metadata": {},
   "outputs": [
    {
     "name": "stdout",
     "output_type": "stream",
     "text": [
      "Second element: b\n"
     ]
    }
   ],
   "source": [
    "#9. Write a code to access the second element in the list ['a', 'b', 'c', 'd'].\n",
    "\n",
    "letters = ['a', 'b', 'c', 'd']\n",
    "second_element = letters[1]\n",
    "\n",
    "print(\"Second element:\", second_element)"
   ]
  },
  {
   "cell_type": "code",
   "execution_count": 32,
   "id": "7e18d014-f217-4a87-98a2-c390391f09ee",
   "metadata": {},
   "outputs": [
    {
     "name": "stdout",
     "output_type": "stream",
     "text": [
      "Reversed list: [50, 40, 30, 20, 10]\n"
     ]
    }
   ],
   "source": [
    "#10. Write a code to reverse the list [10, 20, 30, 40, 50].\n",
    "\n",
    "numbers = [10, 20, 30, 40, 50]\n",
    "reversed_numbers = numbers[::-1]\n",
    "\n",
    "print(\"Reversed list:\", reversed_numbers)"
   ]
  },
  {
   "cell_type": "code",
   "execution_count": 14,
   "id": "c31c2589-e67b-484c-b62d-94674256a52d",
   "metadata": {},
   "outputs": [
    {
     "name": "stdout",
     "output_type": "stream",
     "text": [
      "(100, 200, 300)\n"
     ]
    }
   ],
   "source": [
    "#11. Write a code to create a tuple with the elements 100, 200, 300 and print it.\n",
    "\n",
    "my_tuple = (100, 200, 300)\n",
    "\n",
    "print(my_tuple)"
   ]
  },
  {
   "cell_type": "code",
   "execution_count": 15,
   "id": "1e53427f-3594-477b-96a3-46dec592d888",
   "metadata": {},
   "outputs": [
    {
     "name": "stdout",
     "output_type": "stream",
     "text": [
      "yellow\n"
     ]
    }
   ],
   "source": [
    "#12. Write a code to access the second-to-last element of the tuple ('red', 'green', 'blue', 'yellow').\n",
    "\n",
    "colors = ('red', 'green', 'blue', 'yellow', 'pink')\n",
    "second_last = colors[-2]\n",
    "\n",
    "print(second_last)"
   ]
  },
  {
   "cell_type": "code",
   "execution_count": 16,
   "id": "f9caf348-a744-4d0d-917f-adfcc9c1b74e",
   "metadata": {},
   "outputs": [
    {
     "name": "stdout",
     "output_type": "stream",
     "text": [
      "5\n"
     ]
    }
   ],
   "source": [
    "#13. Write a code to find the minimum number in the tuple (10, 20, 5, 15).\n",
    "\n",
    "numbers = (10, 20, 5, 15)\n",
    "min_number = min(numbers)\n",
    "\n",
    "print(min_number)"
   ]
  },
  {
   "cell_type": "code",
   "execution_count": 17,
   "id": "22802cc1-e4e7-4889-8b97-086bde2ba31e",
   "metadata": {},
   "outputs": [
    {
     "name": "stdout",
     "output_type": "stream",
     "text": [
      "1\n"
     ]
    }
   ],
   "source": [
    "#14. Write a code to find the index of the element \"cat\" in the tuple ('dog', 'cat', 'rabbit').\n",
    "\n",
    "animals = ('dog', 'cat', 'rabbit')\n",
    "cat_index = animals.index('cat')\n",
    "\n",
    "print(cat_index)"
   ]
  },
  {
   "cell_type": "code",
   "execution_count": 18,
   "id": "cd8da1bd-8d13-42da-a22c-7ff865c09c95",
   "metadata": {},
   "outputs": [
    {
     "name": "stdout",
     "output_type": "stream",
     "text": [
      "False\n"
     ]
    }
   ],
   "source": [
    "#15. Write a code to create a tuple containing three different fruits and check if \"kiwi\" is in it.\n",
    "\n",
    "fruits = ('apple', 'banana', 'orange')\n",
    "is_kiwi_present = 'kiwi' in fruits\n",
    "\n",
    "print(is_kiwi_present)"
   ]
  },
  {
   "cell_type": "code",
   "execution_count": 21,
   "id": "696b281e-040b-441c-9449-732cf705cf0f",
   "metadata": {},
   "outputs": [
    {
     "name": "stdout",
     "output_type": "stream",
     "text": [
      "Set: {'b', 'a', 'c'}\n"
     ]
    }
   ],
   "source": [
    "#16. Write a code to create a set with the elements 'a', 'b', 'c' and print it.\n",
    "\n",
    "my_set = {'a', 'b', 'c'}\n",
    "\n",
    "print(\"Set:\", my_set)"
   ]
  },
  {
   "cell_type": "code",
   "execution_count": 23,
   "id": "26e3a563-d874-4cbe-a245-0b87d9d0f8d2",
   "metadata": {},
   "outputs": [
    {
     "name": "stdout",
     "output_type": "stream",
     "text": [
      "set()\n"
     ]
    }
   ],
   "source": [
    "#17. Write a code to clear all elements from the set {1, 2, 3, 4, 5}.\n",
    "\n",
    "numbers = {1, 2, 3, 4, 5}\n",
    "numbers.clear()\n",
    "\n",
    "print(numbers)"
   ]
  },
  {
   "cell_type": "code",
   "execution_count": 24,
   "id": "19d7ac90-58c8-457c-bcc8-de51636b93bb",
   "metadata": {},
   "outputs": [
    {
     "name": "stdout",
     "output_type": "stream",
     "text": [
      "{1, 2, 3}\n"
     ]
    }
   ],
   "source": [
    "#18. Write a code to remove the element 4 from the set {1, 2, 3, 4}.\n",
    "\n",
    "numbers = {1, 2, 3, 4}\n",
    "numbers.remove(4)\n",
    "\n",
    "print(numbers)"
   ]
  },
  {
   "cell_type": "code",
   "execution_count": 25,
   "id": "6b532284-22f3-44e2-86ea-9ee334701c9c",
   "metadata": {},
   "outputs": [
    {
     "name": "stdout",
     "output_type": "stream",
     "text": [
      "{1, 2, 3, 4, 5}\n"
     ]
    }
   ],
   "source": [
    "#19. Write a code to find the union of two sets {1, 2, 3} and {3, 4, 5}.\n",
    "\n",
    "set1 = {1, 2, 3}\n",
    "set2 = {3, 4, 5}\n",
    "union_set = set1.union(set2)\n",
    "\n",
    "print(union_set)"
   ]
  },
  {
   "cell_type": "code",
   "execution_count": 26,
   "id": "e6b8ec6e-b38b-4a46-89a3-3c08ef453d72",
   "metadata": {},
   "outputs": [
    {
     "name": "stdout",
     "output_type": "stream",
     "text": [
      "{2, 3}\n"
     ]
    }
   ],
   "source": [
    "#20. Write a code to find the intersection of two sets {1, 2, 3} and {2, 3, 4}.\n",
    "\n",
    "set1 = {1, 2, 3}\n",
    "set2 = {2, 3, 4}\n",
    "intersection_set = set1.intersection(set2)\n",
    "\n",
    "print(intersection_set)"
   ]
  },
  {
   "cell_type": "code",
   "execution_count": 29,
   "id": "f605c0ea-b1dd-4a3f-a90e-059db68ee415",
   "metadata": {},
   "outputs": [
    {
     "name": "stdout",
     "output_type": "stream",
     "text": [
      "{'name': 'Alice', 'age': 30, 'city': 'New York'}\n"
     ]
    }
   ],
   "source": [
    "#21. Write a code to create a dictionary with the keys \"name\", \"age\", and \"city\", and print it.\n",
    "\n",
    "person = {\"name\":\"Alice\", \"age\":30, \"city\":\"New York\"}\n",
    "\n",
    "print(person)"
   ]
  },
  {
   "cell_type": "code",
   "execution_count": 30,
   "id": "ac794293-1efb-45e0-8768-0c71d8622d0b",
   "metadata": {},
   "outputs": [
    {
     "name": "stdout",
     "output_type": "stream",
     "text": [
      "{'name': 'John', 'age': 25, 'country': 'USA'}\n"
     ]
    }
   ],
   "source": [
    "#22. Write a code to add a new key-value pair \"country\": \"USA\" to the dictionary {'name': 'John', 'age': 25}.\n",
    "\n",
    "person = {'name': 'John', 'age': 25}\n",
    "person['country'] = 'USA'\n",
    "\n",
    "print(person)"
   ]
  },
  {
   "cell_type": "code",
   "execution_count": 31,
   "id": "27e9404b-b85d-4b4d-964c-58fa160c59b1",
   "metadata": {},
   "outputs": [
    {
     "name": "stdout",
     "output_type": "stream",
     "text": [
      "Alice\n"
     ]
    }
   ],
   "source": [
    "#23. Write a code to access the value associated with the key \"name\" in the dictionary {'name': 'Alice', 'age': 30}.\n",
    "\n",
    "person = {'name': 'Alice', 'age': 30}\n",
    "name_value = person['name']\n",
    "\n",
    "print(name_value)"
   ]
  },
  {
   "cell_type": "code",
   "execution_count": 32,
   "id": "7cfb945a-48de-4674-b5c2-62347bc585a9",
   "metadata": {},
   "outputs": [
    {
     "name": "stdout",
     "output_type": "stream",
     "text": [
      "{'name': 'Bob', 'city': 'New York'}\n"
     ]
    }
   ],
   "source": [
    "#24. Write a code to remove the key \"age\" from the dictionary {'name': 'Bob', 'age': 22, 'city': 'New York'}.\n",
    "\n",
    "person = {'name': 'Bob', 'age': 22, 'city': 'New York'}\n",
    "person.pop('age')\n",
    "\n",
    "print(person)"
   ]
  },
  {
   "cell_type": "code",
   "execution_count": 33,
   "id": "49bd6cf3-1be2-406f-982d-f4c619a8dc51",
   "metadata": {},
   "outputs": [
    {
     "name": "stdout",
     "output_type": "stream",
     "text": [
      "Key 'city' exists in the dictionary.\n"
     ]
    }
   ],
   "source": [
    "#25. Write a code to check if the key \"city\" exists in the dictionary {'name': 'Alice', 'city': 'Paris'}.\n",
    "\n",
    "person = {'name': 'Alice', 'city': 'Paris'}\n",
    "\n",
    "if 'city' in person:\n",
    "    print(\"Key 'city' exists in the dictionary.\")\n",
    "else:\n",
    "    print(\"Key 'city' does not exist in the dictionary.\")"
   ]
  },
  {
   "cell_type": "code",
   "execution_count": 34,
   "id": "0f950df0-87a0-4add-9dcb-1ad6ab11f969",
   "metadata": {},
   "outputs": [
    {
     "name": "stdout",
     "output_type": "stream",
     "text": [
      "List: [1, 2, 3]\n",
      "Tuple: ('a', 'b', 'c')\n",
      "Dictionary: {'name': 'Alice', 'age': 25}\n"
     ]
    }
   ],
   "source": [
    "#26. Write a code to create a list, a tuple, and a dictionary, and print them all.\n",
    "\n",
    "my_list = [1, 2, 3]\n",
    "my_tuple = ('a', 'b', 'c')\n",
    "my_dict = {'name': 'Alice', 'age': 25}\n",
    "\n",
    "print(\"List:\", my_list)\n",
    "print(\"Tuple:\", my_tuple)\n",
    "print(\"Dictionary:\", my_dict)"
   ]
  },
  {
   "cell_type": "code",
   "execution_count": 42,
   "id": "34434bf3-7b5d-4465-b247-c9a136ffd825",
   "metadata": {},
   "outputs": [
    {
     "name": "stdout",
     "output_type": "stream",
     "text": [
      "Sorted list of numbers: [11, 31, 45, 45, 53]\n"
     ]
    }
   ],
   "source": [
    "#27. Write a code to create a list of 5 random numbers between 1 and 100, sort it in ascending order, and print the result.(replaced)\n",
    "\n",
    "import random\n",
    "random_numbers = [random.randint(1, 100) for _ in range(5)]\n",
    "random_numbers.sort()\n",
    "\n",
    "print(\"Sorted list of numbers:\", random_numbers)"
   ]
  },
  {
   "cell_type": "code",
   "execution_count": 45,
   "id": "3056ffa3-4cb7-4356-8ff2-2d61a116e75a",
   "metadata": {},
   "outputs": [
    {
     "name": "stdout",
     "output_type": "stream",
     "text": [
      "chilly\n"
     ]
    }
   ],
   "source": [
    "#28. Write a code to create a list with strings and print the element at the third index.\n",
    "\n",
    "vegetables= ['potatp', 'tomato', 'ladyfinger', 'chilly', 'cauliflower']\n",
    "\n",
    "print(vegetables[3])"
   ]
  },
  {
   "cell_type": "code",
   "execution_count": 46,
   "id": "c1a43b8c-3ac8-40c3-b0d5-429d9d077f3c",
   "metadata": {},
   "outputs": [
    {
     "name": "stdout",
     "output_type": "stream",
     "text": [
      "{'name': 'Rajat', 'age': 26, 'city': 'New Delhi', 'country': 'India'}\n"
     ]
    }
   ],
   "source": [
    "#29. Write a code to combine two dictionaries into one and print the result.\n",
    "\n",
    "dict1 = {'name': 'Rajat', 'age': 26}\n",
    "dict2 = {'city': 'New Delhi', 'country': 'India'}\n",
    "\n",
    "combined_dict = dict1.copy()\n",
    "combined_dict.update(dict2)\n",
    "\n",
    "print(combined_dict)"
   ]
  },
  {
   "cell_type": "code",
   "execution_count": 48,
   "id": "cdb456e3-7bb7-4fbf-ad2f-2e1316bfdbd7",
   "metadata": {},
   "outputs": [
    {
     "name": "stdout",
     "output_type": "stream",
     "text": [
      "{'rasberry', 'pomegranate', 'mango', 'banana', 'cherry', 'apple'}\n"
     ]
    }
   ],
   "source": [
    "#30. Write a code to convert a list of strings into a set.\n",
    "\n",
    "string_list = [\"pomegranate\", \"apple\", \"banana\", \"cherry\", \"apple\", \"banana\", \"mango\", \"rasberry\"]\n",
    "string_set = set(string_list)\n",
    "\n",
    "print(string_set)"
   ]
  },
  {
   "cell_type": "code",
   "execution_count": null,
   "id": "e9bb89c7-805c-4980-af82-d026808eac24",
   "metadata": {},
   "outputs": [],
   "source": [
    "#Thank you..."
   ]
  }
 ],
 "metadata": {
  "kernelspec": {
   "display_name": "Python 3 (ipykernel)",
   "language": "python",
   "name": "python3"
  },
  "language_info": {
   "codemirror_mode": {
    "name": "ipython",
    "version": 3
   },
   "file_extension": ".py",
   "mimetype": "text/x-python",
   "name": "python",
   "nbconvert_exporter": "python",
   "pygments_lexer": "ipython3",
   "version": "3.13.3"
  }
 },
 "nbformat": 4,
 "nbformat_minor": 5
}
