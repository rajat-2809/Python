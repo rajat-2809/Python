{
 "cells": [
  {
   "cell_type": "code",
   "execution_count": 1,
   "id": "d980d7b7-21f8-4b3d-ba1b-bba1c83d2c63",
   "metadata": {},
   "outputs": [],
   "source": [
    "#   Assignment-3: Python Oops"
   ]
  },
  {
   "cell_type": "code",
   "execution_count": null,
   "id": "d5df63ea-d364-4185-8bd3-d1c7f1676e42",
   "metadata": {},
   "outputs": [],
   "source": [
    "#1. What is Object-Oriented Programming (OOP)?\n",
    "\n",
    "#    - Object-Oriented Programming (OOP) is a programming paradigm based on the concept of “objects,” which are instances of classes. \n",
    "#        These objects can contain data, in the form of fields (also called attributes or properties), and code, in the form of methods (functions attached to the object)."
   ]
  },
  {
   "cell_type": "code",
   "execution_count": null,
   "id": "5569e0d8-3594-4972-bf28-82e101cb78b4",
   "metadata": {},
   "outputs": [],
   "source": [
    "#2. What is a class in OOP?\n",
    "\n",
    "#    - Class: A blueprint or template for creating objects. It defines the attributes and behaviors that the objects created from the class will have."
   ]
  },
  {
   "cell_type": "code",
   "execution_count": null,
   "id": "819f5c28-3070-40f7-b46c-162b9fddd839",
   "metadata": {},
   "outputs": [],
   "source": [
    "#3. What is an object in OOP?\n",
    "\n",
    "#    - Object: An Object is an instance of a class. It is a self-contained unit that contains both data and functions that operate on the data."
   ]
  },
  {
   "cell_type": "code",
   "execution_count": null,
   "id": "b5d95901-829a-4351-b11e-beafd7b72f6b",
   "metadata": {},
   "outputs": [],
   "source": [
    "#4. What is the difference between abstraction and encapsulation?\n",
    "\n",
    "#     - Abstraction:- The process of hiding the complex implementation details and showing only the essential features of the object. \n",
    "#                            It simplifies interaction with objects.\n",
    "\n",
    "#        - Encapsulation:- The practice of keeping the data (attributes) and the code (methods) that manipulates the data together in a single unit (the object), \n",
    "#                       and restricting access to some components. This helps in protecting the internal state of the object."
   ]
  },
  {
   "cell_type": "code",
   "execution_count": null,
   "id": "2bd05428-323b-4cef-bb36-705376b5bc6f",
   "metadata": {},
   "outputs": [],
   "source": [
    "#5. What are dunder methods in Python?\n",
    "\n",
    "#   -   Dunder methods (short for double underscore methods) in Python are special methods that have names enclosed in double underscores, \n",
    "#       like __init__, __str__, or __len__. These methods are also known as magic methods or special methods, and they allow developers to define \n",
    "#         how objects behave with built-in functions and operators."
   ]
  },
  {
   "cell_type": "code",
   "execution_count": null,
   "id": "296c66e3-f618-4b24-8c8b-391d61253205",
   "metadata": {},
   "outputs": [],
   "source": [
    "#6. Explain the concept of inheritance in OOP?\n",
    "\n",
    "#   - Inheritance is one of the core concepts of Object-Oriented Programming (OOP). \n",
    "#       It allows a class (called the child class or subclass) to inherit attributes and methods from another class (called the parent class or superclass).\n",
    "#         This promotes code reuse, modularity, and extensibility, making programs easier to manage and scale."
   ]
  },
  {
   "cell_type": "code",
   "execution_count": null,
   "id": "6bbd697c-a696-435d-bb58-a6b32453eb4a",
   "metadata": {},
   "outputs": [],
   "source": [
    "#7. What is polymorphism in OOP?\n",
    "\n",
    "#    - Polymorphism in Object-Oriented Programming (OOP) is a concept that allows objects of different classes to be treated as objects of a \n",
    "#       common superclass, typically through a shared interface or inheritance.\n",
    "#        The word \"polymorphism\" comes from Greek, meaning \"many forms.\"\n",
    "#          In simple terms, polymorphism lets the same method name or operator behave differently based on the object calling it."
   ]
  },
  {
   "cell_type": "code",
   "execution_count": null,
   "id": "30cbe569-50f9-4921-80be-b58935cc3ba7",
   "metadata": {},
   "outputs": [],
   "source": [
    "#8. How is encapsulation achieved in Python?\n",
    "\n",
    "#     - Encapsulation in Python is the OOP concept of hiding the internal state and behavior of an object and only exposing a controlled interface for interaction. \n",
    "#         It helps protect the integrity of an object's data by restricting direct access to it."
   ]
  },
  {
   "cell_type": "code",
   "execution_count": null,
   "id": "36c3fb25-83e7-4ffd-9c21-11d01075b09e",
   "metadata": {},
   "outputs": [],
   "source": [
    "#9. What is a constructor in Python?\n",
    "\n",
    "#     - A constructor in Python is a special method that is automatically called when an object is created from a class. \n",
    "#        It is used to initialize the object's attributes (its initial state)."
   ]
  },
  {
   "cell_type": "code",
   "execution_count": null,
   "id": "299b8966-6b2a-4c4f-ab95-21a877b44141",
   "metadata": {},
   "outputs": [],
   "source": [
    "#10. What are class and static methods in Python?\n",
    "\n",
    "#    -  In Python, class methods and static methods are special types of methods that are not the same as instance methods. \n",
    "#          They are defined using decorators: @classmethod and @staticmethod.\n",
    "#          (i). Class method:- It take cls as the first argument (refers to the class itself). It can access and modify class-level data.\n",
    "\n",
    "#         (ii). Static method:- It does not take self or cls as the first argument. It behave like regular functions, but live inside a class's namespace.\n",
    "#                                  It cannot access or modify instance or class data directly."
   ]
  },
  {
   "cell_type": "code",
   "execution_count": null,
   "id": "c2ea0255-fc13-4d95-b263-acf568083aa7",
   "metadata": {},
   "outputs": [],
   "source": [
    "#11. What is method overloading in Python?\n",
    "\n",
    "#    - Method Overloading is a feature in many object-oriented languages (like Java or C++) that allows multiple methods in the same class \n",
    "#            with the same name but different parameters (number or type).\n",
    "#        However, Python does not support method overloading in the traditional sense.\n",
    "#         In Python, only the last defined method with a given name is retained."
   ]
  },
  {
   "cell_type": "code",
   "execution_count": null,
   "id": "fac12492-7792-4c05-bd89-28f64a1824b9",
   "metadata": {},
   "outputs": [],
   "source": [
    "#12. What is method overriding in OOP?\n",
    "\n",
    "#     -  Method Overriding is a fundamental concept in Object-Oriented Programming (OOP) where a child class provides a specific implementation of a \n",
    "#            method that is already defined in its parent class.\n",
    "#         This allows the child class to customize or completely replace the behavior of the inherited method.\n"
   ]
  },
  {
   "cell_type": "code",
   "execution_count": null,
   "id": "9bc08a7f-16a1-438d-a301-4c3c49c2cd78",
   "metadata": {},
   "outputs": [],
   "source": [
    "#13.  What is a property decorator in Python?\n",
    "\n",
    "#        - The @property decorator in Python is used to turn a method into a read-only property — meaning it can be accessed like an attribute, but still includes logic.\n",
    "#              It’s part of Python’s encapsulation system and is used to control access to private attributes while maintaining clean, readable code."
   ]
  },
  {
   "cell_type": "code",
   "execution_count": 3,
   "id": "acfff98d-b2f5-49fe-989a-3d6c85bcf5a0",
   "metadata": {},
   "outputs": [],
   "source": [
    "#14. Why is polymorphism important in OOP?\n",
    "\n",
    "#      -  Polymorphism is a key principle in Object-Oriented Programming (OOP) that allows objects of different classes to be treated as objects of a common superclass. \n",
    "#            It enables a single interface to represent different underlying data types.\n",
    "#         Polymorphism lets you write code that works on multiple types of objects without knowing their exact class."
   ]
  },
  {
   "cell_type": "code",
   "execution_count": null,
   "id": "4444d6e1-7cd1-4ade-af7d-1c4ea27c24cb",
   "metadata": {},
   "outputs": [],
   "source": [
    "#15. What is an abstract class in Python?\n",
    "\n",
    "#      -  An abstract class in Python is a class that cannot be instantiated directly and is meant to be inherited by other classes. \n",
    "#           It may contain abstract methods, methods that have no implementation in the base class and must be implemented by derived (child) classes."
   ]
  },
  {
   "cell_type": "code",
   "execution_count": null,
   "id": "61279ea9-b10c-499f-9ca4-6ca1acaf97b6",
   "metadata": {},
   "outputs": [],
   "source": [
    "#16. What are the advantages of OOP?\n",
    "\n",
    "#     -  Object-Oriented Programming (OOP) offers a structured and modular approach to software development by organizing code into classes and objects.\n",
    "#             It enhances reusability, scalability, and maintainability.\n",
    "\n",
    "#              (i). Modularity :-\tCode is divided into small, independent units (classes). Each class handles its own behavior and data.\n",
    "#              (ii). Reusability :-\tClasses and methods can be reused across different programs via inheritance and composition.\n",
    "#              (iii). Encapsulation :-\tData and behavior are bundled together. Access to internal data can be restricted and controlled.\n",
    "#              (iv). Polymorphism :- A single interface can represent multiple implementations — simplifies code that works across object types.\n",
    "#              (v). Inheritance :- New classes can inherit and extend existing functionality — avoids redundancy.\n",
    "#              (vi). Abstraction :-\tComplex internal logic is hidden; only essential features are exposed — improves clarity and reduces errors.\n",
    "#              (vii). Ease of Maintenance :- Code is easier to debug, modify, and update due to logical structure and reduced coupling.\n",
    "#              (viii). Scalability & Flexibility :-\tEasily extend applications by adding new classes or modifying existing ones without changing the entire codebase."
   ]
  },
  {
   "cell_type": "code",
   "execution_count": null,
   "id": "15031917-0768-44a3-aa23-c1df8291484f",
   "metadata": {},
   "outputs": [],
   "source": [
    "#17. What is the difference between a class variable and an instance variable?\n",
    "\n",
    "#      -   In Python (and other OOP languages), the key difference between class variables and instance variables lies in where they are stored and who shares them.\n",
    "#              In Python (and other OOP languages), the key difference between class variables and instance variables lies in where they are stored and who shares them.\n",
    "\n",
    "# Difference Between Class Variable and Instance Variable in Python\n",
    "\n",
    "#(I). Instance Variable :-  #(a). It belongs to an object (instance) of the class. \n",
    "                            #(b). Each object has its own separate copy. \n",
    "                            #(c). It is defined using self. inside methods (usually in __init__()).\n",
    "                            #(d). Used to store object-specific data.\n",
    "\n",
    "#  2. Class Variable :- #(a). Belongs to the class, shared by all instances.\n",
    "                        #(b). Defined directly inside the class, not in any method.\n",
    "                        #(c). Used to store shared data or constants.    "
   ]
  },
  {
   "cell_type": "code",
   "execution_count": null,
   "id": "bdacc526-fc7b-4143-a7a6-b1d1f84d8cfa",
   "metadata": {},
   "outputs": [],
   "source": [
    "#18. What is multiple inheritance in Python?\n",
    "\n",
    "#    -  Multiple Inheritance is a feature in Python where a class can inherit from more than one parent class.\n",
    "#        This allows the child class to access attributes and methods from all its parent classes."
   ]
  },
  {
   "cell_type": "code",
   "execution_count": null,
   "id": "3d4d265a-238c-4d4e-ad8e-a8d555dd5fed",
   "metadata": {},
   "outputs": [],
   "source": [
    "#19. Explain the purpose of \"__str__’ and ‘__repr__\" methods in Python?\n",
    "\n",
    "#     -  In Python, both __repr__ and __str__ are special (“dunder”) methods that control how an object is turned into a string—but they serve slightly different purposes:\n",
    "\n",
    "#    (1) __str__:-  (i). It is the “informal” or nicely printable representation.\n",
    "#                  (ii). It's goal is readable & user‐focused representation.\n",
    "#                  (iii). It is used by the built-in \"str()\" function and \"print().'\n",
    "#                  (iv). It returns a nicely formatted string that conveys the object’s meaning without necessarily being valid code.\n",
    "\n",
    "#    (2) __repr__:-  (i). It is the “official” representation\n",
    "#                    (ii). It's goal is Unambiguous & developer‐focused representation.\n",
    "#                   (iii). It is used by the interactive interpreter, the built-in repr() function, and as a fallback for str() if __str__ is not defined.\n",
    "#                   (iv). It returns a string that, if possible, is a valid Python expression which could be used to recreate the object (or at least shows all the important information).\n"
   ]
  },
  {
   "cell_type": "code",
   "execution_count": null,
   "id": "dbc5ec40-8f46-4042-9779-6e5589e1fe25",
   "metadata": {},
   "outputs": [],
   "source": [
    "#20. What is the significance of the ‘super()’ function in Python?\n",
    "\n",
    "#     -  The super() function in Python is used to call a method from a parent (super) class. \n",
    "#            It’s commonly used in inheritance to allow a subclass to extend or modify the behavior of its superclass."
   ]
  },
  {
   "cell_type": "code",
   "execution_count": null,
   "id": "b44a4144-0264-4c47-b528-a8614cb0b962",
   "metadata": {},
   "outputs": [],
   "source": [
    "#21. What is the significance of the '__del__' method in Python?\n",
    "\n",
    "#     -   The __del__ method is a special method in Python known as a destructor. \n",
    "#           It is called automatically when an object is about to be destroyed, typically when its reference count drops to zero."
   ]
  },
  {
   "cell_type": "code",
   "execution_count": null,
   "id": "d574bcc3-e534-46e4-9e05-082e889b5181",
   "metadata": {},
   "outputs": [],
   "source": [
    "#22. What is the difference between @staticmethod and @classmethod in Python?\n",
    "\n",
    "#     -   Both @staticmethod and @classmethod are decorators used to define methods that are not instance methods, but they serve different purposes.\n",
    "\n",
    "#(i).    @staticmethod :- It does not take 'self' or 'cls' as the first argument.\n",
    "#                           It acts like a regular function inside a class.\n",
    "#                           It cannot access or modify class state or instance state.\n",
    "#                           It is used when the method doesn’t need access to the instance (self) or the class (cls).\n",
    "\n",
    "#(ii.)   @classmethod :- It takes 'cls' as the first parameter (refers to the class itself).\n",
    "#                         It can access or modify class variables.\n",
    "#                         It is often used as factory methods that return an instance of the class."
   ]
  },
  {
   "cell_type": "code",
   "execution_count": null,
   "id": "5f7d2c00-d9c9-4776-9aeb-98b1020dad8b",
   "metadata": {},
   "outputs": [],
   "source": [
    "#23. How does polymorphism work in Python with inheritance?\n",
    "\n",
    "#     -  Polymorphism means \"many forms\". In object-oriented programming (OOP), polymorphism allows objects of different classes to be treated as \n",
    "#          objects of a common superclass, particularly through method overriding.\n",
    "\n",
    "#       In Python, polymorphism is implemented using \"inheritance\" and method overriding, and it is supported dynamically—you don’t need strict type declarations."
   ]
  },
  {
   "cell_type": "code",
   "execution_count": null,
   "id": "4a053a9a-3146-4448-8678-34db63e9c311",
   "metadata": {},
   "outputs": [],
   "source": [
    "#24. What is method chaining in Python OOP?\n",
    "\n",
    "#      -  Method chaining is a programming pattern where multiple methods are called on the same object in a single line, one after another. \n",
    "#           It’s commonly used for clean, fluent, and readable code.\n",
    "#           In method chaining, each method returns the object itself (self), so the next method can be called on it."
   ]
  },
  {
   "cell_type": "code",
   "execution_count": null,
   "id": "b55bfc07-44e3-4b25-84c5-16fd3bc7c7a7",
   "metadata": {},
   "outputs": [],
   "source": [
    "#25. What is the purpose of the __call__ method in Python?\n",
    "\n",
    "#     -  The __call__ method in Python lets you make an object behave like a function.\n",
    "#        If a class defines __call__, then its instances can be called like functions using parentheses ()—just like you’d call a regular function."
   ]
  },
  {
   "cell_type": "code",
   "execution_count": null,
   "id": "3063c7b6-d961-4d4f-b29f-c8424cb016b7",
   "metadata": {},
   "outputs": [],
   "source": [
    "### PRACTICAL QUESTIONS>>>>>"
   ]
  },
  {
   "cell_type": "code",
   "execution_count": 2,
   "id": "04594b37-c7f7-4a4e-adb3-e8ff2b27ec74",
   "metadata": {},
   "outputs": [],
   "source": [
    "# 1. Create a parent class Animal with a method speak() that prints a generic message. Create a child class Dog that overrides the speak() method to print \"Bark!\".\n",
    "\n",
    "class Animal:\n",
    "    def speak(self):\n",
    "        print(\"The animal makes a sound.\")\n",
    "\n",
    "class Dog(Animal):\n",
    "    def speak(self):\n",
    "        print(\"Bark!\")"
   ]
  },
  {
   "cell_type": "code",
   "execution_count": 4,
   "id": "84ad12ce-593f-4d72-ad6c-2eb2347d1380",
   "metadata": {},
   "outputs": [
    {
     "name": "stdout",
     "output_type": "stream",
     "text": [
      "The animal makes a sound.\n"
     ]
    }
   ],
   "source": [
    "a= Animal()\n",
    "a.speak()"
   ]
  },
  {
   "cell_type": "code",
   "execution_count": 5,
   "id": "65452ef4-324d-40c5-bf78-b36e14763b97",
   "metadata": {},
   "outputs": [
    {
     "name": "stdout",
     "output_type": "stream",
     "text": [
      "Bark!\n"
     ]
    }
   ],
   "source": [
    "d=Dog()\n",
    "d.speak()"
   ]
  },
  {
   "cell_type": "code",
   "execution_count": null,
   "id": "fda0b807-7fb8-440f-8a3b-9a4eca3c0dd7",
   "metadata": {},
   "outputs": [],
   "source": []
  },
  {
   "cell_type": "code",
   "execution_count": 6,
   "id": "9e7251f6-55c4-43e3-80bd-da848c5f34a9",
   "metadata": {},
   "outputs": [],
   "source": [
    "# 2. Write a program to create an abstract class Shape with a method area(). Derive classes Circle and Rectangle from it and implement the area() method in both.\n",
    "\n",
    "from abc import ABC, abstractmethod\n",
    "import math\n",
    "\n",
    "# Abstract base class\n",
    "class Shape(ABC):\n",
    "    @abstractmethod\n",
    "    def area(self):\n",
    "        pass\n",
    "\n",
    "# Derived class Circle\n",
    "class Circle(Shape):\n",
    "    def __init__(self, radius):\n",
    "        self.radius = radius\n",
    "\n",
    "    def area(self):\n",
    "        return math.pi * self.radius ** 2\n",
    "\n",
    "# Derived class Rectangle\n",
    "class Rectangle(Shape):\n",
    "    def __init__(self, width, height):\n",
    "        self.width = width\n",
    "        self.height = height\n",
    "\n",
    "    def area(self):\n",
    "        return self.width * self.height"
   ]
  },
  {
   "cell_type": "code",
   "execution_count": 7,
   "id": "322db81b-532b-4a00-85a1-7d224ac3b173",
   "metadata": {},
   "outputs": [
    {
     "name": "stdout",
     "output_type": "stream",
     "text": [
      "Area of Circle: 78.54\n"
     ]
    }
   ],
   "source": [
    "c = Circle(5)\n",
    "print(f\"Area of Circle: {c.area():.2f}\")"
   ]
  },
  {
   "cell_type": "code",
   "execution_count": 8,
   "id": "25989391-dd0a-4648-9fb3-282ca10dc0e5",
   "metadata": {},
   "outputs": [
    {
     "name": "stdout",
     "output_type": "stream",
     "text": [
      "Area of Rectangle: 24\n"
     ]
    }
   ],
   "source": [
    "r = Rectangle(4, 6)\n",
    "print(f\"Area of Rectangle: {r.area()}\")"
   ]
  },
  {
   "cell_type": "code",
   "execution_count": 9,
   "id": "eb021592-d78c-4b55-90cc-d91ad07d4f80",
   "metadata": {},
   "outputs": [],
   "source": [
    "# 3. Implement a multi-level inheritance scenario where a class Vehicle has an attribute type. Derive a class Car\n",
    "# and further derive a class ElectricCar that adds a battery attribute.\n",
    "\n",
    "# Base class\n",
    "class Vehicle:\n",
    "    def __init__(self, vehicle_type):\n",
    "        self.vehicle_type = vehicle_type\n",
    "\n",
    "    def display_info(self):\n",
    "        print(f\"Vehicle Type: {self.vehicle_type}\")\n",
    "\n",
    "# First derived class\n",
    "class Car(Vehicle):\n",
    "    def __init__(self, vehicle_type, brand):\n",
    "        super().__init__(vehicle_type)\n",
    "        self.brand = brand\n",
    "\n",
    "    def display_info(self):\n",
    "        super().display_info()\n",
    "        print(f\"Brand: {self.brand}\")\n",
    "\n",
    "# Second derived class (multi-level)\n",
    "class ElectricCar(Car):\n",
    "    def __init__(self, vehicle_type, brand, battery_capacity):\n",
    "        super().__init__(vehicle_type, brand)\n",
    "        self.battery_capacity = battery_capacity\n",
    "\n",
    "    def display_info(self):\n",
    "        super().display_info()\n",
    "        print(f\"Battery Capacity: {self.battery_capacity} kWh\")"
   ]
  },
  {
   "cell_type": "code",
   "execution_count": 10,
   "id": "b42b2952-7d24-42ae-9782-a65562f3ed94",
   "metadata": {},
   "outputs": [
    {
     "name": "stdout",
     "output_type": "stream",
     "text": [
      "Vehicle Type: Four Wheeler\n",
      "Brand: Tesla\n",
      "Battery Capacity: 75 kWh\n"
     ]
    }
   ],
   "source": [
    "e_car = ElectricCar(\"Four Wheeler\", \"Tesla\", 75)\n",
    "e_car.display_info()"
   ]
  },
  {
   "cell_type": "code",
   "execution_count": 12,
   "id": "e65bc5ff-611c-47ab-bbc5-16ad987a862c",
   "metadata": {},
   "outputs": [],
   "source": [
    "# 4. Demonstrate polymorphism by creating a base class Bird with a method fly(). Create two derived classes\n",
    "# Sparrow and Penguin that override the fly() method.\n",
    "\n",
    "# Base class\n",
    "class Bird:\n",
    "    def fly(self):\n",
    "        print(\"Birds can usually fly.\")\n",
    "\n",
    "# Derived class Sparrow\n",
    "class Sparrow(Bird):\n",
    "    def fly(self):\n",
    "        print(\"Sparrow flies swiftly through the sky.\")\n",
    "\n",
    "# Derived class Penguin\n",
    "class Penguin(Bird):\n",
    "    def fly(self):\n",
    "        print(\"Penguins cannot fly, but they are excellent swimmers.\")\n",
    "\n",
    "# Function demonstrating polymorphism\n",
    "def demonstrate_fly(bird: Bird):\n",
    "    bird.fly()"
   ]
  },
  {
   "cell_type": "code",
   "execution_count": 13,
   "id": "d9d0c7cf-70b4-4f8b-a7dc-49610a4571c3",
   "metadata": {},
   "outputs": [
    {
     "name": "stdout",
     "output_type": "stream",
     "text": [
      "Sparrow flies swiftly through the sky.\n",
      "Penguins cannot fly, but they are excellent swimmers.\n"
     ]
    }
   ],
   "source": [
    "birds = [Sparrow(), Penguin()]\n",
    "\n",
    "for b in birds:\n",
    "    demonstrate_fly(b)"
   ]
  },
  {
   "cell_type": "code",
   "execution_count": 14,
   "id": "7b3eed39-94ae-4b44-849a-e33cfc4dc560",
   "metadata": {},
   "outputs": [],
   "source": [
    "# 5. Write a program to demonstrate encapsulation by creating a class BankAccount with private attributes\n",
    "# balance and methods to deposit, withdraw, and check balance.\n",
    "\n",
    "class BankAccount:\n",
    "    def __init__(self, initial_balance=0):\n",
    "        self.__balance = initial_balance  # Private attribute\n",
    "\n",
    "    def deposit(self, amount):\n",
    "        if amount > 0:\n",
    "            self.__balance += amount\n",
    "            print(f\"Deposited: {amount}\")\n",
    "        else:\n",
    "            print(\"Deposit amount must be positive.\")\n",
    "\n",
    "    def withdraw(self, amount):\n",
    "        if amount <= self.__balance:\n",
    "            self.__balance -= amount\n",
    "            print(f\"Withdrawn: {amount}\")\n",
    "        else:\n",
    "            print(\"Insufficient balance.\")\n",
    "\n",
    "    def check_balance(self):\n",
    "        print(f\"Current Balance: {self.__balance}\")"
   ]
  },
  {
   "cell_type": "code",
   "execution_count": 15,
   "id": "b64648cc-57f9-44b5-abfd-1d5c34600ed3",
   "metadata": {},
   "outputs": [
    {
     "name": "stdout",
     "output_type": "stream",
     "text": [
      "Current Balance: 1000\n",
      "Deposited: 500\n",
      "Withdrawn: 300\n",
      "Current Balance: 1200\n"
     ]
    }
   ],
   "source": [
    "account = BankAccount(1000)\n",
    "account.check_balance()    \n",
    "account.deposit(500)       \n",
    "account.withdraw(300)      \n",
    "account.check_balance()"
   ]
  },
  {
   "cell_type": "code",
   "execution_count": 16,
   "id": "3fa9a1d8-7ded-40b2-96eb-fee255237364",
   "metadata": {},
   "outputs": [
    {
     "name": "stdout",
     "output_type": "stream",
     "text": [
      "Strumming the guitar strings.\n",
      "Playing the piano keys.\n"
     ]
    }
   ],
   "source": [
    "# 6. Demonstrate runtime polymorphism using a method play() in a base class Instrument. Derive classes Guitar\n",
    "# and Piano that implement their own version of play().\n",
    "\n",
    "# Base class\n",
    "class Instrument:\n",
    "    def play(self):\n",
    "        print(\"The instrument is playing.\")\n",
    "\n",
    "# Derived class Guitar\n",
    "class Guitar(Instrument):\n",
    "    def play(self):\n",
    "        print(\"Strumming the guitar strings.\")\n",
    "\n",
    "# Derived class Piano\n",
    "class Piano(Instrument):\n",
    "    def play(self):\n",
    "        print(\"Playing the piano keys.\")\n",
    "\n",
    "# Function to demonstrate runtime polymorphism\n",
    "def perform(instrument: Instrument):\n",
    "    instrument.play()\n",
    "\n",
    "# Example usage\n",
    "instruments = [Guitar(), Piano()]\n",
    "\n",
    "for inst in instruments:\n",
    "    perform(inst)"
   ]
  },
  {
   "cell_type": "code",
   "execution_count": 45,
   "id": "0a6de071-d498-489c-afa1-c360d52ae6a6",
   "metadata": {},
   "outputs": [],
   "source": [
    "# 7. Create a class MathOperations with a class method add_numbers() to add two numbers and a static\n",
    "# method subtract_numbers() to subtract two numbers.\n",
    "\n",
    "class MathOperations:\n",
    "    def add_numbers(a, b):\n",
    "        return a + b\n",
    "\n",
    "    def subtract_numbers(a, b):\n",
    "        return a - b"
   ]
  },
  {
   "cell_type": "code",
   "execution_count": 46,
   "id": "f91ec32a-4efa-41bd-b498-3552c3b17255",
   "metadata": {},
   "outputs": [
    {
     "name": "stdout",
     "output_type": "stream",
     "text": [
      "Sum: 16\n"
     ]
    }
   ],
   "source": [
    "sum_result = MathOperations.add_numbers(12, 4)\n",
    "print(f\"Sum: {sum_result}\")"
   ]
  },
  {
   "cell_type": "code",
   "execution_count": 47,
   "id": "a640a6d6-1fdd-4da7-b76e-f0cea6df2e3f",
   "metadata": {},
   "outputs": [
    {
     "name": "stdout",
     "output_type": "stream",
     "text": [
      "Difference: 5\n"
     ]
    }
   ],
   "source": [
    "diff_result = MathOperations.subtract_numbers(10, 5)\n",
    "print(f\"Difference: {diff_result}\")"
   ]
  },
  {
   "cell_type": "code",
   "execution_count": 48,
   "id": "8a0803be-64e2-4204-8654-460849763004",
   "metadata": {},
   "outputs": [],
   "source": [
    "    # 8. Implement a class Person with a class method to count the total number of persons created.\n",
    "\n",
    "class Person:\n",
    "    count = 0\n",
    "\n",
    "    def __init__(self, name):\n",
    "        self.name = name\n",
    "        Person.count += 1\n",
    "\n",
    "    @classmethod\n",
    "    def total_persons(cls):\n",
    "        return cls.count"
   ]
  },
  {
   "cell_type": "code",
   "execution_count": 49,
   "id": "f3987bd4-3f8a-4e01-9095-a9e57bbc33d5",
   "metadata": {},
   "outputs": [
    {
     "name": "stdout",
     "output_type": "stream",
     "text": [
      "Total Persons Created: 4\n"
     ]
    }
   ],
   "source": [
    "p1 = Person(\"Shyama\")\n",
    "p2 = Person(\"Dhanush\")\n",
    "p3 = Person(\"Shweta\")\n",
    "p4= Person(\"Prachi\")\n",
    "\n",
    "print(f\"Total Persons Created: {Person.total_persons()}\")"
   ]
  },
  {
   "cell_type": "code",
   "execution_count": 50,
   "id": "001c9bc6-2794-4456-b949-13e2084968cf",
   "metadata": {},
   "outputs": [],
   "source": [
    "# 9. Write a class Fraction with attributes numerator and denominator. Override the str method to display the\n",
    "# fraction as \"numerator/denominator\".\n",
    "\n",
    "class Fraction:\n",
    "    def __init__(self, numerator, denominator):\n",
    "        self.numerator = numerator\n",
    "        self.denominator = denominator\n",
    "\n",
    "    def __str__(self):\n",
    "        return f\"{self.numerator}/{self.denominator}\""
   ]
  },
  {
   "cell_type": "code",
   "execution_count": 51,
   "id": "73f4b4f8-385b-4565-b053-66cd038e5755",
   "metadata": {},
   "outputs": [
    {
     "name": "stdout",
     "output_type": "stream",
     "text": [
      "3/4\n",
      "7/2\n"
     ]
    }
   ],
   "source": [
    "f1 = Fraction(3, 4)\n",
    "print(f1)\n",
    "\n",
    "f2 = Fraction(7, 2)\n",
    "print(f2)"
   ]
  },
  {
   "cell_type": "code",
   "execution_count": 52,
   "id": "6695818f-97c8-43fb-90f3-0a3362e531ce",
   "metadata": {},
   "outputs": [
    {
     "name": "stdout",
     "output_type": "stream",
     "text": [
      "Vector(6, 8)\n"
     ]
    }
   ],
   "source": [
    "# 10. Demonstrate operator overloading by creating a class Vector and overriding the add method to add two vectors.\n",
    "\n",
    "class Vector:\n",
    "    def __init__(self, x, y):\n",
    "        self.x = x\n",
    "        self.y = y\n",
    "\n",
    "    # Overloading the + operator\n",
    "    def __add__(self, other):\n",
    "        if isinstance(other, Vector):\n",
    "            return Vector(self.x + other.x, self.y + other.y)\n",
    "        return NotImplemented\n",
    "\n",
    "    def __str__(self):\n",
    "        return f\"Vector({self.x}, {self.y})\"\n",
    "\n",
    "\n",
    "\n",
    "v1 = Vector(2, 3)\n",
    "v2 = Vector(4, 5)\n",
    "v3 = v1 + v2\n",
    "\n",
    "print(v3)"
   ]
  },
  {
   "cell_type": "code",
   "execution_count": 53,
   "id": "4339400d-e6d0-4e75-af5d-b624d19a60d0",
   "metadata": {},
   "outputs": [
    {
     "name": "stdout",
     "output_type": "stream",
     "text": [
      "Hello, my name is Rajat and I am 27 years old.\n"
     ]
    }
   ],
   "source": [
    "# 11. Create a class Person with attributes name and age. Add a method greet() that prints \"Hello, my name is {name} and I am {age} years old.\"\n",
    "\n",
    "class Person:\n",
    "    def __init__(self, name, age):\n",
    "        self.name = name\n",
    "        self.age = age\n",
    "\n",
    "    def greet(self):\n",
    "        print(f\"Hello, my name is {self.name} and I am {self.age} years old.\")\n",
    "\n",
    "\n",
    "person = Person(\"Rajat\", 27)\n",
    "person.greet()"
   ]
  },
  {
   "cell_type": "code",
   "execution_count": 54,
   "id": "d6c33149-445f-4b5e-924e-69dffea858ef",
   "metadata": {},
   "outputs": [
    {
     "name": "stdout",
     "output_type": "stream",
     "text": [
      "Rajat's average grade is: 86.25\n"
     ]
    }
   ],
   "source": [
    "# 12. Implement a class Student with attributes name and grades. Create a method average_grade() to compute the average of the grades.\n",
    "\n",
    "\n",
    "class Student:\n",
    "    def __init__(self, name, grades):\n",
    "        self.name = name\n",
    "        self.grades = grades\n",
    "\n",
    "    def average_grade(self):\n",
    "        if not self.grades:\n",
    "            return 0\n",
    "        return sum(self.grades) / len(self.grades)\n",
    "\n",
    "\n",
    "student = Student(\"Rajat\", [85, 90, 78, 92])\n",
    "print(f\"{student.name}'s average grade is: {student.average_grade():.2f}\")"
   ]
  },
  {
   "cell_type": "code",
   "execution_count": 58,
   "id": "3c912c2b-f152-47be-9a11-4c13e6962aa8",
   "metadata": {},
   "outputs": [
    {
     "name": "stdout",
     "output_type": "stream",
     "text": [
      "Area of rectangle: 225 sqm\n"
     ]
    }
   ],
   "source": [
    "# 13. Create a class Rectangle with methods set_dimensions() to set the dimensions and area() to calculate the area.\n",
    "\n",
    "class Rectangle:\n",
    "    def __init__(self):\n",
    "        self.length = 0\n",
    "        self.width = 0\n",
    "\n",
    "    def set_dimensions(self, length, width):\n",
    "        self.length = length\n",
    "        self.width = width\n",
    "\n",
    "    def area(self):\n",
    "        return self.length * self.width\n",
    "\n",
    "\n",
    "rect = Rectangle()\n",
    "rect.set_dimensions(25, 9)\n",
    "print(f\"Area of rectangle: {rect.area()} sqm\")"
   ]
  },
  {
   "cell_type": "code",
   "execution_count": 59,
   "id": "79a2e0a2-94f6-4328-8dba-495a8b2c2141",
   "metadata": {},
   "outputs": [
    {
     "name": "stdout",
     "output_type": "stream",
     "text": [
      "Rajat's Salary: $800\n",
      "Deepti's Salary: $1500\n"
     ]
    }
   ],
   "source": [
    "# 14. Create a class Employee with a method calculate_salary() that computes the salary based on hours worked\n",
    "# and hourly rate. Create a derived class Manager that adds a bonus to the salary.\n",
    "\n",
    "class Employee:\n",
    "    def __init__(self, name, hours_worked, hourly_rate):\n",
    "        self.name = name\n",
    "        self.hours_worked = hours_worked\n",
    "        self.hourly_rate = hourly_rate\n",
    "\n",
    "    def calculate_salary(self):\n",
    "        return self.hours_worked * self.hourly_rate\n",
    "\n",
    "# Derived class\n",
    "class Manager(Employee):\n",
    "    def __init__(self, name, hours_worked, hourly_rate, bonus):\n",
    "        super().__init__(name, hours_worked, hourly_rate)\n",
    "        self.bonus = bonus\n",
    "\n",
    "    def calculate_salary(self):\n",
    "        base_salary = super().calculate_salary()\n",
    "        return base_salary + self.bonus\n",
    "\n",
    "# Example usage\n",
    "emp = Employee(\"Rajat\", 40, 20)\n",
    "mgr = Manager(\"Deepti\", 40, 25, 500)\n",
    "\n",
    "print(f\"{emp.name}'s Salary: ${emp.calculate_salary()}\")\n",
    "print(f\"{mgr.name}'s Salary: ${mgr.calculate_salary()}\")"
   ]
  },
  {
   "cell_type": "code",
   "execution_count": 60,
   "id": "f6791109-fbe6-442b-863f-4923d07ba422",
   "metadata": {},
   "outputs": [
    {
     "name": "stdout",
     "output_type": "stream",
     "text": [
      "Total price for 3 Laptops: $3000\n"
     ]
    }
   ],
   "source": [
    "# 15. Create a class Product with attributes name, price, and quantity. Implement a method total_price() that calculates the total price of the product.\n",
    "\n",
    "class Product:\n",
    "    def __init__(self, name, price, quantity):\n",
    "        self.name = name\n",
    "        self.price = price\n",
    "        self.quantity = quantity\n",
    "\n",
    "    def total_price(self):\n",
    "        return self.price * self.quantity\n",
    "\n",
    "# Example usage\n",
    "product = Product(\"Laptop\", 1000, 3)\n",
    "print(f\"Total price for {product.quantity} {product.name}s: ${product.total_price()}\")"
   ]
  },
  {
   "cell_type": "code",
   "execution_count": 62,
   "id": "c932d702-d897-48ad-a0c5-2484cd5ae9c8",
   "metadata": {},
   "outputs": [],
   "source": [
    "# 16. Create a class Animal with an abstract method sound(). Create two derived classes Cow and Sheep that implement the sound() method.\n",
    "\n",
    "from abc import ABC, abstractmethod\n",
    "\n",
    "# Abstract base class\n",
    "class Animal(ABC):\n",
    "    @abstractmethod\n",
    "    def sound(self):\n",
    "        pass\n",
    "\n",
    "# Derived class Cow\n",
    "class Cow(Animal):\n",
    "    def sound(self):\n",
    "        print(\"Aauuunn\")\n",
    "\n",
    "# Derived class Sheep\n",
    "class Sheep(Animal):\n",
    "    def sound(self):\n",
    "        print(\"Myyann\")"
   ]
  },
  {
   "cell_type": "code",
   "execution_count": 63,
   "id": "765359c2-aa26-4cd2-b63d-3a16456f767b",
   "metadata": {},
   "outputs": [
    {
     "name": "stdout",
     "output_type": "stream",
     "text": [
      "Aauuunn\n",
      "Myyann\n"
     ]
    }
   ],
   "source": [
    "cow = Cow()\n",
    "sheep = Sheep()\n",
    "\n",
    "cow.sound()\n",
    "sheep.sound()"
   ]
  },
  {
   "cell_type": "code",
   "execution_count": 64,
   "id": "4d11bda9-0848-4424-9070-44d4cef9a5a6",
   "metadata": {},
   "outputs": [
    {
     "name": "stdout",
     "output_type": "stream",
     "text": [
      "'India after Gandhi' by Ramchandra Guha, published in 2007.\n"
     ]
    }
   ],
   "source": [
    "# 17. Create a class Book with attributes title, author, and year_published. Add a method get_book_info() that\n",
    "# returns a formatted string with the book's details.\n",
    "\n",
    "class Book:\n",
    "    def __init__(self, title, author, year_published):\n",
    "        self.title = title\n",
    "        self.author = author\n",
    "        self.year_published = year_published\n",
    "\n",
    "    def get_book_info(self):\n",
    "        return f\"'{self.title}' by {self.author}, published in {self.year_published}.\"\n",
    "\n",
    "# Example usage\n",
    "book = Book(\"India after Gandhi\", \"Ramchandra Guha\", 2007)\n",
    "print(book.get_book_info())"
   ]
  },
  {
   "cell_type": "code",
   "execution_count": 65,
   "id": "101fc250-4426-4d5e-9133-023b854d4d4e",
   "metadata": {},
   "outputs": [
    {
     "name": "stdout",
     "output_type": "stream",
     "text": [
      "Address: 1911 Rani Laxmibai Marg, Price: $2500000, Number of Rooms: 12\n"
     ]
    }
   ],
   "source": [
    "# 18. Create a class House with attributes address and price. Create a derived class Mansion that adds an attribute number_of_rooms.\n",
    "\n",
    "class House:\n",
    "    def __init__(self, address, price):\n",
    "        self.address = address\n",
    "        self.price = price\n",
    "\n",
    "    def get_info(self):\n",
    "        return f\"Address: {self.address}, Price: ${self.price}\"\n",
    "\n",
    "# Derived class\n",
    "class Mansion(House):\n",
    "    def __init__(self, address, price, number_of_rooms):\n",
    "        super().__init__(address, price)\n",
    "        self.number_of_rooms = number_of_rooms\n",
    "\n",
    "    def get_info(self):\n",
    "        base_info = super().get_info()\n",
    "        return f\"{base_info}, Number of Rooms: {self.number_of_rooms}\"\n",
    "\n",
    "\n",
    "mansion = Mansion(\"1911 Rani Laxmibai Marg\", 2500000, 12)\n",
    "print(mansion.get_info())"
   ]
  },
  {
   "cell_type": "code",
   "execution_count": 66,
   "id": "666c7888-9523-4d05-a38b-5a726f4395a3",
   "metadata": {},
   "outputs": [],
   "source": [
    "# ***Thank You***"
   ]
  }
 ],
 "metadata": {
  "kernelspec": {
   "display_name": "Python 3 (ipykernel)",
   "language": "python",
   "name": "python3"
  },
  "language_info": {
   "codemirror_mode": {
    "name": "ipython",
    "version": 3
   },
   "file_extension": ".py",
   "mimetype": "text/x-python",
   "name": "python",
   "nbconvert_exporter": "python",
   "pygments_lexer": "ipython3",
   "version": "3.13.3"
  }
 },
 "nbformat": 4,
 "nbformat_minor": 5
}
