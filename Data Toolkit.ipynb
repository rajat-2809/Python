{
 "cells": [
  {
   "cell_type": "code",
   "execution_count": 13,
   "id": "61be7573-6eae-4ab9-8f75-2b46ede09207",
   "metadata": {},
   "outputs": [],
   "source": [
    "## Assignment 6:-  Data Toolkit ##"
   ]
  },
  {
   "cell_type": "code",
   "execution_count": null,
   "id": "29c549e4-f958-4b90-8d29-cf5b03b9b408",
   "metadata": {},
   "outputs": [],
   "source": [
    "#1. What is NumPy, and why is it widely used in Python?\n",
    "\n",
    "    # - NumPy (short for Numerical Python) is a powerful open-source library in Python used for numerical and scientific computing. \n",
    "# It provides support for large, multi-dimensional arrays and matrices, along with a collection of mathematical functions to operate on these arrays efficiently.\n",
    "\n",
    "# It is widely used because of the following reasons:- \n",
    "#                      (a). Speed:- NumPy operations are implemented in C, making them faster than pure Python.\n",
    "#                      (b). Convenience:- Simplifies operations on arrays (e.g., slicing, reshaping, broadcasting).\n",
    "#                      (c). Foundation for other libraries:- Libraries like Pandas, SciPy, scikit-learn, and TensorFlow are built on or use NumPy internally.\n",
    "#                      (d). Community and Support:- Well-documented with a large user base and many resources."
   ]
  },
  {
   "cell_type": "code",
   "execution_count": null,
   "id": "25fc8384-f484-45e0-a807-eb5825309991",
   "metadata": {},
   "outputs": [],
   "source": [
    "#2. How does broadcasting work in NumPy?\n",
    "\n",
    "    # - Broadcasting in NumPy is a powerful mechanism that allows arithmetic operations on arrays of different shapes and sizes without explicitly replicating data.\n",
    "#        It helps write clean, vectorized code and avoids unnecessary memory usage.\n",
    "\n",
    "#  Broadcasting automatically expands the smaller array so that its shape matches the larger array in an operation (like addition, multiplication, etc.), \n",
    "#   without making actual copies.\n",
    "\n",
    "# To broadcast two arrays together, NumPy compares their shapes element-wise from right to left. Two dimensions are compatible when:\n",
    "# (i). They are equal, or\n",
    "# (ii). One of them is 1,             If these rules are satisfied, broadcasting is possible."
   ]
  },
  {
   "cell_type": "code",
   "execution_count": null,
   "id": "1c7e76c3-2826-4419-bcab-64c7a9cc109a",
   "metadata": {},
   "outputs": [],
   "source": [
    "#3. What is a Pandas DataFrame?\n",
    "\n",
    "    # -A Pandas DataFrame is a two-dimensional, labeled data structure in Python's Pandas library. You can think of it like a spreadsheet or a SQL table —\n",
    "#       it has rows and columns, where each column can hold different types of data (integers, strings, floats, etc.).\n",
    "\n",
    "# Key Characteristics of a DataFrame:\n",
    "#   Feature\t    -                      Description\n",
    "# 2D Structure\t   -       Rows and columns, like an Excel sheet.\n",
    "# Labeled Axes\t   -       Rows have index labels, columns have column names.\n",
    "# Heterogeneous data -\t  Each column can be of a different data type.\n",
    "# Size mutable\t     -     You can add/drop rows or columns easily.\n",
    "# Built-in functions -\t  Many powerful methods for filtering, grouping, reshaping, etc."
   ]
  },
  {
   "cell_type": "code",
   "execution_count": 14,
   "id": "60f03d89-35de-48b9-9061-770fff572c35",
   "metadata": {},
   "outputs": [],
   "source": [
    "#4. Explain the use of the groupby() method in Pandas?\n",
    "\n",
    "    # - The groupby() method in Pandas is used to split a DataFrame into groups based on one or more keys (columns), \n",
    "#                   apply a function to each group, and then combine the results — a process often referred to as \"split-apply-combine\".\n",
    "\n",
    "# We Use groupby() method to perform group-wise operations like:- \n",
    "#                                                          -> Aggregation (e.g., sum, mean)\n",
    "#                                                          -> Transformation (e.g., scaling within groups)\n",
    "#                                                          -> Filtering (e.g., drop groups below a certain size"
   ]
  },
  {
   "cell_type": "code",
   "execution_count": null,
   "id": "94955a58-9242-4aef-bbeb-aeffb56e2f64",
   "metadata": {},
   "outputs": [],
   "source": [
    "#5. Why is Seaborn preferred for statistical visualizations)?\n",
    "\n",
    "    # - Seaborn is a Python data visualization library built on top of Matplotlib that is widely preferred for statistical visualizations because it \n",
    "#         simplifies and enhances the process of creating attractive and informative plots.\n",
    "\n",
    "# Seaborn is Preferred for Statistical Visualizations because of the following features:\n",
    "#            #Features\t                                                           #Why it Matters\n",
    "#(i). Built-in support for statistical plots\t-      Seaborn provides ready-to-use functions for visualizing distributions, relationships, regressions, \n",
    "                                                   # and categorical data (e.g., histograms, boxplots, violin plots, heatmaps).\n",
    "#(ii). Better aesthetics by default\t     -             Seaborn comes with attractive color themes and styles out of the box, \n",
    "                                                   # making charts visually appealing with minimal effort.\n",
    "#(iii). Simplified syntax\t                 -             Creating complex visualizations often requires just one line of code.\n",
    "#(iv). DataFrame integration\t              -            Works directly with Pandas DataFrames, so you can reference columns by name instead of slicing arrays.\n",
    "#(v). Built-in functions for statistical estimation\t-  Automatically computes and plots confidence intervals, regression lines, means, etc., where appropriate.\n",
    "#(vi). Automatic aggregation\t            -              Many plot types like barplot() and pointplot() aggregate data automatically and show error bars.\n",
    "#(vii). Theme customization and palettes\t -             Offers many color palettes and themes suited for both presentation and publication-quality graphics."
   ]
  },
  {
   "cell_type": "code",
   "execution_count": null,
   "id": "e17750c0-7688-46c8-bdd5-a49c475cc320",
   "metadata": {},
   "outputs": [],
   "source": [
    "#6. What are the differences between NumPy arrays and Python lists?\n",
    "\n",
    "\n",
    "    # - NumPy arrays and Python lists are both used to store collections of data, but they differ significantly in structure and performance. \n",
    "\n",
    "# NumPy arrays are homogeneous, meaning all elements must be of the same data type, while Python lists are heterogeneous and can store mixed data types.\n",
    "\n",
    "# This uniformity allows NumPy arrays to be much faster and more memory-efficient than lists, as they are stored in contiguous blocks of memory \n",
    "                          #  and optimized for numerical operations.\n",
    "\n",
    "# Unlike lists, NumPy arrays support vectorized operations, allowing element-wise arithmetic without the need for explicit loops. \n",
    "\n",
    "# Numpy also support broadcasting, which enables operations on arrays of different shapes. \n",
    "\n",
    "# Additionally, NumPy provides a rich set of built-in mathematical functions like mean, sum, and standard deviation, which are not directly available for lists. \n",
    "\n",
    "# While Python lists are more flexible for general-purpose use, NumPy arrays are preferred in scientific computing, data analysis and machine learning \n",
    "                                      # due to their speed, efficiency, and extensive functionality."
   ]
  },
  {
   "cell_type": "code",
   "execution_count": null,
   "id": "32acbc53-64af-4c91-a833-b2e9aae962a6",
   "metadata": {},
   "outputs": [],
   "source": [
    "#7. What is a heatmap, and when should it be used?\n",
    "\n",
    "    # - A heatmap is a data visualization technique that uses color gradients to represent the magnitude of values in a matrix-like format. \n",
    "# Each cell in a heatmap shows the value of a variable (usually numeric) using a color intensity — typically, darker or more intense colors indicate higher values, \n",
    "          # and lighter colors indicate lower values.\n",
    "\n",
    "# A heatmap is most useful when we want to:- \n",
    "\n",
    "# Visualize correlations or relationships in data\n",
    "#                                                 Example: Show correlation between features in a dataset using sns.heatmap(df.corr()).\n",
    "\n",
    "# Spot patterns, clusters, or anomalies in tabular data\n",
    "#                                                 Example: Visualize student test scores across subjects to quickly spot strengths and weaknesses.\n",
    "\n",
    "# Display a matrix or 2D array of values clearly\n",
    "#                                                Example: Display a confusion matrix for model evaluation in classification problems.\n",
    "\n",
    "# Compare many variables at once\n",
    "#                                            Example: Ideal for datasets with many numerical features to understand overall relationships."
   ]
  },
  {
   "cell_type": "code",
   "execution_count": null,
   "id": "a9e625b2-4cc2-4096-b9ca-7c2105df36d1",
   "metadata": {},
   "outputs": [],
   "source": [
    "#8. What does the term “vectorized operation” mean in NumPy?\n",
    "\n",
    "    # -In NumPy, a vectorized operation refers to performing operations directly on entire arrays (or vectors) without using explicit loops in Python. \n",
    "#                     These operations are internally implemented in optimized C code, making them faster and more efficient than manual looping.\n",
    "\n",
    "# Instead of writing a loop to add two lists element by element, NumPy lets you perform that operation in a single line — and much faster."
   ]
  },
  {
   "cell_type": "code",
   "execution_count": null,
   "id": "9c513111-d48b-443b-bf9e-991d9316ba5c",
   "metadata": {},
   "outputs": [],
   "source": [
    "#9. How does Matplotlib differ from Plotly?\n",
    "\n",
    "    # - Matplotlib and Plotly are both powerful Python libraries for data visualization, but they differ significantly in style, purpose, and functionality.\n",
    "\n",
    "# Matplotlib is primarily used for creating static, publication-quality plots and offers fine-grained control over every visual element. \n",
    "# It’s ideal for scientific and academic use where custom layouts and precise formatting are needed. \n",
    "# However, it requires more code and has a steeper learning curve for complex visualizations. \n",
    "\n",
    "# In contrast, Plotly is designed for interactive and web-based visualizations. \n",
    "# It allows users to create dynamic charts with features like zooming, panning, and tooltips with minimal code. \n",
    "# Plotly is especially suited for dashboards, presentations, and data exploration tasks due to its built-in interactivity and compatibility with web frameworks like Dash. \n",
    "\n",
    "# While Matplotlib produces static images (e.g., PNG, PDF), Plotly outputs interactive HTML visualizations.\n",
    "# If you need control and custom styling, Matplotlib is the better choice; if you want intuitive, interactive visuals, Plotly is more effective."
   ]
  },
  {
   "cell_type": "code",
   "execution_count": null,
   "id": "bb9f6777-033b-4559-b56e-6e731914351d",
   "metadata": {},
   "outputs": [],
   "source": [
    "#10. What is the significance of hierarchical indexing in Pandas?\n",
    "\n",
    "    # - Hierarchical indexing (also called MultiIndexing) in Pandas is a powerful feature that allows you to have multiple levels of indexing on a Series or DataFrame. \n",
    "#            This enables more complex data structures and makes it easier to work with high-dimensional data in a 2D format.\n",
    "\n",
    "# Significance of Hierarchical Indexing:\n",
    "#(a). Organizes multi-level data efficiently:\n",
    "#                                You can represent data with multiple keys (e.g., country and year) in a single DataFrame without needing to reshape it.\n",
    "\n",
    "#(b). Simplifies complex group operations:\n",
    "#                                Makes it easier to use methods like groupby(), pivot_table(), and stack()/unstack() for multi-level data summarization.\n",
    "\n",
    "#(c). Allows flexible slicing and subsetting:\n",
    "#                                 You can access data across multiple dimensions using tuple-based indexing.\n",
    "\n",
    "#(d). Reduces redundancy:\n",
    "#                                  Avoids duplicating labels and keeps data more compact and structured."
   ]
  },
  {
   "cell_type": "code",
   "execution_count": null,
   "id": "3914b3cf-2925-4f23-ae88-cd8632d8cbe7",
   "metadata": {},
   "outputs": [],
   "source": [
    "#11. What is the role of Seaborn’s pairplot() function?\n",
    "\n",
    "    # - The **pairplot()** function in Seaborn is used to create a matrix of scatter plots that visualize the pairwise relationships between multiple numerical variables in a dataset. \n",
    "#    It is especially useful for exploratory data analysis (EDA) because it allows you to quickly see patterns, correlations, and potential outliers across combinations of features.\n",
    "\n",
    "# Key Roles of pairplot() in Data Analysis:\n",
    "#(a) Visualizes pairwise relationships:\n",
    "#                                     Shows how each numerical variable relates to every other variable using scatter plots.\n",
    "\n",
    "#(b) Includes histograms or KDEs on the diagonal:\n",
    "#                                              Gives insight into the distribution of each variable.\n",
    "\n",
    "#(c) Supports color grouping:\n",
    "#                         You can use the hue parameter to color the data points by a categorical variable (e.g., species, gender, class), making it easy to compare classes.\n",
    "\n",
    "#(d) Detects correlations and clusters:\n",
    "#                                      Makes it easy to spot linear or nonlinear relationships, and whether certain categories form separate groups.\n",
    "\n",
    "#(e) Ideal for small to medium datasets:\n",
    "#                                      Works best when there are not too many numerical columns, as the number of plots grows quickly."
   ]
  },
  {
   "cell_type": "code",
   "execution_count": null,
   "id": "98725382-1d65-40c2-a9cc-4936fc800829",
   "metadata": {},
   "outputs": [],
   "source": [
    "#12. What is the purpose of the describe() function in Pandas?\n",
    "\n",
    "    # - The describe() function in Pandas is used to generate summary statistics of a DataFrame or Series.\n",
    "# It provides a quick overview of the central tendency, dispersion, and shape of the distribution of numerical (and sometimes categorical) data.\n",
    "\n",
    "# Purpose of describe() Function:-\n",
    "#(a) Summarizes numerical columns:\n",
    "#                         It returns key statistics like count, mean, standard deviation, min, 25%, 50% (median), 75%, and max for each numeric column.\n",
    "\n",
    "#(b) Helps in exploratory data analysis (EDA):\n",
    "#                                       Offers a quick snapshot to understand the distribution and detect potential outliers or skewed data.\n",
    "\n",
    "#(c) Useful for data quality checks:\n",
    "#                               Can help identify missing values (through count), data ranges, and inconsistencies.\n",
    "\n",
    "#(d) Can also summarize object (categorical) columns:\n",
    "#                                   If include='object' or include='all' is passed, it returns info like unique count, top value, and frequency for string or categorical columns."
   ]
  },
  {
   "cell_type": "code",
   "execution_count": null,
   "id": "4f2c6dda-d3a6-4581-97dc-9d92be232681",
   "metadata": {},
   "outputs": [],
   "source": [
    "#13. Why is handling missing data important in Pandas?\n",
    "\n",
    "    # - Handling missing data in Pandas is important because it ensures the accuracy, reliability, and consistency of your data analysis and models. \n",
    "#          Missing values, if left untreated, can lead to incorrect conclusions, biased results, and errors in computations.\n",
    "\n"
   ]
  },
  {
   "cell_type": "code",
   "execution_count": null,
   "id": "370b183f-a1ff-40c8-b9d8-f0f59a272f3a",
   "metadata": {},
   "outputs": [],
   "source": [
    "#14. What are the benefits of using Plotly for data visualization?\n",
    "\n",
    "    # -Using Plotly for data visualization offers several key benefits, especially when working with interactive and web-based applications. \n",
    "#       Plotly is a high-level, open-source library that makes it easy to create beautiful, interactive, and highly customizable plots with minimal code.\n",
    "\n",
    "# Benefits of Using Plotly:-\n",
    "\n",
    "#(a) Interactive Visualizations:\n",
    "#                         Plotly charts come with built-in interactivity such as zooming, panning, tooltips, and legends,\n",
    "#                                 which makes data exploration more intuitive and engaging.\n",
    "\n",
    "#(b) Web-Friendly and Shareable:\n",
    "#                     Plotly outputs are HTML-based, making them easy to embed in web pages, dashboards, or Jupyter Notebooks. \n",
    "#                                     We can save charts as HTML files and share them without needing additional software.\n",
    "\n",
    "#(c) Wide Range of Chart Types:\n",
    "#                        Plotly supports a vast array of visualizations including line charts, bar charts, scatter plots, heatmaps, \n",
    "#                                                    3D plots, maps, pie charts, box plots, and animations, all within a consistent API.\n",
    "\n",
    "#(d) Ease of Use with Plotly Express:\n",
    "#                              The plotly.express module provides a simple syntax for creating complex plots with just one line of code, ideal for quick exploratory analysis.\n",
    "\n",
    "#(e) Customizability and Styling:\n",
    "#                           Plotly allows fine control over layout, axes, colors, markers, hover behavior, and more, enabling creation of publication- or presentation-quality plots.\n",
    "\n",
    "#(f) Integration with Dash:\n",
    "#                     Plotly integrates seamlessly with Dash, a framework for building interactive web applications in pure Python — \n",
    "#                                                                        perfect for creating data dashboards and analytical tools.\n",
    "\n",
    "#(g) Supports Real-Time Updates:\n",
    "#                           We can build live, streaming plots that update in real time, which is useful for monitoring data like stock prices or sensor inputs.\n",
    "\n",
    "#(h) Cross-Platform Compatibility:\n",
    "#                          Plotly works in web browsers, Jupyter Notebooks, and even mobile devices without extra setup."
   ]
  },
  {
   "cell_type": "code",
   "execution_count": null,
   "id": "57980a6b-cbe3-4bcd-b8f8-477fb908701d",
   "metadata": {},
   "outputs": [],
   "source": [
    "#15. How does NumPy handle multidimensional arrays?\n",
    "\n",
    "    # - NumPy handles multidimensional arrays through its powerful ndarray object, which allows for the efficient storage and manipulation of data in N-dimensions. \n",
    "#         These arrays are known as NumPy arrays, and they can represent everything from simple 1D vectors to complex multi-dimensional matrices like images, tensors, and datasets."
   ]
  },
  {
   "cell_type": "code",
   "execution_count": null,
   "id": "fb4ba080-01de-4077-bd71-fc2007105bc2",
   "metadata": {},
   "outputs": [],
   "source": [
    "#16. What is the role of Bokeh in data visualization?\n",
    "\n",
    "    # -Bokeh is a Python library designed for creating interactive, web-ready visualizations that can be easily embedded into web applications, dashboards, and Jupyter notebooks.\n",
    "#                Its primary role is to help users build rich, interactive plots and data applications with high-performance interactivity.\n",
    "\n",
    "# Role of Bokeh in Data Visualization:-\n",
    "\n",
    "#(a) Interactive Visualizations:\n",
    "#                         Bokeh enables users to create plots with features like zooming, panning, hover tools, and \n",
    "                                              # linked brushing, allowing viewers to explore data dynamically.\n",
    "\n",
    "#(b) Web Integration:\n",
    "#              It generates output as HTML and JavaScript, making it easy to embed visualizations directly into web pages or \n",
    "                                                     # standalone HTML files without requiring a backend server.\n",
    "\n",
    "#(c) Scalable for Large Data:\n",
    "#                     Bokeh is optimized to handle large or streaming datasets efficiently, making it suitable for real-time data visualization.\n",
    "\n",
    "#(d) Customizable and Extensible:\n",
    "#                       Users can build complex and highly customized visualizations using its flexible API, including interactive widgets and layouts.\n",
    "\n",
    "#(e) Server-Side Applications:\n",
    "#                  Bokeh supports building interactive web apps with Python callbacks via the Bokeh server, enabling real-time updates and user interactions.\n",
    "\n",
    "#(f) Integration with Other Tools:\n",
    "#                   It works well with Pandas, NumPy, and other Python data tools, facilitating a smooth workflow from data processing to visualization."
   ]
  },
  {
   "cell_type": "code",
   "execution_count": null,
   "id": "a5514671-209b-4a6d-869a-709f0fa8f6f7",
   "metadata": {},
   "outputs": [],
   "source": [
    "#17. Explain the difference between apply() and map() in Pandas?\n",
    "\n",
    "    # -Both apply() and map() in Pandas are used to apply functions to data, but they serve different purposes and work in different contexts.\n",
    "\n",
    "# map():- It is used mostly with series (a single column).\n",
    "        # Purpose: Applies a function, dictionary, or Series to each element of a Series, replacing or transforming the values.\n",
    "        # Typical Use Cases: Mapping values to new values (e.g., replacing categories)\n",
    "                           # Applying element-wise transformations. \n",
    "                           # Substituting values based on a dictionary or mapping Series.\n",
    "\n",
    "# apply():- It is used with both Series and DataFrames.\n",
    "           # Purpose: Applies a function along an axis of a DataFrame (rows or columns) or element-wise on a Series.\n",
    "           # Typical Use Cases: Applying row-wise or column-wise operations on DataFrames.\n",
    "                             # More complex functions that may involve multiple columns.\n",
    "                             # Applying custom functions that aren’t element-wise."
   ]
  },
  {
   "cell_type": "code",
   "execution_count": null,
   "id": "37180ced-93f9-480c-a865-37bf9400f681",
   "metadata": {},
   "outputs": [],
   "source": [
    "#18. What are some advanced features of NumPy?\n",
    "\n",
    "    # -NumPy, beyond its basic array handling and mathematical operations, offers a number of advanced features- \n",
    "#                                             that make it a powerful library for scientific computing and data analysis.\n",
    "\n",
    "#(i). Broadcasting:- Perform operations on arrays of different shapes without loops.\n",
    "#(ii). Structured Arrays:- Store heterogeneous data with named fields.\n",
    "#(iii). Masked Arrays:- Handle missing or invalid data easily.\n",
    "#(iv). Advanced Indexing:- Use boolean and fancy indexing for flexible data selection.\n",
    "#(v). Linear Algebra & FFT:- Built-in optimized routines for matrix math and signal processing.\n",
    "#(vi). Random Number Generation:- Powerful tools for generating random data from many distributions.\n",
    "#(vii). Universal Functions (ufuncs):- Fast, element-wise vectorized operations.\n",
    "#(viii). Memory Mapping:- Work with large datasets that don’t fit in RAM.\n",
    "#(ix). C/C++ Integration:- Extend functionality with compiled code for speed."
   ]
  },
  {
   "cell_type": "code",
   "execution_count": null,
   "id": "0e8f72e6-5780-4e46-85b9-548f2d7ad10f",
   "metadata": {},
   "outputs": [],
   "source": [
    "#19. How does Pandas simplify time series analysis?\n",
    "\n",
    "    # -Pandas simplifies time series analysis through its rich set of tools for handling, manipulating, and analyzing date and time data efficiently and intuitively.\n",
    "\n",
    "# Key Ways Pandas simplifies time Series Analysis:-\n",
    "\n",
    "#a. DateTime Indexing:-\n",
    "# Pandas allows time-based indexing using DatetimeIndex, enabling easy slicing, filtering, and resampling of time-series data.\n",
    "\n",
    "#b. Date Parsing:-\n",
    "# Automatically parses strings into datetime objects using pd.to_datetime().\n",
    "\n",
    "#c. Resampling:-\n",
    "# Use resample() to convert time series to different frequencies (e.g., daily to monthly) with aggregation methods like sum or mean.\n",
    "\n",
    "#d. Rolling Windows:-\n",
    "# Easily apply rolling statistics (e.g., moving averages) using rolling().\n",
    "\n",
    "#e. Time Shifting:-\n",
    "# Shift data forward or backward in time using shift() and tshift() for forecasting and lag analysis.\n",
    "\n",
    "#f. Frequency Handling:-\n",
    "# Pandas handles various time frequencies (D, M, H, etc.) and allows custom time ranges with date_range().\n",
    "\n",
    "#g. Missing Time Data Handling:-\n",
    "# Fills in or interpolates missing time steps using fillna() or interpolate().\n",
    "\n",
    "#h. Time Zone Support:-\n",
    "# Supports time zone conversion and aware datetime objects using tz_localize() and tz_convert()."
   ]
  },
  {
   "cell_type": "code",
   "execution_count": null,
   "id": "7f63c6e6-d3b8-40e0-b096-3802b3612165",
   "metadata": {},
   "outputs": [],
   "source": [
    "#20. What is the role of a pivot table in Pandas?\n",
    "\n",
    "    # -In Pandas, a pivot table is a powerful tool used to summarize and analyze data by reorganizing it based on specified columns. \n",
    "#               It allows you to aggregate data (e.g., sum, mean, count) and reshape it for easier analysis, much like pivot tables in Excel.\n",
    "\n",
    "# Role of a Pivot Table in Pandas:-\n",
    "                                # Data Summarization\n",
    "                                # Data Reshaping\n",
    "                                # Multi-level Grouping\n",
    "                                # Custom Aggregations\n",
    "                                # Clear Comparison"
   ]
  },
  {
   "cell_type": "code",
   "execution_count": null,
   "id": "6da0b00e-7a42-4941-bc64-769f0f0be1ea",
   "metadata": {},
   "outputs": [],
   "source": [
    "#21. Why is NumPy’s array slicing faster than Python’s list slicing?\n",
    "\n",
    "    # -NumPy’s array slicing is faster than Python’s list slicing because of the way NumPy arrays are stored and operated on internally.\n",
    "\n",
    "# Key Reasons for NumPy’s Speed:-\n",
    "\n",
    "#(a) Contiguous Memory Layout:-\n",
    "#                   NumPy arrays are stored in a single contiguous block of memory, unlike Python lists, which are arrays of pointers to objects scattered in memory. \n",
    "                            # This allows for faster access and manipulation.\n",
    "\n",
    "#(b) Fixed Data Type:-\n",
    "#                    All elements in a NumPy array have the same data type, allowing optimized and predictable memory usage. \n",
    "                           # Python lists can store different data types, which adds overhead.\n",
    "\n",
    "#(c) Slicing as a View (Not a Copy):-\n",
    "#                             NumPy slicing returns a view of the original array (no data copied), whereas Python list slicing returns a new list (a copy of the data),making it slower.\n",
    "\n",
    "#(d) Low-Level Optimizations:-\n",
    "#                       NumPy is written in C, and slicing operations leverage highly optimized C-level implementations, \n",
    "                           # whereas Python list slicing is handled at the higher-level interpreter."
   ]
  },
  {
   "cell_type": "code",
   "execution_count": null,
   "id": "21e2a73c-8fb4-4baf-8630-e4aa7dfb841e",
   "metadata": {},
   "outputs": [],
   "source": [
    "#22. What are some common use cases for Seaborn?\n",
    "\n",
    "    # -Seaborn is a powerful Python library built on top of Matplotlib, designed for creating statistical data visualizations with ease and aesthetic appeal. \n",
    "                    # It is especially useful for exploring and understanding patterns in complex datasets.\n",
    "\n",
    "# Common Use Cases for Seaborn:-\n",
    "\n",
    "#(a) Exploratory Data Analysis (EDA):\n",
    "#                         Seaborn helps quickly visualize relationships, trends, and distributions in data, which is crucial during the data exploration phase.\n",
    "\n",
    "#(b) Distribution Plots:\n",
    "#                Functions like histplot(), kdeplot(), and distplot() are used to examine the distribution of a single variable.\n",
    "\n",
    "#(c) Correlation Analysis:\n",
    "#                   The heatmap() function visualizes correlation matrices, helping to identify relationships between numeric features.\n",
    "\n",
    "#(d) Categorical Data Visualization:\n",
    "#                            Tools like boxplot(), violinplot(), barplot(), and stripplot() display distributions of data grouped by categories.\n",
    "\n",
    "#(e) Regression and Trend Analysis:\n",
    "#                         The regplot() and lmplot() functions show linear relationships and trends between variables, often with confidence intervals.\n",
    "\n",
    "#(f) Multivariate Analysis:\n",
    "#                       The pairplot() and pairgrid() functions allow plotting multiple relationships between features in a dataset.\n",
    "\n",
    "#(g) Time Series Visualization:\n",
    "#                          Line plots with lineplot() are used for tracking trends over time.\n",
    "\n",
    "#(h) Customization and Styling:\n",
    "#                          Seaborn provides themes, color palettes, and built-in functions to enhance the visual appeal and readability of charts."
   ]
  },
  {
   "cell_type": "code",
   "execution_count": 15,
   "id": "bf3385fd-2f45-4c01-926e-da9b8ddbaf82",
   "metadata": {},
   "outputs": [],
   "source": [
    "## Practical Questions ##"
   ]
  },
  {
   "cell_type": "code",
   "execution_count": 18,
   "id": "c0d4e3c8-a69d-4f23-b38e-799823a93f1f",
   "metadata": {},
   "outputs": [
    {
     "name": "stdout",
     "output_type": "stream",
     "text": [
      "2D Array:\n",
      "[[1 2 3]\n",
      " [4 5 6]\n",
      " [7 8 9]]\n",
      "Sum of each row: [ 6 15 24]\n"
     ]
    }
   ],
   "source": [
    "#1. How do you create a 2D NumPy array and calculate the sum of each row?\n",
    "\n",
    "import numpy as np\n",
    "\n",
    "array_2d = np.array([\n",
    "    [1, 2, 3],\n",
    "    [4, 5, 6],\n",
    "    [7, 8, 9]\n",
    "])\n",
    "\n",
    "row_sums = np.sum(array_2d, axis=1)\n",
    "\n",
    "print(\"2D Array:\")\n",
    "print(array_2d)\n",
    "\n",
    "print(\"Sum of each row:\", row_sums)"
   ]
  },
  {
   "cell_type": "code",
   "execution_count": 20,
   "id": "607f340f-e9aa-4f33-865f-b18753fda73c",
   "metadata": {},
   "outputs": [
    {
     "name": "stdout",
     "output_type": "stream",
     "text": [
      "Mean Salary: 60000.0\n"
     ]
    }
   ],
   "source": [
    "#2. Write a Pandas script to find the mean of a specific column in a DataFrame.\n",
    "\n",
    "import pandas as pd\n",
    "\n",
    "data = {\n",
    "    'Name': ['Rajat', 'Jawan', 'Tarun'],\n",
    "    'Age': [26, 27, 25],\n",
    "    'Salary': [50000, 60000, 70000]\n",
    "}\n",
    "\n",
    "df = pd.DataFrame(data)\n",
    "\n",
    "mean_salary = df['Salary'].mean()\n",
    "\n",
    "print(\"Mean Salary:\", mean_salary)"
   ]
  },
  {
   "cell_type": "code",
   "execution_count": 23,
   "id": "a8e8024c-4d6d-429f-800a-0919e117cc86",
   "metadata": {},
   "outputs": [
    {
     "data": {
      "image/png": "[encoded data removed]",
      "text/plain": [
       "<Figure size 640x480 with 1 Axes>"
      ]
     },
     "metadata": {},
     "output_type": "display_data"
    }
   ],
   "source": [
    "#3. Create a scatter plot using Matplotlib.\n",
    "\n",
    "import matplotlib.pyplot as plt\n",
    "\n",
    "x = [10, 20, 30, 40, 50]\n",
    "y = [5, 15, 25, 10, 30]\n",
    "\n",
    "plt.scatter(x, y, color='blue', marker='o')\n",
    "\n",
    "plt.xlabel('X-axis')\n",
    "plt.ylabel('Y-axis')\n",
    "plt.title('Simple Scatter Plot')\n",
    "\n",
    "plt.show()"
   ]
  },
  {
   "cell_type": "code",
   "execution_count": 24,
   "id": "19024149-8610-4e68-8fcd-3135495cbe88",
   "metadata": {},
   "outputs": [
    {
     "data": {
      "image/png": "[encoded data removed]",
      "text/plain": [
       "<Figure size 640x480 with 2 Axes>"
      ]
     },
     "metadata": {},
     "output_type": "display_data"
    }
   ],
   "source": [
    "#4. How do you calculate the correlation matrix using Seaborn and visualize it with a heatmap?\n",
    "\n",
    "import pandas as pd\n",
    "import seaborn as sns\n",
    "import matplotlib.pyplot as plt\n",
    "\n",
    "data = {\n",
    "    'Math': [90, 85, 78, 92, 88],\n",
    "    'Science': [80, 70, 75, 85, 90],\n",
    "    'English': [70, 60, 72, 65, 75]\n",
    "}\n",
    "\n",
    "df = pd.DataFrame(data)\n",
    "\n",
    "corr_matrix = df.corr()\n",
    "\n",
    "sns.heatmap(corr_matrix, annot=True, cmap='coolwarm', linewidths=0.5)\n",
    "\n",
    "plt.title('Correlation Matrix Heatmap')\n",
    "plt.show()"
   ]
  },
  {
   "cell_type": "code",
   "execution_count": 25,
   "id": "0b827dd2-19fe-41c2-9783-5ba1324e28d5",
   "metadata": {},
   "outputs": [
    {
     "data": {
      "application/vnd.plotly.v1+json": {
       "config": {
        "plotlyServerURL": "https://plot.ly"
       },
       "data": [
        {
         "hovertemplate": "Fruits=%{x}<br>Sales=%{y}<extra></extra>",
         "legendgroup": "",
         "marker": {
          "color": "#636efa",
          "pattern": {
           "shape": ""
          }
         },
         "name": "",
         "orientation": "v",
         "showlegend": false,
         "textposition": "auto",
         "type": "bar",
         "x": [
          "Apples",
          "Bananas",
          "Cherries",
          "Dates"
         ],
         "xaxis": "x",
         "y": {
          "bdata": "eACWAFoAPAA=",
          "dtype": "i2"
         },
         "yaxis": "y"
        }
       ],
       "layout": {
        "barmode": "relative",
        "legend": {
         "tracegroupgap": 0
        },
        "template": {
         "data": {
          "bar": [
           {
            "error_x": {
             "color": "#2a3f5f"
            },
            "error_y": {
             "color": "#2a3f5f"
            },
            "marker": {
             "line": {
              "color": "#E5ECF6",
              "width": 0.5
             },
             "pattern": {
              "fillmode": "overlay",
              "size": 10,
              "solidity": 0.2
             }
            },
            "type": "bar"
           }
          ],
          "barpolar": [
           {
            "marker": {
             "line": {
              "color": "#E5ECF6",
              "width": 0.5
             },
             "pattern": {
              "fillmode": "overlay",
              "size": 10,
              "solidity": 0.2
             }
            },
            "type": "barpolar"
           }
          ],
          "carpet": [
           {
            "aaxis": {
             "endlinecolor": "#2a3f5f",
             "gridcolor": "white",
             "linecolor": "white",
             "minorgridcolor": "white",
             "startlinecolor": "#2a3f5f"
            },
            "baxis": {
             "endlinecolor": "#2a3f5f",
             "gridcolor": "white",
             "linecolor": "white",
             "minorgridcolor": "white",
             "startlinecolor": "#2a3f5f"
            },
            "type": "carpet"
           }
          ],
          "choropleth": [
           {
            "colorbar": {
             "outlinewidth": 0,
             "ticks": ""
            },
            "type": "choropleth"
           }
          ],
          "contour": [
           {
            "colorbar": {
             "outlinewidth": 0,
             "ticks": ""
            },
            "colorscale": [
             [
              0,
              "#0d0887"
             ],
             [
              0.1111111111111111,
              "#46039f"
             ],
             [
              0.2222222222222222,
              "#7201a8"
             ],
             [
              0.3333333333333333,
              "#9c179e"
             ],
             [
              0.4444444444444444,
              "#bd3786"
             ],
             [
              0.5555555555555556,
              "#d8576b"
             ],
             [
              0.6666666666666666,
              "#ed7953"
             ],
             [
              0.7777777777777778,
              "#fb9f3a"
             ],
             [
              0.8888888888888888,
              "#fdca26"
             ],
             [
              1,
              "#f0f921"
             ]
            ],
            "type": "contour"
           }
          ],
          "contourcarpet": [
           {
            "colorbar": {
             "outlinewidth": 0,
             "ticks": ""
            },
            "type": "contourcarpet"
           }
          ],
          "heatmap": [
           {
            "colorbar": {
             "outlinewidth": 0,
             "ticks": ""
            },
            "colorscale": [
             [
              0,
              "#0d0887"
             ],
             [
              0.1111111111111111,
              "#46039f"
             ],
             [
              0.2222222222222222,
              "#7201a8"
             ],
             [
              0.3333333333333333,
              "#9c179e"
             ],
             [
              0.4444444444444444,
              "#bd3786"
             ],
             [
              0.5555555555555556,
              "#d8576b"
             ],
             [
              0.6666666666666666,
              "#ed7953"
             ],
             [
              0.7777777777777778,
              "#fb9f3a"
             ],
             [
              0.8888888888888888,
              "#fdca26"
             ],
             [
              1,
              "#f0f921"
             ]
            ],
            "type": "heatmap"
           }
          ],
          "histogram": [
           {
            "marker": {
             "pattern": {
              "fillmode": "overlay",
              "size": 10,
              "solidity": 0.2
             }
            },
            "type": "histogram"
           }
          ],
          "histogram2d": [
           {
            "colorbar": {
             "outlinewidth": 0,
             "ticks": ""
            },
            "colorscale": [
             [
              0,
              "#0d0887"
             ],
             [
              0.1111111111111111,
              "#46039f"
             ],
             [
              0.2222222222222222,
              "#7201a8"
             ],
             [
              0.3333333333333333,
              "#9c179e"
             ],
             [
              0.4444444444444444,
              "#bd3786"
             ],
             [
              0.5555555555555556,
              "#d8576b"
             ],
             [
              0.6666666666666666,
              "#ed7953"
             ],
             [
              0.7777777777777778,
              "#fb9f3a"
             ],
             [
              0.8888888888888888,
              "#fdca26"
             ],
             [
              1,
              "#f0f921"
             ]
            ],
            "type": "histogram2d"
           }
          ],
          "histogram2dcontour": [
           {
            "colorbar": {
             "outlinewidth": 0,
             "ticks": ""
            },
            "colorscale": [
             [
              0,
              "#0d0887"
             ],
             [
              0.1111111111111111,
              "#46039f"
             ],
             [
              0.2222222222222222,
              "#7201a8"
             ],
             [
              0.3333333333333333,
              "#9c179e"
             ],
             [
              0.4444444444444444,
              "#bd3786"
             ],
             [
              0.5555555555555556,
              "#d8576b"
             ],
             [
              0.6666666666666666,
              "#ed7953"
             ],
             [
              0.7777777777777778,
              "#fb9f3a"
             ],
             [
              0.8888888888888888,
              "#fdca26"
             ],
             [
              1,
              "#f0f921"
             ]
            ],
            "type": "histogram2dcontour"
           }
          ],
          "mesh3d": [
           {
            "colorbar": {
             "outlinewidth": 0,
             "ticks": ""
            },
            "type": "mesh3d"
           }
          ],
          "parcoords": [
           {
            "line": {
             "colorbar": {
              "outlinewidth": 0,
              "ticks": ""
             }
            },
            "type": "parcoords"
           }
          ],
          "pie": [
           {
            "automargin": true,
            "type": "pie"
           }
          ],
          "scatter": [
           {
            "fillpattern": {
             "fillmode": "overlay",
             "size": 10,
             "solidity": 0.2
            },
            "type": "scatter"
           }
          ],
          "scatter3d": [
           {
            "line": {
             "colorbar": {
              "outlinewidth": 0,
              "ticks": ""
             }
            },
            "marker": {
             "colorbar": {
              "outlinewidth": 0,
              "ticks": ""
             }
            },
            "type": "scatter3d"
           }
          ],
          "scattercarpet": [
           {
            "marker": {
             "colorbar": {
              "outlinewidth": 0,
              "ticks": ""
             }
            },
            "type": "scattercarpet"
           }
          ],
          "scattergeo": [
           {
            "marker": {
             "colorbar": {
              "outlinewidth": 0,
              "ticks": ""
             }
            },
            "type": "scattergeo"
           }
          ],
          "scattergl": [
           {
            "marker": {
             "colorbar": {
              "outlinewidth": 0,
              "ticks": ""
             }
            },
            "type": "scattergl"
           }
          ],
          "scattermap": [
           {
            "marker": {
             "colorbar": {
              "outlinewidth": 0,
              "ticks": ""
             }
            },
            "type": "scattermap"
           }
          ],
          "scattermapbox": [
           {
            "marker": {
             "colorbar": {
              "outlinewidth": 0,
              "ticks": ""
             }
            },
            "type": "scattermapbox"
           }
          ],
          "scatterpolar": [
           {
            "marker": {
             "colorbar": {
              "outlinewidth": 0,
              "ticks": ""
             }
            },
            "type": "scatterpolar"
           }
          ],
          "scatterpolargl": [
           {
            "marker": {
             "colorbar": {
              "outlinewidth": 0,
              "ticks": ""
             }
            },
            "type": "scatterpolargl"
           }
          ],
          "scatterternary": [
           {
            "marker": {
             "colorbar": {
              "outlinewidth": 0,
              "ticks": ""
             }
            },
            "type": "scatterternary"
           }
          ],
          "surface": [
           {
            "colorbar": {
             "outlinewidth": 0,
             "ticks": ""
            },
            "colorscale": [
             [
              0,
              "#0d0887"
             ],
             [
              0.1111111111111111,
              "#46039f"
             ],
             [
              0.2222222222222222,
              "#7201a8"
             ],
             [
              0.3333333333333333,
              "#9c179e"
             ],
             [
              0.4444444444444444,
              "#bd3786"
             ],
             [
              0.5555555555555556,
              "#d8576b"
             ],
             [
              0.6666666666666666,
              "#ed7953"
             ],
             [
              0.7777777777777778,
              "#fb9f3a"
             ],
             [
              0.8888888888888888,
              "#fdca26"
             ],
             [
              1,
              "#f0f921"
             ]
            ],
            "type": "surface"
           }
          ],
          "table": [
           {
            "cells": {
             "fill": {
              "color": "#EBF0F8"
             },
             "line": {
              "color": "white"
             }
            },
            "header": {
             "fill": {
              "color": "#C8D4E3"
             },
             "line": {
              "color": "white"
             }
            },
            "type": "table"
           }
          ]
         },
         "layout": {
          "annotationdefaults": {
           "arrowcolor": "#2a3f5f",
           "arrowhead": 0,
           "arrowwidth": 1
          },
          "autotypenumbers": "strict",
          "coloraxis": {
           "colorbar": {
            "outlinewidth": 0,
            "ticks": ""
           }
          },
          "colorscale": {
           "diverging": [
            [
             0,
             "#8e0152"
            ],
            [
             0.1,
             "#c51b7d"
            ],
            [
             0.2,
             "#de77ae"
            ],
            [
             0.3,
             "#f1b6da"
            ],
            [
             0.4,
             "#fde0ef"
            ],
            [
             0.5,
             "#f7f7f7"
            ],
            [
             0.6,
             "#e6f5d0"
            ],
            [
             0.7,
             "#b8e186"
            ],
            [
             0.8,
             "#7fbc41"
            ],
            [
             0.9,
             "#4d9221"
            ],
            [
             1,
             "#276419"
            ]
           ],
           "sequential": [
            [
             0,
             "#0d0887"
            ],
            [
             0.1111111111111111,
             "#46039f"
            ],
            [
             0.2222222222222222,
             "#7201a8"
            ],
            [
             0.3333333333333333,
             "#9c179e"
            ],
            [
             0.4444444444444444,
             "#bd3786"
            ],
            [
             0.5555555555555556,
             "#d8576b"
            ],
            [
             0.6666666666666666,
             "#ed7953"
            ],
            [
             0.7777777777777778,
             "#fb9f3a"
            ],
            [
             0.8888888888888888,
             "#fdca26"
            ],
            [
             1,
             "#f0f921"
            ]
           ],
           "sequentialminus": [
            [
             0,
             "#0d0887"
            ],
            [
             0.1111111111111111,
             "#46039f"
            ],
            [
             0.2222222222222222,
             "#7201a8"
            ],
            [
             0.3333333333333333,
             "#9c179e"
            ],
            [
             0.4444444444444444,
             "#bd3786"
            ],
            [
             0.5555555555555556,
             "#d8576b"
            ],
            [
             0.6666666666666666,
             "#ed7953"
            ],
            [
             0.7777777777777778,
             "#fb9f3a"
            ],
            [
             0.8888888888888888,
             "#fdca26"
            ],
            [
             1,
             "#f0f921"
            ]
           ]
          },
          "colorway": [
           "#636efa",
           "#EF553B",
           "#00cc96",
           "#ab63fa",
           "#FFA15A",
           "#19d3f3",
           "#FF6692",
           "#B6E880",
           "#FF97FF",
           "#FECB52"
          ],
          "font": {
           "color": "#2a3f5f"
          },
          "geo": {
           "bgcolor": "white",
           "lakecolor": "white",
           "landcolor": "#E5ECF6",
           "showlakes": true,
           "showland": true,
           "subunitcolor": "white"
          },
          "hoverlabel": {
           "align": "left"
          },
          "hovermode": "closest",
          "mapbox": {
           "style": "light"
          },
          "paper_bgcolor": "white",
          "plot_bgcolor": "#E5ECF6",
          "polar": {
           "angularaxis": {
            "gridcolor": "white",
            "linecolor": "white",
            "ticks": ""
           },
           "bgcolor": "#E5ECF6",
           "radialaxis": {
            "gridcolor": "white",
            "linecolor": "white",
            "ticks": ""
           }
          },
          "scene": {
           "xaxis": {
            "backgroundcolor": "#E5ECF6",
            "gridcolor": "white",
            "gridwidth": 2,
            "linecolor": "white",
            "showbackground": true,
            "ticks": "",
            "zerolinecolor": "white"
           },
           "yaxis": {
            "backgroundcolor": "#E5ECF6",
            "gridcolor": "white",
            "gridwidth": 2,
            "linecolor": "white",
            "showbackground": true,
            "ticks": "",
            "zerolinecolor": "white"
           },
           "zaxis": {
            "backgroundcolor": "#E5ECF6",
            "gridcolor": "white",
            "gridwidth": 2,
            "linecolor": "white",
            "showbackground": true,
            "ticks": "",
            "zerolinecolor": "white"
           }
          },
          "shapedefaults": {
           "line": {
            "color": "#2a3f5f"
           }
          },
          "ternary": {
           "aaxis": {
            "gridcolor": "white",
            "linecolor": "white",
            "ticks": ""
           },
           "baxis": {
            "gridcolor": "white",
            "linecolor": "white",
            "ticks": ""
           },
           "bgcolor": "#E5ECF6",
           "caxis": {
            "gridcolor": "white",
            "linecolor": "white",
            "ticks": ""
           }
          },
          "title": {
           "x": 0.05
          },
          "xaxis": {
           "automargin": true,
           "gridcolor": "white",
           "linecolor": "white",
           "ticks": "",
           "title": {
            "standoff": 15
           },
           "zerolinecolor": "white",
           "zerolinewidth": 2
          },
          "yaxis": {
           "automargin": true,
           "gridcolor": "white",
           "linecolor": "white",
           "ticks": "",
           "title": {
            "standoff": 15
           },
           "zerolinecolor": "white",
           "zerolinewidth": 2
          }
         }
        },
        "title": {
         "text": "Fruit Sales Bar Chart"
        },
        "xaxis": {
         "anchor": "y",
         "domain": [
          0,
          1
         ],
         "title": {
          "text": "Fruits"
         }
        },
        "yaxis": {
         "anchor": "x",
         "domain": [
          0,
          1
         ],
         "title": {
          "text": "Sales"
         }
        }
       }
      },
      "image/png": "[encoded data removed]"
     },
     "metadata": {},
     "output_type": "display_data"
    }
   ],
   "source": [
    "#5. Generate a bar plot using Plotly.\n",
    "\n",
    "import plotly.express as px\n",
    "import pandas as pd\n",
    "\n",
    "data = {\n",
    "    'Fruits': ['Apples', 'Bananas', 'Cherries', 'Dates'],\n",
    "    'Sales': [120, 150, 90, 60]\n",
    "}\n",
    "\n",
    "df = pd.DataFrame(data)\n",
    "\n",
    "fig = px.bar(df, x='Fruits', y='Sales', title='Fruit Sales Bar Chart')\n",
    "\n",
    "fig.show()"
   ]
  },
  {
   "cell_type": "code",
   "execution_count": 26,
   "id": "830d7fd2-bf5e-4e05-875d-5430cae5ab58",
   "metadata": {},
   "outputs": [
    {
     "name": "stdout",
     "output_type": "stream",
     "text": [
      "    Name  Score  Passed\n",
      "0  Rajat     85    True\n",
      "1  Jawan     92    True\n",
      "2  Tarun     78   False\n"
     ]
    }
   ],
   "source": [
    "#6. Create a DataFrame and add a new column based on an existing column.\n",
    "\n",
    "import pandas as pd\n",
    "\n",
    "data = {\n",
    "    'Name': ['Rajat', 'Jawan', 'Tarun'],\n",
    "    'Score': [85, 92, 78]\n",
    "}\n",
    "\n",
    "df = pd.DataFrame(data)\n",
    "\n",
    "df['Passed'] = df['Score'] >= 80\n",
    "\n",
    "print(df)"
   ]
  },
  {
   "cell_type": "code",
   "execution_count": 27,
   "id": "d0f0c0bd-e077-4c3d-912d-c3baff4d7260",
   "metadata": {},
   "outputs": [
    {
     "name": "stdout",
     "output_type": "stream",
     "text": [
      "Array 1: [1 2 3 4]\n",
      "Array 2: [5 6 7 8]\n",
      "Element-wise multiplication result: [ 5 12 21 32]\n"
     ]
    }
   ],
   "source": [
    "#7. Write a program to perform element-wise multiplication of two NumPy arrays.\n",
    "\n",
    "import numpy as np\n",
    "\n",
    "array1 = np.array([1, 2, 3, 4])\n",
    "array2 = np.array([5, 6, 7, 8])\n",
    "\n",
    "result = array1 * array2\n",
    "\n",
    "print(\"Array 1:\", array1)\n",
    "print(\"Array 2:\", array2)\n",
    "print(\"Element-wise multiplication result:\", result)"
   ]
  },
  {
   "cell_type": "code",
   "execution_count": 30,
   "id": "44c84457-0c49-4f58-891d-521ca8c40d20",
   "metadata": {},
   "outputs": [
    {
     "data": {
      "image/png": "[encoded data removed]",
      "text/plain": [
       "<Figure size 640x480 with 1 Axes>"
      ]
     },
     "metadata": {},
     "output_type": "display_data"
    }
   ],
   "source": [
    "#8. Create a line plot with multiple lines using Matplotlib.\n",
    "\n",
    "import matplotlib.pyplot as plt\n",
    "\n",
    "x = [1, 2, 3, 4, 5]\n",
    "y1 = [2, 3, 5, 7, 11]\n",
    "y2 = [1, 4, 6, 8, 10]\n",
    "y3 = [5, 6, 2, 4, 9]\n",
    "\n",
    "plt.plot(x, y1, label='Line 1', marker='o')\n",
    "plt.plot(x, y2, label='Line 2', marker='s')\n",
    "plt.plot(x, y3, label='Line 3', marker='^')\n",
    "\n",
    "plt.xlabel('X-axis')\n",
    "plt.ylabel('Y-axis')\n",
    "plt.title('Multiple Line Plot')\n",
    "\n",
    "plt.legend()\n",
    "\n",
    "plt.show()"
   ]
  },
  {
   "cell_type": "code",
   "execution_count": 33,
   "id": "858ab668-7331-40d9-b075-8d079657d4c9",
   "metadata": {},
   "outputs": [
    {
     "name": "stdout",
     "output_type": "stream",
     "text": [
      "    Name  Age  Salary\n",
      "0  Rajat   27   50000\n",
      "1  Jawan   28   60000\n"
     ]
    }
   ],
   "source": [
    "#9. Generate a Pandas DataFrame and filter rows where a column value is greater than a threshold.\n",
    "\n",
    "import pandas as pd\n",
    "\n",
    "data = {\n",
    "    'Name': ['Rajat', 'Jawan', 'Tarun', 'Srishti'],\n",
    "    'Age': [27, 28, 25, 25],\n",
    "    'Salary': [50000, 60000, 45000, 70000]\n",
    "}\n",
    "\n",
    "df = pd.DataFrame(data)\n",
    "\n",
    "age_threshold = 25\n",
    "\n",
    "filtered_df = df[df['Age'] > age_threshold]\n",
    "\n",
    "print(filtered_df)"
   ]
  },
  {
   "cell_type": "code",
   "execution_count": 35,
   "id": "095da7b8-5191-4fe7-9bc0-fdedba8b4079",
   "metadata": {},
   "outputs": [
    {
     "data": {
      "image/png": "[encoded data removed]",
      "text/plain": [
       "<Figure size 640x480 with 1 Axes>"
      ]
     },
     "metadata": {},
     "output_type": "display_data"
    }
   ],
   "source": [
    "#10. Create a histogram using Seaborn to visualize a distribution.\n",
    "\n",
    "import seaborn as sns\n",
    "import matplotlib.pyplot as plt\n",
    "\n",
    "data = [12, 15, 13, 15, 16, 14, 13, 15, 16, 18, 17, 15, 14, 16, 19, 20, 21, 15, 14]\n",
    "\n",
    "sns.histplot(data, bins=5, kde=False, color='skyblue')\n",
    "\n",
    "plt.title('Histogram of Sample Data')\n",
    "plt.xlabel('Value')\n",
    "plt.ylabel('Frequency')\n",
    "\n",
    "plt.show()"
   ]
  },
  {
   "cell_type": "code",
   "execution_count": 37,
   "id": "82fc2d88-7074-4057-be49-2df98a5bb66e",
   "metadata": {},
   "outputs": [
    {
     "name": "stdout",
     "output_type": "stream",
     "text": [
      "Matrix A:\n",
      "[[1 2]\n",
      " [3 4]]\n",
      "\n",
      "Matrix B:\n",
      "[[5 6]\n",
      " [7 8]]\n",
      "\n",
      "Matrix multiplication result:\n",
      "[[19 22]\n",
      " [43 50]]\n"
     ]
    }
   ],
   "source": [
    "#11. Perform matrix multiplication using NumPy.\n",
    "\n",
    "import numpy as np\n",
    "\n",
    "A = np.array([[1, 2],\n",
    "              [3, 4]])\n",
    "\n",
    "B = np.array([[5, 6],\n",
    "              [7, 8]])\n",
    "\n",
    "result = np.dot(A, B)\n",
    "\n",
    "print(\"Matrix A:\")\n",
    "print(A)\n",
    "\n",
    "print(\"\\nMatrix B:\")\n",
    "print(B)\n",
    "\n",
    "print(\"\\nMatrix multiplication result:\")\n",
    "print(result)"
   ]
  },
  {
   "cell_type": "code",
   "execution_count": 53,
   "id": "0ed8cbc8-b03f-4ea3-8186-e2d3275471d2",
   "metadata": {},
   "outputs": [
    {
     "name": "stdout",
     "output_type": "stream",
     "text": [
      "   SR no.     Name  Employee Id  Salary  Gender\n",
      "0       1    Rajat         1234   126000      M\n",
      "1       2    Jawan         1233   145600      M\n",
      "2       3  Srishti         1245   136900      F\n",
      "3       4     Anuj         1243   156700      M\n",
      "4       5     Jiya         1235   143700      F\n"
     ]
    }
   ],
   "source": [
    "#12. Use Pandas to load a CSV file and display its first 5 rows.\n",
    "\n",
    "import pandas as pd\n",
    "\n",
    "df = pd.read_csv(\"My_file.csv\")\n",
    "\n",
    "print(df.head())"
   ]
  },
  {
   "cell_type": "code",
   "execution_count": 28,
   "id": "bb1ac0cb-f91f-4d2f-ae93-e41febc8b64f",
   "metadata": {
    "scrolled": true
   },
   "outputs": [
    {
     "data": {
      "application/vnd.plotly.v1+json": {
       "config": {
        "plotlyServerURL": "https://plot.ly"
       },
       "data": [
        {
         "hovertemplate": "Category=A<br>X=%{x}<br>Y=%{y}<br>Z=%{z}<extra></extra>",
         "legendgroup": "A",
         "marker": {
          "color": "#636efa",
          "symbol": "circle"
         },
         "mode": "markers",
         "name": "A",
         "scene": "scene",
         "showlegend": true,
         "type": "scatter3d",
         "x": {
          "bdata": "AQMF",
          "dtype": "i1"
         },
         "y": {
          "bdata": "BQMB",
          "dtype": "i1"
         },
         "z": {
          "bdata": "Cg0M",
          "dtype": "i1"
         }
        },
        {
         "hovertemplate": "Category=B<br>X=%{x}<br>Y=%{y}<br>Z=%{z}<extra></extra>",
         "legendgroup": "B",
         "marker": {
          "color": "#EF553B",
          "symbol": "circle"
         },
         "mode": "markers",
         "name": "B",
         "scene": "scene",
         "showlegend": true,
         "type": "scatter3d",
         "x": {
          "bdata": "AgQ=",
          "dtype": "i1"
         },
         "y": {
          "bdata": "BAI=",
          "dtype": "i1"
         },
         "z": {
          "bdata": "DxE=",
          "dtype": "i1"
         }
        }
       ],
       "layout": {
        "legend": {
         "title": {
          "text": "Category"
         },
         "tracegroupgap": 0
        },
        "scene": {
         "domain": {
          "x": [
           0,
           1
          ],
          "y": [
           0,
           1
          ]
         },
         "xaxis": {
          "title": {
           "text": "X"
          }
         },
         "yaxis": {
          "title": {
           "text": "Y"
          }
         },
         "zaxis": {
          "title": {
           "text": "Z"
          }
         }
        },
        "template": {
         "data": {
          "bar": [
           {
            "error_x": {
             "color": "#2a3f5f"
            },
            "error_y": {
             "color": "#2a3f5f"
            },
            "marker": {
             "line": {
              "color": "#E5ECF6",
              "width": 0.5
             },
             "pattern": {
              "fillmode": "overlay",
              "size": 10,
              "solidity": 0.2
             }
            },
            "type": "bar"
           }
          ],
          "barpolar": [
           {
            "marker": {
             "line": {
              "color": "#E5ECF6",
              "width": 0.5
             },
             "pattern": {
              "fillmode": "overlay",
              "size": 10,
              "solidity": 0.2
             }
            },
            "type": "barpolar"
           }
          ],
          "carpet": [
           {
            "aaxis": {
             "endlinecolor": "#2a3f5f",
             "gridcolor": "white",
             "linecolor": "white",
             "minorgridcolor": "white",
             "startlinecolor": "#2a3f5f"
            },
            "baxis": {
             "endlinecolor": "#2a3f5f",
             "gridcolor": "white",
             "linecolor": "white",
             "minorgridcolor": "white",
             "startlinecolor": "#2a3f5f"
            },
            "type": "carpet"
           }
          ],
          "choropleth": [
           {
            "colorbar": {
             "outlinewidth": 0,
             "ticks": ""
            },
            "type": "choropleth"
           }
          ],
          "contour": [
           {
            "colorbar": {
             "outlinewidth": 0,
             "ticks": ""
            },
            "colorscale": [
             [
              0,
              "#0d0887"
             ],
             [
              0.1111111111111111,
              "#46039f"
             ],
             [
              0.2222222222222222,
              "#7201a8"
             ],
             [
              0.3333333333333333,
              "#9c179e"
             ],
             [
              0.4444444444444444,
              "#bd3786"
             ],
             [
              0.5555555555555556,
              "#d8576b"
             ],
             [
              0.6666666666666666,
              "#ed7953"
             ],
             [
              0.7777777777777778,
              "#fb9f3a"
             ],
             [
              0.8888888888888888,
              "#fdca26"
             ],
             [
              1,
              "#f0f921"
             ]
            ],
            "type": "contour"
           }
          ],
          "contourcarpet": [
           {
            "colorbar": {
             "outlinewidth": 0,
             "ticks": ""
            },
            "type": "contourcarpet"
           }
          ],
          "heatmap": [
           {
            "colorbar": {
             "outlinewidth": 0,
             "ticks": ""
            },
            "colorscale": [
             [
              0,
              "#0d0887"
             ],
             [
              0.1111111111111111,
              "#46039f"
             ],
             [
              0.2222222222222222,
              "#7201a8"
             ],
             [
              0.3333333333333333,
              "#9c179e"
             ],
             [
              0.4444444444444444,
              "#bd3786"
             ],
             [
              0.5555555555555556,
              "#d8576b"
             ],
             [
              0.6666666666666666,
              "#ed7953"
             ],
             [
              0.7777777777777778,
              "#fb9f3a"
             ],
             [
              0.8888888888888888,
              "#fdca26"
             ],
             [
              1,
              "#f0f921"
             ]
            ],
            "type": "heatmap"
           }
          ],
          "histogram": [
           {
            "marker": {
             "pattern": {
              "fillmode": "overlay",
              "size": 10,
              "solidity": 0.2
             }
            },
            "type": "histogram"
           }
          ],
          "histogram2d": [
           {
            "colorbar": {
             "outlinewidth": 0,
             "ticks": ""
            },
            "colorscale": [
             [
              0,
              "#0d0887"
             ],
             [
              0.1111111111111111,
              "#46039f"
             ],
             [
              0.2222222222222222,
              "#7201a8"
             ],
             [
              0.3333333333333333,
              "#9c179e"
             ],
             [
              0.4444444444444444,
              "#bd3786"
             ],
             [
              0.5555555555555556,
              "#d8576b"
             ],
             [
              0.6666666666666666,
              "#ed7953"
             ],
             [
              0.7777777777777778,
              "#fb9f3a"
             ],
             [
              0.8888888888888888,
              "#fdca26"
             ],
             [
              1,
              "#f0f921"
             ]
            ],
            "type": "histogram2d"
           }
          ],
          "histogram2dcontour": [
           {
            "colorbar": {
             "outlinewidth": 0,
             "ticks": ""
            },
            "colorscale": [
             [
              0,
              "#0d0887"
             ],
             [
              0.1111111111111111,
              "#46039f"
             ],
             [
              0.2222222222222222,
              "#7201a8"
             ],
             [
              0.3333333333333333,
              "#9c179e"
             ],
             [
              0.4444444444444444,
              "#bd3786"
             ],
             [
              0.5555555555555556,
              "#d8576b"
             ],
             [
              0.6666666666666666,
              "#ed7953"
             ],
             [
              0.7777777777777778,
              "#fb9f3a"
             ],
             [
              0.8888888888888888,
              "#fdca26"
             ],
             [
              1,
              "#f0f921"
             ]
            ],
            "type": "histogram2dcontour"
           }
          ],
          "mesh3d": [
           {
            "colorbar": {
             "outlinewidth": 0,
             "ticks": ""
            },
            "type": "mesh3d"
           }
          ],
          "parcoords": [
           {
            "line": {
             "colorbar": {
              "outlinewidth": 0,
              "ticks": ""
             }
            },
            "type": "parcoords"
           }
          ],
          "pie": [
           {
            "automargin": true,
            "type": "pie"
           }
          ],
          "scatter": [
           {
            "fillpattern": {
             "fillmode": "overlay",
             "size": 10,
             "solidity": 0.2
            },
            "type": "scatter"
           }
          ],
          "scatter3d": [
           {
            "line": {
             "colorbar": {
              "outlinewidth": 0,
              "ticks": ""
             }
            },
            "marker": {
             "colorbar": {
              "outlinewidth": 0,
              "ticks": ""
             }
            },
            "type": "scatter3d"
           }
          ],
          "scattercarpet": [
           {
            "marker": {
             "colorbar": {
              "outlinewidth": 0,
              "ticks": ""
             }
            },
            "type": "scattercarpet"
           }
          ],
          "scattergeo": [
           {
            "marker": {
             "colorbar": {
              "outlinewidth": 0,
              "ticks": ""
             }
            },
            "type": "scattergeo"
           }
          ],
          "scattergl": [
           {
            "marker": {
             "colorbar": {
              "outlinewidth": 0,
              "ticks": ""
             }
            },
            "type": "scattergl"
           }
          ],
          "scattermap": [
           {
            "marker": {
             "colorbar": {
              "outlinewidth": 0,
              "ticks": ""
             }
            },
            "type": "scattermap"
           }
          ],
          "scattermapbox": [
           {
            "marker": {
             "colorbar": {
              "outlinewidth": 0,
              "ticks": ""
             }
            },
            "type": "scattermapbox"
           }
          ],
          "scatterpolar": [
           {
            "marker": {
             "colorbar": {
              "outlinewidth": 0,
              "ticks": ""
             }
            },
            "type": "scatterpolar"
           }
          ],
          "scatterpolargl": [
           {
            "marker": {
             "colorbar": {
              "outlinewidth": 0,
              "ticks": ""
             }
            },
            "type": "scatterpolargl"
           }
          ],
          "scatterternary": [
           {
            "marker": {
             "colorbar": {
              "outlinewidth": 0,
              "ticks": ""
             }
            },
            "type": "scatterternary"
           }
          ],
          "surface": [
           {
            "colorbar": {
             "outlinewidth": 0,
             "ticks": ""
            },
            "colorscale": [
             [
              0,
              "#0d0887"
             ],
             [
              0.1111111111111111,
              "#46039f"
             ],
             [
              0.2222222222222222,
              "#7201a8"
             ],
             [
              0.3333333333333333,
              "#9c179e"
             ],
             [
              0.4444444444444444,
              "#bd3786"
             ],
             [
              0.5555555555555556,
              "#d8576b"
             ],
             [
              0.6666666666666666,
              "#ed7953"
             ],
             [
              0.7777777777777778,
              "#fb9f3a"
             ],
             [
              0.8888888888888888,
              "#fdca26"
             ],
             [
              1,
              "#f0f921"
             ]
            ],
            "type": "surface"
           }
          ],
          "table": [
           {
            "cells": {
             "fill": {
              "color": "#EBF0F8"
             },
             "line": {
              "color": "white"
             }
            },
            "header": {
             "fill": {
              "color": "#C8D4E3"
             },
             "line": {
              "color": "white"
             }
            },
            "type": "table"
           }
          ]
         },
         "layout": {
          "annotationdefaults": {
           "arrowcolor": "#2a3f5f",
           "arrowhead": 0,
           "arrowwidth": 1
          },
          "autotypenumbers": "strict",
          "coloraxis": {
           "colorbar": {
            "outlinewidth": 0,
            "ticks": ""
           }
          },
          "colorscale": {
           "diverging": [
            [
             0,
             "#8e0152"
            ],
            [
             0.1,
             "#c51b7d"
            ],
            [
             0.2,
             "#de77ae"
            ],
            [
             0.3,
             "#f1b6da"
            ],
            [
             0.4,
             "#fde0ef"
            ],
            [
             0.5,
             "#f7f7f7"
            ],
            [
             0.6,
             "#e6f5d0"
            ],
            [
             0.7,
             "#b8e186"
            ],
            [
             0.8,
             "#7fbc41"
            ],
            [
             0.9,
             "#4d9221"
            ],
            [
             1,
             "#276419"
            ]
           ],
           "sequential": [
            [
             0,
             "#0d0887"
            ],
            [
             0.1111111111111111,
             "#46039f"
            ],
            [
             0.2222222222222222,
             "#7201a8"
            ],
            [
             0.3333333333333333,
             "#9c179e"
            ],
            [
             0.4444444444444444,
             "#bd3786"
            ],
            [
             0.5555555555555556,
             "#d8576b"
            ],
            [
             0.6666666666666666,
             "#ed7953"
            ],
            [
             0.7777777777777778,
             "#fb9f3a"
            ],
            [
             0.8888888888888888,
             "#fdca26"
            ],
            [
             1,
             "#f0f921"
            ]
           ],
           "sequentialminus": [
            [
             0,
             "#0d0887"
            ],
            [
             0.1111111111111111,
             "#46039f"
            ],
            [
             0.2222222222222222,
             "#7201a8"
            ],
            [
             0.3333333333333333,
             "#9c179e"
            ],
            [
             0.4444444444444444,
             "#bd3786"
            ],
            [
             0.5555555555555556,
             "#d8576b"
            ],
            [
             0.6666666666666666,
             "#ed7953"
            ],
            [
             0.7777777777777778,
             "#fb9f3a"
            ],
            [
             0.8888888888888888,
             "#fdca26"
            ],
            [
             1,
             "#f0f921"
            ]
           ]
          },
          "colorway": [
           "#636efa",
           "#EF553B",
           "#00cc96",
           "#ab63fa",
           "#FFA15A",
           "#19d3f3",
           "#FF6692",
           "#B6E880",
           "#FF97FF",
           "#FECB52"
          ],
          "font": {
           "color": "#2a3f5f"
          },
          "geo": {
           "bgcolor": "white",
           "lakecolor": "white",
           "landcolor": "#E5ECF6",
           "showlakes": true,
           "showland": true,
           "subunitcolor": "white"
          },
          "hoverlabel": {
           "align": "left"
          },
          "hovermode": "closest",
          "mapbox": {
           "style": "light"
          },
          "paper_bgcolor": "white",
          "plot_bgcolor": "#E5ECF6",
          "polar": {
           "angularaxis": {
            "gridcolor": "white",
            "linecolor": "white",
            "ticks": ""
           },
           "bgcolor": "#E5ECF6",
           "radialaxis": {
            "gridcolor": "white",
            "linecolor": "white",
            "ticks": ""
           }
          },
          "scene": {
           "xaxis": {
            "backgroundcolor": "#E5ECF6",
            "gridcolor": "white",
            "gridwidth": 2,
            "linecolor": "white",
            "showbackground": true,
            "ticks": "",
            "zerolinecolor": "white"
           },
           "yaxis": {
            "backgroundcolor": "#E5ECF6",
            "gridcolor": "white",
            "gridwidth": 2,
            "linecolor": "white",
            "showbackground": true,
            "ticks": "",
            "zerolinecolor": "white"
           },
           "zaxis": {
            "backgroundcolor": "#E5ECF6",
            "gridcolor": "white",
            "gridwidth": 2,
            "linecolor": "white",
            "showbackground": true,
            "ticks": "",
            "zerolinecolor": "white"
           }
          },
          "shapedefaults": {
           "line": {
            "color": "#2a3f5f"
           }
          },
          "ternary": {
           "aaxis": {
            "gridcolor": "white",
            "linecolor": "white",
            "ticks": ""
           },
           "baxis": {
            "gridcolor": "white",
            "linecolor": "white",
            "ticks": ""
           },
           "bgcolor": "#E5ECF6",
           "caxis": {
            "gridcolor": "white",
            "linecolor": "white",
            "ticks": ""
           }
          },
          "title": {
           "x": 0.05
          },
          "xaxis": {
           "automargin": true,
           "gridcolor": "white",
           "linecolor": "white",
           "ticks": "",
           "title": {
            "standoff": 15
           },
           "zerolinecolor": "white",
           "zerolinewidth": 2
          },
          "yaxis": {
           "automargin": true,
           "gridcolor": "white",
           "linecolor": "white",
           "ticks": "",
           "title": {
            "standoff": 15
           },
           "zerolinecolor": "white",
           "zerolinewidth": 2
          }
         }
        },
        "title": {
         "text": "3D Scatter Plot"
        }
       }
      },
      "image/png": "[encoded data removed]"
     },
     "metadata": {},
     "output_type": "display_data"
    }
   ],
   "source": [
    "#13. Create a 3D scatter plot using Plotly.\n",
    "\n",
    "import plotly.express as px\n",
    "import pandas as pd\n",
    "\n",
    "data = {\n",
    "    'X': [1, 2, 3, 4, 5],\n",
    "    'Y': [5, 4, 3, 2, 1],\n",
    "    'Z': [10, 15, 13, 17, 12],\n",
    "    'Category': ['A', 'B', 'A', 'B', 'A']\n",
    "}\n",
    "\n",
    "df = pd.DataFrame(data)\n",
    "\n",
    "fig = px.scatter_3d(df, x='X', y='Y', z='Z', color='Category', title='3D Scatter Plot')\n",
    "\n",
    "fig.show()"
   ]
  },
  {
   "cell_type": "code",
   "execution_count": null,
   "id": "b6cf2e6e-7813-44ee-bc77-f2bbbfe6f3e4",
   "metadata": {},
   "outputs": [],
   "source": [
    "## THANK YOU ##"
   ]
  }
 ],
 "metadata": {
  "kernelspec": {
   "display_name": "Python 3 (ipykernel)",
   "language": "python",
   "name": "python3"
  },
  "language_info": {
   "codemirror_mode": {
    "name": "ipython",
    "version": 3
   },
   "file_extension": ".py",
   "mimetype": "text/x-python",
   "name": "python",
   "nbconvert_exporter": "python",
   "pygments_lexer": "ipython3",
   "version": "3.13.3"
  }
 },
 "nbformat": 4,
 "nbformat_minor": 5
}
