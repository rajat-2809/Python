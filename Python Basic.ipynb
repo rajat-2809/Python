{
 "cells": [
  {
   "cell_type": "code",
   "execution_count": null,
   "id": "6585bcfa-b411-4127-b3d4-06b553afa29b",
   "metadata": {},
   "outputs": [],
   "source": [
    "#1.What is Python, and why is it popular?\n",
    "\n",
    "    #- Python is a programming language that is easy to understand and write, making it a popular choice among developers and programmers. It is popular because it is compatible with various programming paradigms, such as procedural, object-oriented, and functional programming. Python has a large and active community of developers, an extensive standard library, and third-party packages for various domains."
   ]
  },
  {
   "cell_type": "code",
   "execution_count": null,
   "id": "f25e05de-bd73-4b4d-95f9-9baecf74ccf4",
   "metadata": {},
   "outputs": [],
   "source": [
    "#2.What is an interpreter in Python \n",
    "\n",
    "    #- In Python, an interpreter is a program that reads and executes Python code line by line. Unlike compiled languages (like C or Java), which are translated into machine code before execution, Python code is interpreted at runtime."
   ]
  },
  {
   "cell_type": "code",
   "execution_count": null,
   "id": "36b46d03-91ad-4575-9f8a-7312a8d7b912",
   "metadata": {},
   "outputs": [],
   "source": [
    "#3.What are pre-defined keywords in Python?\n",
    "\n",
    "    #- Keywords are reserved words in Python that have special meanings and cannot be used as identifiers (variable names, function names, etc.).Examples of keywords include if, else, while, for, def, class, import, try, except, return, True, False, None, etc."
   ]
  },
  {
   "cell_type": "code",
   "execution_count": null,
   "id": "e947465c-217e-4c8e-b30e-b42e0e91286a",
   "metadata": {},
   "outputs": [],
   "source": [
    "#4.Can keywords be used as variable names?\n",
    "\n",
    "    #- No, keywords cannot be used as variable names in Python. Because, Keywords are reserved words that have special meaning in Python’s syntax. Using them as variable names would cause syntax errors because the interpreter expects them to behave according to their predefined roles."
   ]
  },
  {
   "cell_type": "code",
   "execution_count": null,
   "id": "636eb918-6808-4e9d-b58d-555593921dbe",
   "metadata": {},
   "outputs": [],
   "source": [
    "#5.What is mutability in Python?\n",
    "\n",
    "    #- In Python, objects can be either changeable (modifiable) or unchangeable (unmodifiable). Mutable objects, such as lists and dictionaries, can be modified after creation. "
   ]
  },
  {
   "cell_type": "code",
   "execution_count": null,
   "id": "8d014d18-5c4d-4117-85a9-d8cf85353958",
   "metadata": {},
   "outputs": [],
   "source": [
    "#6.Why are lists mutable, but tuples are immutable?\n",
    "\n",
    "    #- Lists are designed to be flexible containers for items that may change over time.\n",
    "     #- Tuples are used when you want to ensure the data remains constant, such as keys in dictionaries or fixed collections.     "
   ]
  },
  {
   "cell_type": "code",
   "execution_count": null,
   "id": "73c28e6f-e31f-40ab-8df6-00b484d49d5f",
   "metadata": {},
   "outputs": [],
   "source": [
    "#7.What is the difference between “==” and “is” operators in Python?\n",
    "\n",
    "    #- In Python, == and is are both comparison operators, but they serve very different purposes:\n",
    "    #Equality operator(==):-\n",
    "             #- Checks if two values are equal.\n",
    "             #- Compares the contents or values of the objects.\n",
    "    #Identity operator(is):-\n",
    "             #- Checks if two variables point to the same object in memory.\n",
    "             #- Compares the object identity, not the content."
   ]
  },
  {
   "cell_type": "code",
   "execution_count": null,
   "id": "8054bb6d-b45f-476e-99b5-f1b2bb44fcc2",
   "metadata": {},
   "outputs": [],
   "source": [
    "#8.What are logical operators in Python?\n",
    "\n",
    "    #- Operators are special symbols or keywords that are used to carry out specific actions on numbers or variables in Python expressions. \n",
    "    #- Python supports various types of operators, including arithmetic operators (+, -, *, /), comparison operators (==, !=, <, >), logical operators (and, or, not), assignment operators (=, +=, -=, *=, /=), etc.\n",
    "       #- Logical operators in Python are used to combine conditional statements (usually boolean expressions) and return True or False based on the logic."
   ]
  },
  {
   "cell_type": "code",
   "execution_count": null,
   "id": "7221f9aa-75b1-47c1-b664-16344a596373",
   "metadata": {},
   "outputs": [],
   "source": [
    "#9.What is type casting in Python?\n",
    "\n",
    "    #- Type casting, also referred to as type conversion, is the process of changing one data type to another in Python. \n",
    "    #- Python provides built-in functions for type casting, such as int(), float(), str(), list(), tuple(), dict(), etc.\n",
    "    #- Type casting is often necessary for performing arithmetic operations, data manipulation, and input/output operations in Python programs."
   ]
  },
  {
   "cell_type": "code",
   "execution_count": null,
   "id": "2e1fc2ee-c7c6-40c8-a697-5926585e5ee0",
   "metadata": {},
   "outputs": [],
   "source": [
    "#10.What is the difference between implicit and explicit type casting?\n",
    "\n",
    "    #- Implicit Type Casting:- It is done by the compiler, and there is no loss of information.\n",
    "    #- Explicit Type Casting:- It is done by the programmer, and there will be a loss of information.\n"
   ]
  },
  {
   "cell_type": "code",
   "execution_count": null,
   "id": "b02feba6-d9f8-4743-b1df-d0ad0ecbfd65",
   "metadata": {},
   "outputs": [],
   "source": [
    "#11.What is the purpose of conditional statements in Python?\n",
    "    #- The purpose of conditional statements in Python is to control the flow of program based on certain conditions. \n",
    "        #They allow the code to make decisions—to execute different blocks of code depending on whether a condition is true or false. \n",
    "        #Python supports various conditional statements such as if, elif (else if), and else to control the flow of execution."
   ]
  },
  {
   "cell_type": "code",
   "execution_count": null,
   "id": "b30388ff-3b53-482e-9006-70af0bb9d2cc",
   "metadata": {},
   "outputs": [],
   "source": [
    "#12.How does the elif statement work?\n",
    "    \n",
    "#- The elif (short for \"else if\") statement in Python is used to check multiple conditions in a sequence after an initial if condition.\n",
    "    \n",
    "#->> Working of elif statement:-\n",
    "    #i. Python checks the if condition first.\n",
    "    #ii. If the if condition is false, it moves to the elif condition.\n",
    "    #iii. If the elif is true, it executes that block and skips the rest.\n",
    "    #iv. One can have multiple elif clauses.\n",
    "    #v. If none of the if or elif conditions are true, and there's an else, the else block will execute."
   ]
  },
  {
   "cell_type": "code",
   "execution_count": null,
   "id": "04bcadbc-ee47-4541-b079-35ebe6373b68",
   "metadata": {},
   "outputs": [],
   "source": [
    "#13.What is the difference between for and while loops?\n",
    "\n",
    "    - #for loop->> For loop is used to iterate over a sequence(such as tuple, list or string). It can be used when we know exactly how many times we want to execute the loop.\n",
    "    - #while loop->> While loop is used to repeatedly execute a block of code as long as a certain condition is true. It can be used when we don't know how many times we need to execute the loop beforehead. "
   ]
  },
  {
   "cell_type": "code",
   "execution_count": null,
   "id": "71667b32-b920-48d7-9011-80139cb2445e",
   "metadata": {},
   "outputs": [],
   "source": [
    "#14.Describe a scenario where a while loop is more suitable than a for loop.\n",
    "\n",
    "    #- A while loop is more suitable than a for loop in scenarios where we don't know in advance how many times we need to repeat the loop- only we need to continue until a certain condition is met.\n",
    "\n",
    "    #- Example->>\n",
    "                "
   ]
  },
  {
   "cell_type": "code",
   "execution_count": 2,
   "id": "1e6b52c4-849d-4aa8-85ee-e11256795797",
   "metadata": {
    "scrolled": true
   },
   "outputs": [
    {
     "name": "stdin",
     "output_type": "stream",
     "text": [
      "enter your pin 2312\n"
     ]
    },
    {
     "name": "stdout",
     "output_type": "stream",
     "text": [
      "Incoorect pin. Try again.\n"
     ]
    },
    {
     "name": "stdin",
     "output_type": "stream",
     "text": [
      "Enter your PIN:  45365\n"
     ]
    },
    {
     "name": "stdout",
     "output_type": "stream",
     "text": [
      "Incoorect pin. Try again.\n"
     ]
    },
    {
     "name": "stdin",
     "output_type": "stream",
     "text": [
      "Enter your PIN:  4234\n"
     ]
    },
    {
     "name": "stdout",
     "output_type": "stream",
     "text": [
      "Incoorect pin. Try again.\n"
     ]
    },
    {
     "name": "stdin",
     "output_type": "stream",
     "text": [
      "Enter your PIN:  2345\n"
     ]
    },
    {
     "name": "stdout",
     "output_type": "stream",
     "text": [
      "Incoorect pin. Try again.\n"
     ]
    },
    {
     "name": "stdin",
     "output_type": "stream",
     "text": [
      "Enter your PIN:  7890\n"
     ]
    },
    {
     "name": "stdout",
     "output_type": "stream",
     "text": [
      "Incoorect pin. Try again.\n"
     ]
    },
    {
     "name": "stdin",
     "output_type": "stream",
     "text": [
      "Enter your PIN:  4567\n"
     ]
    },
    {
     "name": "stdout",
     "output_type": "stream",
     "text": [
      "PIN accepted. Welcome!\n"
     ]
    }
   ],
   "source": [
    "### correct_pin = \"4567\"\n",
    "entered_pin = input(\"enter your pin\")\n",
    "while entered_pin != correct_pin:\n",
    "    print(\"Incoorect pin. Try again.\")\n",
    "    entered_pin = input(\"Enter your PIN: \")\n",
    "print(\"PIN accepted. Welcome!\")"
   ]
  },
  {
   "cell_type": "code",
   "execution_count": null,
   "id": "0f0fca77-301b-4d37-bc5d-3d38eef493fe",
   "metadata": {},
   "outputs": [],
   "source": [
    "##>>>>> PRACTICLE QUESTIONS"
   ]
  },
  {
   "cell_type": "code",
   "execution_count": 13,
   "id": "c3b1642b-85d5-42a6-a0af-9a2dc19af3d3",
   "metadata": {},
   "outputs": [
    {
     "name": "stdout",
     "output_type": "stream",
     "text": [
      "Hello World!\n"
     ]
    }
   ],
   "source": [
    "#1.Write a Python program to print \"Hello, World!\"\n",
    "\n",
    "print(\"Hello World!\")\n"
   ]
  },
  {
   "cell_type": "code",
   "execution_count": 44,
   "id": "2d6de230-0f88-41b5-86e3-74730c63597c",
   "metadata": {},
   "outputs": [
    {
     "name": "stdout",
     "output_type": "stream",
     "text": [
      "My name is Rajat\n",
      "My age is 26\n"
     ]
    }
   ],
   "source": [
    "#2.Write a Python program that displays your name and age.\n",
    "\n",
    "name = \"Rajat\"\n",
    "age=26\n",
    "\n",
    "print(\"My name is\", name)\n",
    "print(\"My age is\", age)"
   ]
  },
  {
   "cell_type": "code",
   "execution_count": 14,
   "id": "72202056-ba50-4713-bfed-f59ddb4a67f8",
   "metadata": {},
   "outputs": [
    {
     "name": "stdout",
     "output_type": "stream",
     "text": [
      "\n",
      "Here is a list of the Python keywords.  Enter any keyword to get more help.\n",
      "\n",
      "False               class               from                or\n",
      "None                continue            global              pass\n",
      "True                def                 if                  raise\n",
      "and                 del                 import              return\n",
      "as                  elif                in                  try\n",
      "assert              else                is                  while\n",
      "async               except              lambda              with\n",
      "await               finally             nonlocal            yield\n",
      "break               for                 not                 \n",
      "\n"
     ]
    }
   ],
   "source": [
    "#3.Write code to print all the pre-defined keywords in Python using the keyword library.\n",
    "\n",
    "help('keywords')"
   ]
  },
  {
   "cell_type": "code",
   "execution_count": 28,
   "id": "333267be-46c5-475f-9ff8-74faf528a753",
   "metadata": {},
   "outputs": [
    {
     "data": {
      "text/plain": [
       "['False',\n",
       " 'None',\n",
       " 'True',\n",
       " 'and',\n",
       " 'as',\n",
       " 'assert',\n",
       " 'async',\n",
       " 'await',\n",
       " 'break',\n",
       " 'class',\n",
       " 'continue',\n",
       " 'def',\n",
       " 'del',\n",
       " 'elif',\n",
       " 'else',\n",
       " 'except',\n",
       " 'finally',\n",
       " 'for',\n",
       " 'from',\n",
       " 'global',\n",
       " 'if',\n",
       " 'import',\n",
       " 'in',\n",
       " 'is',\n",
       " 'lambda',\n",
       " 'nonlocal',\n",
       " 'not',\n",
       " 'or',\n",
       " 'pass',\n",
       " 'raise',\n",
       " 'return',\n",
       " 'try',\n",
       " 'while',\n",
       " 'with',\n",
       " 'yield']"
      ]
     },
     "execution_count": 28,
     "metadata": {},
     "output_type": "execute_result"
    }
   ],
   "source": [
    "#or\n",
    "import keyword\n",
    "keyword.kwlist"
   ]
  },
  {
   "cell_type": "code",
   "execution_count": 20,
   "id": "b591622c-fdc8-4fda-82fa-7ae942331989",
   "metadata": {},
   "outputs": [
    {
     "name": "stdin",
     "output_type": "stream",
     "text": [
      "enter a word continue\n"
     ]
    },
    {
     "name": "stdout",
     "output_type": "stream",
     "text": [
      "This is a Python Keyword.\n"
     ]
    }
   ],
   "source": [
    "#4.Write a program that checks if a given word is a Python keyword.\n",
    "\n",
    "import keyword\n",
    "r=input(\"enter a word\")\n",
    "if keyword.iskeyword(r):\n",
    "    print(\"This is a Python Keyword.\")\n",
    "else:\n",
    "    print(\"This is not a Python Keyword\")"
   ]
  },
  {
   "cell_type": "code",
   "execution_count": 77,
   "id": "8b20e695-a195-49ea-91e0-366472e1eb27",
   "metadata": {},
   "outputs": [
    {
     "name": "stdout",
     "output_type": "stream",
     "text": [
      "modified list: [99, 20, 30, 78, 50]\n"
     ]
    },
    {
     "ename": "TypeError",
     "evalue": "'tuple' object does not support item assignment",
     "output_type": "error",
     "traceback": [
      "\u001b[31m---------------------------------------------------------------------------\u001b[39m",
      "\u001b[31mTypeError\u001b[39m                                 Traceback (most recent call last)",
      "\u001b[36mCell\u001b[39m\u001b[36m \u001b[39m\u001b[32mIn[77]\u001b[39m\u001b[32m, line 9\u001b[39m\n\u001b[32m      6\u001b[39m \u001b[38;5;28mprint\u001b[39m(\u001b[33m\"\u001b[39m\u001b[33mmodified list:\u001b[39m\u001b[33m\"\u001b[39m, my_list)\n\u001b[32m      8\u001b[39m my_tuple=(\u001b[32m10\u001b[39m, \u001b[32m20\u001b[39m, \u001b[32m30\u001b[39m, \u001b[32m40\u001b[39m, \u001b[32m50\u001b[39m)\n\u001b[32m----> \u001b[39m\u001b[32m9\u001b[39m \u001b[43mmy_tuple\u001b[49m\u001b[43m[\u001b[49m\u001b[32;43m1\u001b[39;49m\u001b[43m]\u001b[49m=\u001b[32m99\u001b[39m\n\u001b[32m     10\u001b[39m \u001b[38;5;28mprint\u001b[39m(\u001b[33m\"\u001b[39m\u001b[33mmodified tuple:\u001b[39m\u001b[33m\"\u001b[39m, my_tuple)\n",
      "\u001b[31mTypeError\u001b[39m: 'tuple' object does not support item assignment"
     ]
    }
   ],
   "source": [
    "#5. Create a list and tuple in Python, and demonstrate how attempting to change an element works differently for each.\n",
    "\n",
    "my_list=[10, 20, 30, 40, 50]\n",
    "my_list[0]=99\n",
    "my_list[3]=78\n",
    "print(\"modified list:\", my_list)\n",
    "\n",
    "my_tuple=(10, 20, 30, 40, 50)\n",
    "my_tuple[1]=99\n",
    "print(\"modified tuple:\", my_tuple)"
   ]
  },
  {
   "cell_type": "code",
   "execution_count": 34,
   "id": "fdfc63d5-a920-4568-8583-9a22429ffd09",
   "metadata": {},
   "outputs": [
    {
     "name": "stdout",
     "output_type": "stream",
     "text": [
      "[1, 'Ram', 5.3, 'Jocker', 65, 7, 0]\n"
     ]
    }
   ],
   "source": [
    "#6. Write a function to demonstrate the behavior of mutable and immutable arguments.\n",
    "\n",
    "##Mutable\n",
    "a=[1,\"Ram\", 5.3, \"Jocker\",65,7, 0]\n",
    "print(a)"
   ]
  },
  {
   "cell_type": "code",
   "execution_count": 35,
   "id": "08323769-1267-46de-a273-07c8e250f658",
   "metadata": {},
   "outputs": [
    {
     "data": {
      "text/plain": [
       "list"
      ]
     },
     "execution_count": 35,
     "metadata": {},
     "output_type": "execute_result"
    }
   ],
   "source": [
    "type(a)"
   ]
  },
  {
   "cell_type": "code",
   "execution_count": 42,
   "id": "94ccda9d-f6f9-4b90-997c-e46fd8987185",
   "metadata": {},
   "outputs": [
    {
     "name": "stdout",
     "output_type": "stream",
     "text": [
      "[1, 'Ram', 5.3, 'Jocker', 65, 7, 'Data']\n"
     ]
    }
   ],
   "source": [
    "a[6]=\"Data\"\n",
    "print(a)"
   ]
  },
  {
   "cell_type": "code",
   "execution_count": 43,
   "id": "ef341545-61a6-4feb-9079-796c7daa480b",
   "metadata": {},
   "outputs": [
    {
     "name": "stdout",
     "output_type": "stream",
     "text": [
      "(1, 'Shyam', 'Jog fall', 89, 12, 'science')\n"
     ]
    },
    {
     "data": {
      "text/plain": [
       "tuple"
      ]
     },
     "execution_count": 43,
     "metadata": {},
     "output_type": "execute_result"
    }
   ],
   "source": [
    "##Immutable\n",
    "\n",
    "a=(1, \"Shyam\", \"Jog fall\", 89, 12, \"science\")\n",
    "print(a)\n",
    "type(a)"
   ]
  },
  {
   "cell_type": "code",
   "execution_count": 1,
   "id": "092456c4-dd9c-4125-bed6-419713346b93",
   "metadata": {},
   "outputs": [
    {
     "ename": "NameError",
     "evalue": "name 'a' is not defined",
     "output_type": "error",
     "traceback": [
      "\u001b[31m---------------------------------------------------------------------------\u001b[39m",
      "\u001b[31mNameError\u001b[39m                                 Traceback (most recent call last)",
      "\u001b[36mCell\u001b[39m\u001b[36m \u001b[39m\u001b[32mIn[1]\u001b[39m\u001b[32m, line 1\u001b[39m\n\u001b[32m----> \u001b[39m\u001b[32m1\u001b[39m \u001b[43ma\u001b[49m[\u001b[32m5\u001b[39m]=\u001b[33m\"\u001b[39m\u001b[33mAnalyst\u001b[39m\u001b[33m\"\u001b[39m\n",
      "\u001b[31mNameError\u001b[39m: name 'a' is not defined"
     ]
    }
   ],
   "source": [
    "a[5]=\"Analyst\""
   ]
  },
  {
   "cell_type": "code",
   "execution_count": 2,
   "id": "e7939c47-6425-4330-8824-5afa6f297542",
   "metadata": {},
   "outputs": [
    {
     "name": "stdin",
     "output_type": "stream",
     "text": [
      "What is your salary? 34578\n",
      "What is your expenditure? 27880\n"
     ]
    },
    {
     "name": "stdout",
     "output_type": "stream",
     "text": [
      "Your savings is: 6698\n"
     ]
    }
   ],
   "source": [
    "#7. Write a program that performs basic arithmetic operations on two user-input numbers.\n",
    "\n",
    "a=int(input('What is your salary?',  ))\n",
    "b=int(input('What is your expenditure?',  ))\n",
    "result = a - b\n",
    "if result>0:\n",
    "    print(\"Your savings is:\", result)\n",
    "else:\n",
    "    print(\"Your monthly deficit is:\", result)"
   ]
  },
  {
   "cell_type": "code",
   "execution_count": 2,
   "id": "cde53945-39ae-4195-93f2-704a6702c660",
   "metadata": {},
   "outputs": [
    {
     "name": "stdin",
     "output_type": "stream",
     "text": [
      "What is your annual salary:  890000\n"
     ]
    },
    {
     "name": "stdout",
     "output_type": "stream",
     "text": [
      "You will have to pay 0% tax.\n"
     ]
    }
   ],
   "source": [
    "#8. Write a program to demonstrate the use of logical operators.\n",
    "\n",
    "salary=int(input(\"What is your annual salary: \"))\n",
    "if salary>900000 and salary<1200000:\n",
    "    print(\"You will have to pay 15% tax.\")\n",
    "elif not(salary>900000):\n",
    "    print(\"You will have to pay 0% tax.\")"
   ]
  },
  {
   "cell_type": "code",
   "execution_count": 6,
   "id": "d7df2118-a9ba-40e0-95ee-95632af37327",
   "metadata": {},
   "outputs": [
    {
     "name": "stdout",
     "output_type": "stream",
     "text": [
      "384400\n"
     ]
    },
    {
     "data": {
      "text/plain": [
       "str"
      ]
     },
     "execution_count": 6,
     "metadata": {},
     "output_type": "execute_result"
    }
   ],
   "source": [
    "#9.Write a Python program to convert user input from string to integer, float, and boolean types.\n",
    "\n",
    "moon = \"384400\"\n",
    "print(moon)\n",
    "type(moon)\n"
   ]
  },
  {
   "cell_type": "code",
   "execution_count": 5,
   "id": "b78c4083-229f-4cd2-8690-4ae2df4eb6e2",
   "metadata": {},
   "outputs": [
    {
     "data": {
      "text/plain": [
       "int"
      ]
     },
     "execution_count": 5,
     "metadata": {},
     "output_type": "execute_result"
    }
   ],
   "source": [
    "moon=int(moon)\n",
    "type(moon)"
   ]
  },
  {
   "cell_type": "code",
   "execution_count": 7,
   "id": "66e0984f-213e-421b-bfd0-572c2d0543a3",
   "metadata": {},
   "outputs": [
    {
     "name": "stdout",
     "output_type": "stream",
     "text": [
      "384400.0\n"
     ]
    },
    {
     "data": {
      "text/plain": [
       "float"
      ]
     },
     "execution_count": 7,
     "metadata": {},
     "output_type": "execute_result"
    }
   ],
   "source": [
    "moon =float(moon)\n",
    "print(moon)\n",
    "type(moon)"
   ]
  },
  {
   "cell_type": "code",
   "execution_count": 10,
   "id": "5ade6b23-19ae-4222-9eed-03dedd8aade5",
   "metadata": {},
   "outputs": [
    {
     "name": "stdout",
     "output_type": "stream",
     "text": [
      "True\n"
     ]
    },
    {
     "data": {
      "text/plain": [
       "bool"
      ]
     },
     "execution_count": 10,
     "metadata": {},
     "output_type": "execute_result"
    }
   ],
   "source": [
    "moon=bool(moon)\n",
    "print(moon)\n",
    "type(moon)"
   ]
  },
  {
   "cell_type": "code",
   "execution_count": 22,
   "id": "188945f6-6b3f-4022-9e59-6df49d291f85",
   "metadata": {},
   "outputs": [
    {
     "name": "stdout",
     "output_type": "stream",
     "text": [
      "Original string list: ['10', '20', '30', '40', '50']\n",
      "After casting to integer list: [10, 20, 30, 40, 50]\n",
      "After casting to float list: [10.0, 20.0, 30.0, 40.0, 50.0]\n",
      "New Original list: ['10.0', '20.0', '30.0', '40.0', '50.0']\n"
     ]
    }
   ],
   "source": [
    "#10. Write code to demonstrate type casting with list elements.\n",
    "\n",
    "str_list = [\"10\", \"20\", \"30\", \"40\", \"50\"]\n",
    "print(\"Original string list:\", str_list)\n",
    "\n",
    "\n",
    "int_list=[int(x) for x in str_list]\n",
    "print(\"After casting to integer list:\", int_list)\n",
    "\n",
    "float_list= [float(y)for y in int_list]\n",
    "print(\"After casting to float list:\", float_list)\n",
    "\n",
    "new_str_list= [str(z) for z in float_list]\n",
    "print(\"New Original list:\", new_str_list)\n",
    "\n"
   ]
  },
  {
   "cell_type": "code",
   "execution_count": 28,
   "id": "c09c88c8-080f-45ec-b514-a2082ca27371",
   "metadata": {},
   "outputs": [
    {
     "name": "stdin",
     "output_type": "stream",
     "text": [
      "Please enter a  number: 7.7\n"
     ]
    },
    {
     "name": "stdout",
     "output_type": "stream",
     "text": [
      "This is positive number\n"
     ]
    }
   ],
   "source": [
    "#11. Write a program that checks if a number is positive, negative, or zero.\n",
    "\n",
    "num=float(input(\"Please enter a  number:\",  ))\n",
    "if num>0:\n",
    "    print(\"This is positive number\")\n",
    "elif num<0:\n",
    "    print(\"This is negative number\")\n",
    "else:\n",
    "    print(\"This is zero\")"
   ]
  },
  {
   "cell_type": "code",
   "execution_count": 29,
   "id": "ce1abd5d-d1fd-48cc-95ce-0f887dc88d29",
   "metadata": {},
   "outputs": [
    {
     "name": "stdout",
     "output_type": "stream",
     "text": [
      "1\n",
      "2\n",
      "3\n",
      "4\n",
      "5\n",
      "6\n",
      "7\n",
      "8\n",
      "9\n",
      "10\n"
     ]
    }
   ],
   "source": [
    "#12. Write a for loop to print numbers from 1 to 10.\n",
    "\n",
    "n=11\n",
    "i=1\n",
    "while i<n:\n",
    "    print(i)\n",
    "    i=i+1"
   ]
  },
  {
   "cell_type": "code",
   "execution_count": 30,
   "id": "6325f404-567b-48bd-85cd-f90235caee87",
   "metadata": {},
   "outputs": [
    {
     "name": "stdout",
     "output_type": "stream",
     "text": [
      "1\n",
      "2\n",
      "3\n",
      "4\n",
      "5\n",
      "6\n",
      "7\n",
      "8\n",
      "9\n",
      "10\n"
     ]
    }
   ],
   "source": [
    "#OR\n",
    "\n",
    "for i in range(1,11):\n",
    "    print(i)"
   ]
  },
  {
   "cell_type": "code",
   "execution_count": 33,
   "id": "19c5c742-2455-4a88-8853-8347a767a6c8",
   "metadata": {},
   "outputs": [
    {
     "name": "stdout",
     "output_type": "stream",
     "text": [
      "Sum of even numbers from 1 to 50 is: 650\n"
     ]
    }
   ],
   "source": [
    "#13. Write a Python program to find the sum of all even numbers between 1 and 50.\n",
    "\n",
    "\n",
    "sum_even=0\n",
    "for i in range(1,51):\n",
    "    if i%2==0:\n",
    "        sum_even+=i\n",
    "print(\"Sum of even numbers from 1 to 50 is:\", sum_even)\n",
    "        "
   ]
  },
  {
   "cell_type": "code",
   "execution_count": 35,
   "id": "518cf7f7-6aed-4209-acf1-10f6f7b62684",
   "metadata": {},
   "outputs": [
    {
     "name": "stdin",
     "output_type": "stream",
     "text": [
      "Enter a string: Indian army is father of Pakistan.\n"
     ]
    },
    {
     "name": "stdout",
     "output_type": "stream",
     "text": [
      "Reversed string: .natsikaP fo rehtaf si ymra naidnI\n"
     ]
    }
   ],
   "source": [
    "#14. Write a program to reverse a string using a while loop.\n",
    "\n",
    "Original_string= input(\"Enter a string:\", )\n",
    "\n",
    "Reversed_string=\"\"\n",
    "i=len(Original_string)-1\n",
    "while i>=0:\n",
    "    Reversed_string += Original_string[i]\n",
    "    i-=1\n",
    "print(\"Reversed string:\", Reversed_string)"
   ]
  },
  {
   "cell_type": "code",
   "execution_count": 42,
   "id": "c80fd09d-89c6-4de5-bf3c-61d0bdf49b82",
   "metadata": {},
   "outputs": [
    {
     "name": "stdin",
     "output_type": "stream",
     "text": [
      "Enter a non-negative integer:  56\n"
     ]
    },
    {
     "name": "stdout",
     "output_type": "stream",
     "text": [
      "Factorial of 56 is: {710998587804863451854045647463724949736497978881168458687447040000000000000}\n"
     ]
    }
   ],
   "source": [
    "#15. Write a Python program to calculate the factorial of a number provided by the user using a while loop.\n",
    "\n",
    "num=int(input(\"Enter a non-negative integer: \"))\n",
    "\n",
    "if num<0:\n",
    "    print(\"Factorial is not defined for negative numbers.\")\n",
    "else:\n",
    "    factorial=1\n",
    "    i=1\n",
    "    while i<=num:\n",
    "        factorial*=i\n",
    "        i+=1\n",
    "    print(f\"Factorial of {num} is:\", {factorial})\n"
   ]
  }
 ],
 "metadata": {
  "kernelspec": {
   "display_name": "Python 3 (ipykernel)",
   "language": "python",
   "name": "python3"
  },
  "language_info": {
   "codemirror_mode": {
    "name": "ipython",
    "version": 3
   },
   "file_extension": ".py",
   "mimetype": "text/x-python",
   "name": "python",
   "nbconvert_exporter": "python",
   "pygments_lexer": "ipython3",
   "version": "3.13.3"
  }
 },
 "nbformat": 4,
 "nbformat_minor": 5
}
